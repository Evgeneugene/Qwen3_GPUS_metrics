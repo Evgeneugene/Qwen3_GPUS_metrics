[33mcommit e23600e3f61f0efe17b37f6f10ebdaaf4ffe2ad7[m
Author: Evgenii <evlevgenii@mail.ru>
Date:   Mon Sep 22 02:03:27 2025 +0000

    tesla t4 qwen 8b

[33mcommit 560c8115d254a0b1dfba2163fdf8d5b51471767e[m
Author: Evgenii <evlevgenii@mail.ru>
Date:   Mon Sep 22 01:10:07 2025 +0000

    t4 x2 4b

[33mcommit bdc02f1aeb03f43af2679f2707b08908b9e85499[m[33m ([m[1;31morigin/main[m[33m, [m[1;31morigin/HEAD[m[33m)[m
Author: Evgenii <evlevgenii@mail.ru>
Date:   Fri Sep 19 10:42:22 2025 +0000

    исправленные метрики на одной тесле Т4"

[33mcommit 54cb6ebc05173e6989d4f782f6925f823b6977db[m
Author: Evgenii <evlevgenii@mail.ru>
Date:   Fri Sep 19 09:39:24 2025 +0000

    убрал лишние 10 параллельных запросов. Обновил подсчет метрик

[33mcommit 340dde4abf6ebc2c61c6a4098ba3b3cf51de85f0[m
Author: Evgenii <evlevgenii@mail.ru>
Date:   Fri Sep 19 03:21:35 2025 +0000

    переименовал теслу на old и добавил еще метрик

[33mcommit 1fa7ac1ef8be3e39bce0710049c2fc7d42681f13[m
Author: Evgenii <evlevgenii@mail.ru>
Date:   Fri Sep 19 02:33:58 2025 +0300

    добавил еще моделей меньших размеров

[33mcommit b0a079a3e8aaa130d935ddd7f71d5f2cbaeacef1[m
Author: Evgenii <evlevgenii@mail.ru>
Date:   Fri Sep 19 01:16:31 2025 +0300

    поменял названия папок немного. Добавил суммаризацию тестовых файлов под разными размерами модели

[33mcommit b5aef774c998040f192df316dc5a747aa915e6d7[m
Author: Evgenii <evlevgenii@mail.ru>
Date:   Fri Sep 19 00:31:18 2025 +0300

    отдельно по каждому запросу добавил метрики

[33mcommit 4a9e699787b7e98e0fae6746c0c7faacce3dc151[m
Author: Evgenii <evlevgenii@mail.ru>
Date:   Thu Sep 18 23:50:24 2025 +0300

    тесты без отдельных метрик по каждму параллельному запросу

[33mcommit 2942ab728cee9b411041d7acf85bff56368e43a1[m
Author: Evgenii <evlevgenii@mail.ru>
Date:   Thu Sep 18 23:32:20 2025 +0300

    init
