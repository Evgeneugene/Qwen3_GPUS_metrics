{
 "cells": [
  {
   "cell_type": "code",
   "execution_count": 1,
   "id": "8fbd4a65",
   "metadata": {},
   "outputs": [
    {
     "name": "stdout",
     "output_type": "stream",
     "text": [
      "\u001b[01;34m.\u001b[0m\n",
      "├── \u001b[00m-tree -r <commit_hash> --name-only | grep speed_test.ipynb\u001b[0m\n",
      "├── \u001b[00meda.ipynb\u001b[0m\n",
      "├── \u001b[01;34minsights\u001b[0m\n",
      "│   ├── \u001b[00mgen_speed_vs_input.png\u001b[0m\n",
      "│   ├── \u001b[00mspeed_test_averages.csv\u001b[0m\n",
      "│   ├── \u001b[00mspeed_test_requests.csv\u001b[0m\n",
      "│   └── \u001b[00mttft_vs_input.png\u001b[0m\n",
      "├── \u001b[00minsights.ipynb\u001b[0m\n",
      "├── \u001b[00mnew_speed_test.ipynb\u001b[0m\n",
      "├── \u001b[00mold_speed_test.ipynb\u001b[0m\n",
      "├── \u001b[00mollama.ipynb\u001b[0m\n",
      "├── \u001b[00mollama_test_output.txt\u001b[0m\n",
      "├── \u001b[01;34mout\u001b[0m\n",
      "│   ├── \u001b[00mcomparison_table.csv\u001b[0m\n",
      "│   ├── \u001b[00mspeed_test_averages.csv\u001b[0m\n",
      "│   └── \u001b[00mspeed_test_requests.csv\u001b[0m\n",
      "├── \u001b[01;34mscripts\u001b[0m\n",
      "│   ├── \u001b[00mget_full_summary.py\u001b[0m\n",
      "│   ├── \u001b[00mget_speed_metrics.py\u001b[0m\n",
      "│   └── \u001b[00mrun_all_models.py\u001b[0m\n",
      "├── \u001b[00mspeed_test.ipynb\u001b[0m\n",
      "├── \u001b[01;34mspeed_tests\u001b[0m\n",
      "│   ├── \u001b[01;34mA2_x1\u001b[0m\n",
      "│   │   ├── \u001b[01;34mQwen3-0.6B\u001b[0m\n",
      "│   │   │   ├── \u001b[00m10000_length_1_parallel.txt\u001b[0m\n",
      "│   │   │   ├── \u001b[00m10000_length_2_parallel.txt\u001b[0m\n",
      "│   │   │   ├── \u001b[00m10000_length_5_parallel.txt\u001b[0m\n",
      "│   │   │   ├── \u001b[00m1000_length_1_parallel.txt\u001b[0m\n",
      "│   │   │   ├── \u001b[00m1000_length_2_parallel.txt\u001b[0m\n",
      "│   │   │   ├── \u001b[00m1000_length_5_parallel.txt\u001b[0m\n",
      "│   │   │   ├── \u001b[00m15000_length_1_parallel.txt\u001b[0m\n",
      "│   │   │   ├── \u001b[00m15000_length_2_parallel.txt\u001b[0m\n",
      "│   │   │   ├── \u001b[00m15000_length_5_parallel.txt\u001b[0m\n",
      "│   │   │   ├── \u001b[00m20000_length_1_parallel.txt\u001b[0m\n",
      "│   │   │   ├── \u001b[00m20000_length_2_parallel.txt\u001b[0m\n",
      "│   │   │   ├── \u001b[00m20000_length_5_parallel.txt\u001b[0m\n",
      "│   │   │   ├── \u001b[00m25000_length_1_parallel.txt\u001b[0m\n",
      "│   │   │   ├── \u001b[00m25000_length_2_parallel.txt\u001b[0m\n",
      "│   │   │   ├── \u001b[00m25000_length_5_parallel.txt\u001b[0m\n",
      "│   │   │   ├── \u001b[00m30000_length_1_parallel.txt\u001b[0m\n",
      "│   │   │   ├── \u001b[00m30000_length_2_parallel.txt\u001b[0m\n",
      "│   │   │   ├── \u001b[00m30000_length_5_parallel.txt\u001b[0m\n",
      "│   │   │   ├── \u001b[00m5000_length_1_parallel.txt\u001b[0m\n",
      "│   │   │   ├── \u001b[00m5000_length_2_parallel.txt\u001b[0m\n",
      "│   │   │   └── \u001b[00m5000_length_5_parallel.txt\u001b[0m\n",
      "│   │   ├── \u001b[01;34mQwen3-1.7B\u001b[0m\n",
      "│   │   │   ├── \u001b[00m10000_length_1_parallel.txt\u001b[0m\n",
      "│   │   │   ├── \u001b[00m10000_length_2_parallel.txt\u001b[0m\n",
      "│   │   │   ├── \u001b[00m10000_length_5_parallel.txt\u001b[0m\n",
      "│   │   │   ├── \u001b[00m1000_length_1_parallel.txt\u001b[0m\n",
      "│   │   │   ├── \u001b[00m1000_length_2_parallel.txt\u001b[0m\n",
      "│   │   │   ├── \u001b[00m1000_length_5_parallel.txt\u001b[0m\n",
      "│   │   │   ├── \u001b[00m15000_length_1_parallel.txt\u001b[0m\n",
      "│   │   │   ├── \u001b[00m15000_length_2_parallel.txt\u001b[0m\n",
      "│   │   │   ├── \u001b[00m15000_length_5_parallel.txt\u001b[0m\n",
      "│   │   │   ├── \u001b[00m20000_length_1_parallel.txt\u001b[0m\n",
      "│   │   │   ├── \u001b[00m20000_length_2_parallel.txt\u001b[0m\n",
      "│   │   │   ├── \u001b[00m20000_length_5_parallel.txt\u001b[0m\n",
      "│   │   │   ├── \u001b[00m25000_length_1_parallel.txt\u001b[0m\n",
      "│   │   │   ├── \u001b[00m25000_length_2_parallel.txt\u001b[0m\n",
      "│   │   │   ├── \u001b[00m25000_length_5_parallel.txt\u001b[0m\n",
      "│   │   │   ├── \u001b[00m30000_length_1_parallel.txt\u001b[0m\n",
      "│   │   │   ├── \u001b[00m30000_length_2_parallel.txt\u001b[0m\n",
      "│   │   │   ├── \u001b[00m30000_length_5_parallel.txt\u001b[0m\n",
      "│   │   │   ├── \u001b[00m5000_length_1_parallel.txt\u001b[0m\n",
      "│   │   │   ├── \u001b[00m5000_length_2_parallel.txt\u001b[0m\n",
      "│   │   │   └── \u001b[00m5000_length_5_parallel.txt\u001b[0m\n",
      "│   │   ├── \u001b[01;34mQwen3-4B\u001b[0m\n",
      "│   │   │   ├── \u001b[00m10000_length_1_parallel.txt\u001b[0m\n",
      "│   │   │   ├── \u001b[00m10000_length_2_parallel.txt\u001b[0m\n",
      "│   │   │   ├── \u001b[00m10000_length_5_parallel.txt\u001b[0m\n",
      "│   │   │   ├── \u001b[00m1000_length_1_parallel.txt\u001b[0m\n",
      "│   │   │   ├── \u001b[00m1000_length_2_parallel.txt\u001b[0m\n",
      "│   │   │   ├── \u001b[00m1000_length_5_parallel.txt\u001b[0m\n",
      "│   │   │   ├── \u001b[00m15000_length_1_parallel.txt\u001b[0m\n",
      "│   │   │   ├── \u001b[00m15000_length_2_parallel.txt\u001b[0m\n",
      "│   │   │   ├── \u001b[00m15000_length_5_parallel.txt\u001b[0m\n",
      "│   │   │   ├── \u001b[00m20000_length_1_parallel.txt\u001b[0m\n",
      "│   │   │   ├── \u001b[00m20000_length_2_parallel.txt\u001b[0m\n",
      "│   │   │   ├── \u001b[00m20000_length_5_parallel.txt\u001b[0m\n",
      "│   │   │   ├── \u001b[00m25000_length_1_parallel.txt\u001b[0m\n",
      "│   │   │   ├── \u001b[00m25000_length_2_parallel.txt\u001b[0m\n",
      "│   │   │   ├── \u001b[00m25000_length_5_parallel.txt\u001b[0m\n",
      "│   │   │   ├── \u001b[00m30000_length_1_parallel.txt\u001b[0m\n",
      "│   │   │   ├── \u001b[00m30000_length_2_parallel.txt\u001b[0m\n",
      "│   │   │   ├── \u001b[00m30000_length_5_parallel.txt\u001b[0m\n",
      "│   │   │   ├── \u001b[00m5000_length_1_parallel.txt\u001b[0m\n",
      "│   │   │   ├── \u001b[00m5000_length_2_parallel.txt\u001b[0m\n",
      "│   │   │   └── \u001b[00m5000_length_5_parallel.txt\u001b[0m\n",
      "│   │   ├── \u001b[01;34mQwen3-8B-AWQ\u001b[0m\n",
      "│   │   │   ├── \u001b[00m10000_length_1_parallel.txt\u001b[0m\n",
      "│   │   │   ├── \u001b[00m10000_length_2_parallel.txt\u001b[0m\n",
      "│   │   │   ├── \u001b[00m10000_length_5_parallel.txt\u001b[0m\n",
      "│   │   │   ├── \u001b[00m1000_length_1_parallel.txt\u001b[0m\n",
      "│   │   │   ├── \u001b[00m1000_length_2_parallel.txt\u001b[0m\n",
      "│   │   │   ├── \u001b[00m1000_length_5_parallel.txt\u001b[0m\n",
      "│   │   │   ├── \u001b[00m15000_length_1_parallel.txt\u001b[0m\n",
      "│   │   │   ├── \u001b[00m15000_length_2_parallel.txt\u001b[0m\n",
      "│   │   │   ├── \u001b[00m15000_length_5_parallel.txt\u001b[0m\n",
      "│   │   │   ├── \u001b[00m20000_length_1_parallel.txt\u001b[0m\n",
      "│   │   │   ├── \u001b[00m20000_length_2_parallel.txt\u001b[0m\n",
      "│   │   │   ├── \u001b[00m20000_length_5_parallel.txt\u001b[0m\n",
      "│   │   │   ├── \u001b[00m25000_length_1_parallel.txt\u001b[0m\n",
      "│   │   │   ├── \u001b[00m25000_length_2_parallel.txt\u001b[0m\n",
      "│   │   │   ├── \u001b[00m25000_length_5_parallel.txt\u001b[0m\n",
      "│   │   │   ├── \u001b[00m30000_length_1_parallel.txt\u001b[0m\n",
      "│   │   │   ├── \u001b[00m30000_length_2_parallel.txt\u001b[0m\n",
      "│   │   │   ├── \u001b[00m30000_length_5_parallel.txt\u001b[0m\n",
      "│   │   │   ├── \u001b[00m5000_length_1_parallel.txt\u001b[0m\n",
      "│   │   │   ├── \u001b[00m5000_length_2_parallel.txt\u001b[0m\n",
      "│   │   │   └── \u001b[00m5000_length_5_parallel.txt\u001b[0m\n",
      "│   │   ├── \u001b[01;34mqwen3-14b\u001b[0m\n",
      "│   │   │   ├── \u001b[00m10000_length_1_parallel.txt\u001b[0m\n",
      "│   │   │   ├── \u001b[00m10000_length_2_parallel.txt\u001b[0m\n",
      "│   │   │   ├── \u001b[00m10000_length_5_parallel.txt\u001b[0m\n",
      "│   │   │   ├── \u001b[00m1000_length_1_parallel.txt\u001b[0m\n",
      "│   │   │   ├── \u001b[00m1000_length_2_parallel.txt\u001b[0m\n",
      "│   │   │   ├── \u001b[00m1000_length_5_parallel.txt\u001b[0m\n",
      "│   │   │   ├── \u001b[00m15000_length_1_parallel.txt\u001b[0m\n",
      "│   │   │   ├── \u001b[00m20000_length_1_parallel.txt\u001b[0m\n",
      "│   │   │   ├── \u001b[00m25000_length_1_parallel.txt\u001b[0m\n",
      "│   │   │   ├── \u001b[00m30000_length_1_parallel.txt\u001b[0m\n",
      "│   │   │   ├── \u001b[00m5000_length_1_parallel.txt\u001b[0m\n",
      "│   │   │   ├── \u001b[00m5000_length_2_parallel.txt\u001b[0m\n",
      "│   │   │   └── \u001b[00m5000_length_5_parallel.txt\u001b[0m\n",
      "│   │   └── \u001b[01;34mqwen3-8b\u001b[0m\n",
      "│   │       ├── \u001b[00m10000_length_1_parallel.txt\u001b[0m\n",
      "│   │       ├── \u001b[00m10000_length_2_parallel.txt\u001b[0m\n",
      "│   │       ├── \u001b[00m1000_length_1_parallel.txt\u001b[0m\n",
      "│   │       ├── \u001b[00m1000_length_2_parallel.txt\u001b[0m\n",
      "│   │       ├── \u001b[00m1000_length_5_parallel.txt\u001b[0m\n",
      "│   │       ├── \u001b[00m15000_length_1_parallel.txt\u001b[0m\n",
      "│   │       ├── \u001b[00m20000_length_1_parallel.txt\u001b[0m\n",
      "│   │       ├── \u001b[00m25000_length_1_parallel.txt\u001b[0m\n",
      "│   │       ├── \u001b[00m30000_length_1_parallel.txt\u001b[0m\n",
      "│   │       ├── \u001b[00m5000_length_1_parallel.txt\u001b[0m\n",
      "│   │       ├── \u001b[00m5000_length_2_parallel.txt\u001b[0m\n",
      "│   │       └── \u001b[00m5000_length_5_parallel.txt\u001b[0m\n",
      "│   ├── \u001b[01;34mA2_x2\u001b[0m\n",
      "│   │   ├── \u001b[01;34mQwen3-0.6B\u001b[0m\n",
      "│   │   │   ├── \u001b[00m10000_length_1_parallel.txt\u001b[0m\n",
      "│   │   │   ├── \u001b[00m10000_length_2_parallel.txt\u001b[0m\n",
      "│   │   │   ├── \u001b[00m10000_length_5_parallel.txt\u001b[0m\n",
      "│   │   │   ├── \u001b[00m1000_length_1_parallel.txt\u001b[0m\n",
      "│   │   │   ├── \u001b[00m1000_length_2_parallel.txt\u001b[0m\n",
      "│   │   │   ├── \u001b[00m1000_length_5_parallel.txt\u001b[0m\n",
      "│   │   │   ├── \u001b[00m15000_length_1_parallel.txt\u001b[0m\n",
      "│   │   │   ├── \u001b[00m15000_length_2_parallel.txt\u001b[0m\n",
      "│   │   │   ├── \u001b[00m15000_length_5_parallel.txt\u001b[0m\n",
      "│   │   │   ├── \u001b[00m20000_length_1_parallel.txt\u001b[0m\n",
      "│   │   │   ├── \u001b[00m20000_length_2_parallel.txt\u001b[0m\n",
      "│   │   │   ├── \u001b[00m20000_length_5_parallel.txt\u001b[0m\n",
      "│   │   │   ├── \u001b[00m25000_length_1_parallel.txt\u001b[0m\n",
      "│   │   │   ├── \u001b[00m25000_length_2_parallel.txt\u001b[0m\n",
      "│   │   │   ├── \u001b[00m25000_length_5_parallel.txt\u001b[0m\n",
      "│   │   │   ├── \u001b[00m30000_length_1_parallel.txt\u001b[0m\n",
      "│   │   │   ├── \u001b[00m30000_length_2_parallel.txt\u001b[0m\n",
      "│   │   │   ├── \u001b[00m30000_length_5_parallel.txt\u001b[0m\n",
      "│   │   │   ├── \u001b[00m5000_length_1_parallel.txt\u001b[0m\n",
      "│   │   │   ├── \u001b[00m5000_length_2_parallel.txt\u001b[0m\n",
      "│   │   │   └── \u001b[00m5000_length_5_parallel.txt\u001b[0m\n",
      "│   │   ├── \u001b[01;34mQwen3-1.7B\u001b[0m\n",
      "│   │   │   ├── \u001b[00m10000_length_1_parallel.txt\u001b[0m\n",
      "│   │   │   ├── \u001b[00m10000_length_2_parallel.txt\u001b[0m\n",
      "│   │   │   ├── \u001b[00m10000_length_5_parallel.txt\u001b[0m\n",
      "│   │   │   ├── \u001b[00m1000_length_1_parallel.txt\u001b[0m\n",
      "│   │   │   ├── \u001b[00m1000_length_2_parallel.txt\u001b[0m\n",
      "│   │   │   ├── \u001b[00m1000_length_5_parallel.txt\u001b[0m\n",
      "│   │   │   ├── \u001b[00m15000_length_1_parallel.txt\u001b[0m\n",
      "│   │   │   ├── \u001b[00m15000_length_2_parallel.txt\u001b[0m\n",
      "│   │   │   ├── \u001b[00m15000_length_5_parallel.txt\u001b[0m\n",
      "│   │   │   ├── \u001b[00m20000_length_1_parallel.txt\u001b[0m\n",
      "│   │   │   ├── \u001b[00m20000_length_2_parallel.txt\u001b[0m\n",
      "│   │   │   ├── \u001b[00m20000_length_5_parallel.txt\u001b[0m\n",
      "│   │   │   ├── \u001b[00m25000_length_1_parallel.txt\u001b[0m\n",
      "│   │   │   ├── \u001b[00m25000_length_2_parallel.txt\u001b[0m\n",
      "│   │   │   ├── \u001b[00m25000_length_5_parallel.txt\u001b[0m\n",
      "│   │   │   ├── \u001b[00m30000_length_1_parallel.txt\u001b[0m\n",
      "│   │   │   ├── \u001b[00m30000_length_2_parallel.txt\u001b[0m\n",
      "│   │   │   ├── \u001b[00m30000_length_5_parallel.txt\u001b[0m\n",
      "│   │   │   ├── \u001b[00m5000_length_1_parallel.txt\u001b[0m\n",
      "│   │   │   ├── \u001b[00m5000_length_2_parallel.txt\u001b[0m\n",
      "│   │   │   └── \u001b[00m5000_length_5_parallel.txt\u001b[0m\n",
      "│   │   ├── \u001b[01;34mQwen3-14B-INT8\u001b[0m\n",
      "│   │   │   ├── \u001b[00m10000_length_1_parallel.txt\u001b[0m\n",
      "│   │   │   ├── \u001b[00m10000_length_2_parallel.txt\u001b[0m\n",
      "│   │   │   ├── \u001b[00m10000_length_5_parallel.txt\u001b[0m\n",
      "│   │   │   ├── \u001b[00m1000_length_1_parallel.txt\u001b[0m\n",
      "│   │   │   ├── \u001b[00m1000_length_2_parallel.txt\u001b[0m\n",
      "│   │   │   ├── \u001b[00m1000_length_5_parallel.txt\u001b[0m\n",
      "│   │   │   ├── \u001b[00m15000_length_1_parallel.txt\u001b[0m\n",
      "│   │   │   ├── \u001b[00m15000_length_2_parallel.txt\u001b[0m\n",
      "│   │   │   ├── \u001b[00m15000_length_5_parallel.txt\u001b[0m\n",
      "│   │   │   ├── \u001b[00m20000_length_1_parallel.txt\u001b[0m\n",
      "│   │   │   ├── \u001b[00m20000_length_2_parallel.txt\u001b[0m\n",
      "│   │   │   ├── \u001b[00m20000_length_5_parallel.txt\u001b[0m\n",
      "│   │   │   ├── \u001b[00m25000_length_1_parallel.txt\u001b[0m\n",
      "│   │   │   ├── \u001b[00m25000_length_2_parallel.txt\u001b[0m\n",
      "│   │   │   ├── \u001b[00m25000_length_5_parallel.txt\u001b[0m\n",
      "│   │   │   ├── \u001b[00m5000_length_1_parallel.txt\u001b[0m\n",
      "│   │   │   ├── \u001b[00m5000_length_2_parallel.txt\u001b[0m\n",
      "│   │   │   └── \u001b[00m5000_length_5_parallel.txt\u001b[0m\n",
      "│   │   ├── \u001b[01;34mQwen3-4B\u001b[0m\n",
      "│   │   │   ├── \u001b[00m10000_length_1_parallel.txt\u001b[0m\n",
      "│   │   │   ├── \u001b[00m10000_length_2_parallel.txt\u001b[0m\n",
      "│   │   │   ├── \u001b[00m10000_length_5_parallel.txt\u001b[0m\n",
      "│   │   │   ├── \u001b[00m1000_length_1_parallel.txt\u001b[0m\n",
      "│   │   │   ├── \u001b[00m1000_length_2_parallel.txt\u001b[0m\n",
      "│   │   │   ├── \u001b[00m1000_length_5_parallel.txt\u001b[0m\n",
      "│   │   │   ├── \u001b[00m15000_length_1_parallel.txt\u001b[0m\n",
      "│   │   │   ├── \u001b[00m15000_length_2_parallel.txt\u001b[0m\n",
      "│   │   │   ├── \u001b[00m15000_length_5_parallel.txt\u001b[0m\n",
      "│   │   │   ├── \u001b[00m20000_length_1_parallel.txt\u001b[0m\n",
      "│   │   │   ├── \u001b[00m20000_length_2_parallel.txt\u001b[0m\n",
      "│   │   │   ├── \u001b[00m20000_length_5_parallel.txt\u001b[0m\n",
      "│   │   │   ├── \u001b[00m25000_length_1_parallel.txt\u001b[0m\n",
      "│   │   │   ├── \u001b[00m25000_length_2_parallel.txt\u001b[0m\n",
      "│   │   │   ├── \u001b[00m25000_length_5_parallel.txt\u001b[0m\n",
      "│   │   │   ├── \u001b[00m30000_length_1_parallel.txt\u001b[0m\n",
      "│   │   │   ├── \u001b[00m30000_length_2_parallel.txt\u001b[0m\n",
      "│   │   │   ├── \u001b[00m30000_length_5_parallel.txt\u001b[0m\n",
      "│   │   │   ├── \u001b[00m5000_length_1_parallel.txt\u001b[0m\n",
      "│   │   │   ├── \u001b[00m5000_length_2_parallel.txt\u001b[0m\n",
      "│   │   │   └── \u001b[00m5000_length_5_parallel.txt\u001b[0m\n",
      "│   │   └── \u001b[01;34mQwen3-8B\u001b[0m\n",
      "│   │       ├── \u001b[00m10000_length_1_parallel.txt\u001b[0m\n",
      "│   │       ├── \u001b[00m10000_length_2_parallel.txt\u001b[0m\n",
      "│   │       ├── \u001b[00m10000_length_5_parallel.txt\u001b[0m\n",
      "│   │       ├── \u001b[00m1000_length_1_parallel.txt\u001b[0m\n",
      "│   │       ├── \u001b[00m1000_length_2_parallel.txt\u001b[0m\n",
      "│   │       ├── \u001b[00m1000_length_5_parallel.txt\u001b[0m\n",
      "│   │       ├── \u001b[00m15000_length_1_parallel.txt\u001b[0m\n",
      "│   │       ├── \u001b[00m15000_length_2_parallel.txt\u001b[0m\n",
      "│   │       ├── \u001b[00m15000_length_5_parallel.txt\u001b[0m\n",
      "│   │       ├── \u001b[00m20000_length_1_parallel.txt\u001b[0m\n",
      "│   │       ├── \u001b[00m20000_length_2_parallel.txt\u001b[0m\n",
      "│   │       ├── \u001b[00m20000_length_5_parallel.txt\u001b[0m\n",
      "│   │       ├── \u001b[00m25000_length_1_parallel.txt\u001b[0m\n",
      "│   │       ├── \u001b[00m25000_length_2_parallel.txt\u001b[0m\n",
      "│   │       ├── \u001b[00m25000_length_5_parallel.txt\u001b[0m\n",
      "│   │       ├── \u001b[00m30000_length_1_parallel.txt\u001b[0m\n",
      "│   │       ├── \u001b[00m30000_length_2_parallel.txt\u001b[0m\n",
      "│   │       ├── \u001b[00m30000_length_5_parallel.txt\u001b[0m\n",
      "│   │       ├── \u001b[00m5000_length_1_parallel.txt\u001b[0m\n",
      "│   │       ├── \u001b[00m5000_length_2_parallel.txt\u001b[0m\n",
      "│   │       └── \u001b[00m5000_length_5_parallel.txt\u001b[0m\n",
      "│   ├── \u001b[01;34mT2_x1\u001b[0m\n",
      "│   │   ├── \u001b[01;34mQwen3-0.6B\u001b[0m\n",
      "│   │   │   ├── \u001b[00m10000_length_1_parallel.txt\u001b[0m\n",
      "│   │   │   ├── \u001b[00m10000_length_2_parallel.txt\u001b[0m\n",
      "│   │   │   ├── \u001b[00m10000_length_5_parallel.txt\u001b[0m\n",
      "│   │   │   ├── \u001b[00m1000_length_1_parallel.txt\u001b[0m\n",
      "│   │   │   ├── \u001b[00m1000_length_2_parallel.txt\u001b[0m\n",
      "│   │   │   ├── \u001b[00m1000_length_5_parallel.txt\u001b[0m\n",
      "│   │   │   ├── \u001b[00m15000_length_1_parallel.txt\u001b[0m\n",
      "│   │   │   ├── \u001b[00m15000_length_2_parallel.txt\u001b[0m\n",
      "│   │   │   ├── \u001b[00m15000_length_5_parallel.txt\u001b[0m\n",
      "│   │   │   ├── \u001b[00m20000_length_1_parallel.txt\u001b[0m\n",
      "│   │   │   ├── \u001b[00m20000_length_2_parallel.txt\u001b[0m\n",
      "│   │   │   ├── \u001b[00m20000_length_5_parallel.txt\u001b[0m\n",
      "│   │   │   ├── \u001b[00m25000_length_1_parallel.txt\u001b[0m\n",
      "│   │   │   ├── \u001b[00m25000_length_2_parallel.txt\u001b[0m\n",
      "│   │   │   ├── \u001b[00m25000_length_5_parallel.txt\u001b[0m\n",
      "│   │   │   ├── \u001b[00m30000_length_1_parallel.txt\u001b[0m\n",
      "│   │   │   ├── \u001b[00m30000_length_2_parallel.txt\u001b[0m\n",
      "│   │   │   ├── \u001b[00m30000_length_5_parallel.txt\u001b[0m\n",
      "│   │   │   ├── \u001b[00m5000_length_1_parallel.txt\u001b[0m\n",
      "│   │   │   ├── \u001b[00m5000_length_2_parallel.txt\u001b[0m\n",
      "│   │   │   └── \u001b[00m5000_length_5_parallel.txt\u001b[0m\n",
      "│   │   ├── \u001b[01;34mQwen3-1.7B\u001b[0m\n",
      "│   │   │   ├── \u001b[00m10000_length_1_parallel.txt\u001b[0m\n",
      "│   │   │   ├── \u001b[00m10000_length_2_parallel.txt\u001b[0m\n",
      "│   │   │   ├── \u001b[00m10000_length_5_parallel.txt\u001b[0m\n",
      "│   │   │   ├── \u001b[00m1000_length_1_parallel.txt\u001b[0m\n",
      "│   │   │   ├── \u001b[00m1000_length_2_parallel.txt\u001b[0m\n",
      "│   │   │   ├── \u001b[00m1000_length_5_parallel.txt\u001b[0m\n",
      "│   │   │   ├── \u001b[00m15000_length_1_parallel.txt\u001b[0m\n",
      "│   │   │   ├── \u001b[00m15000_length_2_parallel.txt\u001b[0m\n",
      "│   │   │   ├── \u001b[00m15000_length_5_parallel.txt\u001b[0m\n",
      "│   │   │   ├── \u001b[00m20000_length_1_parallel.txt\u001b[0m\n",
      "│   │   │   ├── \u001b[00m20000_length_2_parallel.txt\u001b[0m\n",
      "│   │   │   ├── \u001b[00m20000_length_5_parallel.txt\u001b[0m\n",
      "│   │   │   ├── \u001b[00m25000_length_1_parallel.txt\u001b[0m\n",
      "│   │   │   ├── \u001b[00m25000_length_2_parallel.txt\u001b[0m\n",
      "│   │   │   ├── \u001b[00m25000_length_5_parallel.txt\u001b[0m\n",
      "│   │   │   ├── \u001b[00m30000_length_1_parallel.txt\u001b[0m\n",
      "│   │   │   ├── \u001b[00m30000_length_2_parallel.txt\u001b[0m\n",
      "│   │   │   ├── \u001b[00m30000_length_5_parallel.txt\u001b[0m\n",
      "│   │   │   ├── \u001b[00m5000_length_1_parallel.txt\u001b[0m\n",
      "│   │   │   ├── \u001b[00m5000_length_2_parallel.txt\u001b[0m\n",
      "│   │   │   └── \u001b[00m5000_length_5_parallel.txt\u001b[0m\n",
      "│   │   ├── \u001b[01;34mQwen3-4B\u001b[0m\n",
      "│   │   │   ├── \u001b[00m10000_length_1_parallel.txt\u001b[0m\n",
      "│   │   │   ├── \u001b[00m10000_length_2_parallel.txt\u001b[0m\n",
      "│   │   │   ├── \u001b[00m10000_length_5_parallel.txt\u001b[0m\n",
      "│   │   │   ├── \u001b[00m1000_length_1_parallel.txt\u001b[0m\n",
      "│   │   │   ├── \u001b[00m1000_length_2_parallel.txt\u001b[0m\n",
      "│   │   │   ├── \u001b[00m1000_length_5_parallel.txt\u001b[0m\n",
      "│   │   │   ├── \u001b[00m15000_length_1_parallel.txt\u001b[0m\n",
      "│   │   │   ├── \u001b[00m15000_length_2_parallel.txt\u001b[0m\n",
      "│   │   │   ├── \u001b[00m15000_length_5_parallel.txt\u001b[0m\n",
      "│   │   │   ├── \u001b[00m20000_length_1_parallel.txt\u001b[0m\n",
      "│   │   │   ├── \u001b[00m20000_length_2_parallel.txt\u001b[0m\n",
      "│   │   │   ├── \u001b[00m20000_length_5_parallel.txt\u001b[0m\n",
      "│   │   │   ├── \u001b[00m25000_length_1_parallel.txt\u001b[0m\n",
      "│   │   │   ├── \u001b[00m25000_length_2_parallel.txt\u001b[0m\n",
      "│   │   │   ├── \u001b[00m25000_length_5_parallel.txt\u001b[0m\n",
      "│   │   │   ├── \u001b[00m5000_length_1_parallel.txt\u001b[0m\n",
      "│   │   │   ├── \u001b[00m5000_length_2_parallel.txt\u001b[0m\n",
      "│   │   │   └── \u001b[00m5000_length_5_parallel.txt\u001b[0m\n",
      "│   │   └── \u001b[01;34mQwen3-8B-AWQ\u001b[0m\n",
      "│   │       ├── \u001b[00m10000_length_1_parallel.txt\u001b[0m\n",
      "│   │       ├── \u001b[00m10000_length_2_parallel.txt\u001b[0m\n",
      "│   │       ├── \u001b[00m10000_length_5_parallel.txt\u001b[0m\n",
      "│   │       ├── \u001b[00m1000_length_1_parallel.txt\u001b[0m\n",
      "│   │       ├── \u001b[00m1000_length_2_parallel.txt\u001b[0m\n",
      "│   │       ├── \u001b[00m1000_length_5_parallel.txt\u001b[0m\n",
      "│   │       ├── \u001b[00m15000_length_1_parallel.txt\u001b[0m\n",
      "│   │       ├── \u001b[00m15000_length_2_parallel.txt\u001b[0m\n",
      "│   │       ├── \u001b[00m15000_length_5_parallel.txt\u001b[0m\n",
      "│   │       ├── \u001b[00m20000_length_1_parallel.txt\u001b[0m\n",
      "│   │       ├── \u001b[00m20000_length_2_parallel.txt\u001b[0m\n",
      "│   │       ├── \u001b[00m20000_length_5_parallel.txt\u001b[0m\n",
      "│   │       ├── \u001b[00m25000_length_1_parallel.txt\u001b[0m\n",
      "│   │       ├── \u001b[00m25000_length_2_parallel.txt\u001b[0m\n",
      "│   │       ├── \u001b[00m25000_length_5_parallel.txt\u001b[0m\n",
      "│   │       ├── \u001b[00m29000_length_1_parallel.txt\u001b[0m\n",
      "│   │       ├── \u001b[00m29000_length_2_parallel.txt\u001b[0m\n",
      "│   │       ├── \u001b[00m29000_length_5_parallel.txt\u001b[0m\n",
      "│   │       ├── \u001b[00m5000_length_1_parallel.txt\u001b[0m\n",
      "│   │       ├── \u001b[00m5000_length_2_parallel.txt\u001b[0m\n",
      "│   │       └── \u001b[00m5000_length_5_parallel.txt\u001b[0m\n",
      "│   ├── \u001b[01;34mT2_x2\u001b[0m\n",
      "│   │   ├── \u001b[01;34mQwen3-0.6B\u001b[0m\n",
      "│   │   │   ├── \u001b[00m10000_length_1_parallel.txt\u001b[0m\n",
      "│   │   │   ├── \u001b[00m10000_length_2_parallel.txt\u001b[0m\n",
      "│   │   │   ├── \u001b[00m10000_length_5_parallel.txt\u001b[0m\n",
      "│   │   │   ├── \u001b[00m1000_length_1_parallel.txt\u001b[0m\n",
      "│   │   │   ├── \u001b[00m1000_length_2_parallel.txt\u001b[0m\n",
      "│   │   │   ├── \u001b[00m1000_length_5_parallel.txt\u001b[0m\n",
      "│   │   │   ├── \u001b[00m15000_length_1_parallel.txt\u001b[0m\n",
      "│   │   │   ├── \u001b[00m15000_length_2_parallel.txt\u001b[0m\n",
      "│   │   │   ├── \u001b[00m15000_length_5_parallel.txt\u001b[0m\n",
      "│   │   │   ├── \u001b[00m20000_length_1_parallel.txt\u001b[0m\n",
      "│   │   │   ├── \u001b[00m20000_length_2_parallel.txt\u001b[0m\n",
      "│   │   │   ├── \u001b[00m20000_length_5_parallel.txt\u001b[0m\n",
      "│   │   │   ├── \u001b[00m25000_length_1_parallel.txt\u001b[0m\n",
      "│   │   │   ├── \u001b[00m25000_length_2_parallel.txt\u001b[0m\n",
      "│   │   │   ├── \u001b[00m25000_length_5_parallel.txt\u001b[0m\n",
      "│   │   │   ├── \u001b[00m30000_length_1_parallel.txt\u001b[0m\n",
      "│   │   │   ├── \u001b[00m30000_length_2_parallel.txt\u001b[0m\n",
      "│   │   │   ├── \u001b[00m30000_length_5_parallel.txt\u001b[0m\n",
      "│   │   │   ├── \u001b[00m5000_length_1_parallel.txt\u001b[0m\n",
      "│   │   │   ├── \u001b[00m5000_length_2_parallel.txt\u001b[0m\n",
      "│   │   │   └── \u001b[00m5000_length_5_parallel.txt\u001b[0m\n",
      "│   │   ├── \u001b[01;34mQwen3-1.7B\u001b[0m\n",
      "│   │   │   ├── \u001b[00m10000_length_1_parallel.txt\u001b[0m\n",
      "│   │   │   ├── \u001b[00m10000_length_2_parallel.txt\u001b[0m\n",
      "│   │   │   ├── \u001b[00m10000_length_5_parallel.txt\u001b[0m\n",
      "│   │   │   ├── \u001b[00m1000_length_1_parallel.txt\u001b[0m\n",
      "│   │   │   ├── \u001b[00m1000_length_2_parallel.txt\u001b[0m\n",
      "│   │   │   ├── \u001b[00m1000_length_5_parallel.txt\u001b[0m\n",
      "│   │   │   ├── \u001b[00m15000_length_1_parallel.txt\u001b[0m\n",
      "│   │   │   ├── \u001b[00m15000_length_2_parallel.txt\u001b[0m\n",
      "│   │   │   ├── \u001b[00m15000_length_5_parallel.txt\u001b[0m\n",
      "│   │   │   ├── \u001b[00m20000_length_1_parallel.txt\u001b[0m\n",
      "│   │   │   ├── \u001b[00m20000_length_2_parallel.txt\u001b[0m\n",
      "│   │   │   ├── \u001b[00m20000_length_5_parallel.txt\u001b[0m\n",
      "│   │   │   ├── \u001b[00m25000_length_1_parallel.txt\u001b[0m\n",
      "│   │   │   ├── \u001b[00m25000_length_2_parallel.txt\u001b[0m\n",
      "│   │   │   ├── \u001b[00m25000_length_5_parallel.txt\u001b[0m\n",
      "│   │   │   ├── \u001b[00m30000_length_1_parallel.txt\u001b[0m\n",
      "│   │   │   ├── \u001b[00m30000_length_2_parallel.txt\u001b[0m\n",
      "│   │   │   ├── \u001b[00m30000_length_5_parallel.txt\u001b[0m\n",
      "│   │   │   ├── \u001b[00m5000_length_1_parallel.txt\u001b[0m\n",
      "│   │   │   ├── \u001b[00m5000_length_2_parallel.txt\u001b[0m\n",
      "│   │   │   └── \u001b[00m5000_length_5_parallel.txt\u001b[0m\n",
      "│   │   ├── \u001b[01;34mQwen3-14B-INT8\u001b[0m\n",
      "│   │   │   ├── \u001b[00m10000_length_1_parallel.txt\u001b[0m\n",
      "│   │   │   ├── \u001b[00m10000_length_2_parallel.txt\u001b[0m\n",
      "│   │   │   ├── \u001b[00m10000_length_5_parallel.txt\u001b[0m\n",
      "│   │   │   ├── \u001b[00m1000_length_1_parallel.txt\u001b[0m\n",
      "│   │   │   ├── \u001b[00m1000_length_2_parallel.txt\u001b[0m\n",
      "│   │   │   ├── \u001b[00m1000_length_5_parallel.txt\u001b[0m\n",
      "│   │   │   ├── \u001b[00m15000_length_1_parallel.txt\u001b[0m\n",
      "│   │   │   ├── \u001b[00m15000_length_2_parallel.txt\u001b[0m\n",
      "│   │   │   ├── \u001b[00m15000_length_5_parallel.txt\u001b[0m\n",
      "│   │   │   ├── \u001b[00m20000_length_1_parallel.txt\u001b[0m\n",
      "│   │   │   ├── \u001b[00m20000_length_2_parallel.txt\u001b[0m\n",
      "│   │   │   ├── \u001b[00m20000_length_5_parallel.txt\u001b[0m\n",
      "│   │   │   ├── \u001b[00m25000_length_1_parallel.txt\u001b[0m\n",
      "│   │   │   ├── \u001b[00m25000_length_2_parallel.txt\u001b[0m\n",
      "│   │   │   ├── \u001b[00m25000_length_5_parallel.txt\u001b[0m\n",
      "│   │   │   ├── \u001b[00m30000_length_1_parallel.txt\u001b[0m\n",
      "│   │   │   ├── \u001b[00m30000_length_2_parallel.txt\u001b[0m\n",
      "│   │   │   ├── \u001b[00m30000_length_5_parallel.txt\u001b[0m\n",
      "│   │   │   ├── \u001b[00m5000_length_1_parallel.txt\u001b[0m\n",
      "│   │   │   ├── \u001b[00m5000_length_2_parallel.txt\u001b[0m\n",
      "│   │   │   └── \u001b[00m5000_length_5_parallel.txt\u001b[0m\n",
      "│   │   ├── \u001b[01;34mQwen3-4B\u001b[0m\n",
      "│   │   │   ├── \u001b[00m10000_length_1_parallel.txt\u001b[0m\n",
      "│   │   │   ├── \u001b[00m10000_length_2_parallel.txt\u001b[0m\n",
      "│   │   │   ├── \u001b[00m10000_length_5_parallel.txt\u001b[0m\n",
      "│   │   │   ├── \u001b[00m1000_length_1_parallel.txt\u001b[0m\n",
      "│   │   │   ├── \u001b[00m1000_length_2_parallel.txt\u001b[0m\n",
      "│   │   │   ├── \u001b[00m1000_length_5_parallel.txt\u001b[0m\n",
      "│   │   │   ├── \u001b[00m15000_length_1_parallel.txt\u001b[0m\n",
      "│   │   │   ├── \u001b[00m15000_length_2_parallel.txt\u001b[0m\n",
      "│   │   │   ├── \u001b[00m15000_length_5_parallel.txt\u001b[0m\n",
      "│   │   │   ├── \u001b[00m20000_length_1_parallel.txt\u001b[0m\n",
      "│   │   │   ├── \u001b[00m20000_length_2_parallel.txt\u001b[0m\n",
      "│   │   │   ├── \u001b[00m20000_length_5_parallel.txt\u001b[0m\n",
      "│   │   │   ├── \u001b[00m25000_length_1_parallel.txt\u001b[0m\n",
      "│   │   │   ├── \u001b[00m25000_length_2_parallel.txt\u001b[0m\n",
      "│   │   │   ├── \u001b[00m25000_length_5_parallel.txt\u001b[0m\n",
      "│   │   │   ├── \u001b[00m30000_length_1_parallel.txt\u001b[0m\n",
      "│   │   │   ├── \u001b[00m30000_length_2_parallel.txt\u001b[0m\n",
      "│   │   │   ├── \u001b[00m30000_length_5_parallel.txt\u001b[0m\n",
      "│   │   │   ├── \u001b[00m5000_length_1_parallel.txt\u001b[0m\n",
      "│   │   │   ├── \u001b[00m5000_length_2_parallel.txt\u001b[0m\n",
      "│   │   │   └── \u001b[00m5000_length_5_parallel.txt\u001b[0m\n",
      "│   │   └── \u001b[01;34mQwen3-8B\u001b[0m\n",
      "│   │       ├── \u001b[00m10000_length_1_parallel.txt\u001b[0m\n",
      "│   │       ├── \u001b[00m10000_length_2_parallel.txt\u001b[0m\n",
      "│   │       ├── \u001b[00m10000_length_5_parallel.txt\u001b[0m\n",
      "│   │       ├── \u001b[00m1000_length_1_parallel.txt\u001b[0m\n",
      "│   │       ├── \u001b[00m1000_length_2_parallel.txt\u001b[0m\n",
      "│   │       ├── \u001b[00m1000_length_5_parallel.txt\u001b[0m\n",
      "│   │       ├── \u001b[00m15000_length_1_parallel.txt\u001b[0m\n",
      "│   │       ├── \u001b[00m15000_length_2_parallel.txt\u001b[0m\n",
      "│   │       ├── \u001b[00m15000_length_5_parallel.txt\u001b[0m\n",
      "│   │       ├── \u001b[00m20000_length_1_parallel.txt\u001b[0m\n",
      "│   │       ├── \u001b[00m20000_length_2_parallel.txt\u001b[0m\n",
      "│   │       ├── \u001b[00m20000_length_5_parallel.txt\u001b[0m\n",
      "│   │       ├── \u001b[00m25000_length_1_parallel.txt\u001b[0m\n",
      "│   │       ├── \u001b[00m25000_length_2_parallel.txt\u001b[0m\n",
      "│   │       ├── \u001b[00m25000_length_5_parallel.txt\u001b[0m\n",
      "│   │       ├── \u001b[00m30000_length_1_parallel.txt\u001b[0m\n",
      "│   │       ├── \u001b[00m30000_length_2_parallel.txt\u001b[0m\n",
      "│   │       ├── \u001b[00m30000_length_5_parallel.txt\u001b[0m\n",
      "│   │       ├── \u001b[00m5000_length_1_parallel.txt\u001b[0m\n",
      "│   │       ├── \u001b[00m5000_length_2_parallel.txt\u001b[0m\n",
      "│   │       └── \u001b[00m5000_length_5_parallel.txt\u001b[0m\n",
      "│   └── \u001b[01;34mT4_x4\u001b[0m\n",
      "│       ├── \u001b[01;34mQwen3-14B\u001b[0m\n",
      "│       │   ├── \u001b[00m10000_length_1_parallel.txt\u001b[0m\n",
      "│       │   ├── \u001b[00m10000_length_2_parallel.txt\u001b[0m\n",
      "│       │   ├── \u001b[00m10000_length_5_parallel.txt\u001b[0m\n",
      "│       │   ├── \u001b[00m1000_length_1_parallel.txt\u001b[0m\n",
      "│       │   ├── \u001b[00m1000_length_2_parallel.txt\u001b[0m\n",
      "│       │   ├── \u001b[00m1000_length_5_parallel.txt\u001b[0m\n",
      "│       │   ├── \u001b[00m15000_length_1_parallel.txt\u001b[0m\n",
      "│       │   ├── \u001b[00m15000_length_2_parallel.txt\u001b[0m\n",
      "│       │   ├── \u001b[00m15000_length_5_parallel.txt\u001b[0m\n",
      "│       │   ├── \u001b[00m20000_length_1_parallel.txt\u001b[0m\n",
      "│       │   ├── \u001b[00m20000_length_2_parallel.txt\u001b[0m\n",
      "│       │   ├── \u001b[00m20000_length_5_parallel.txt\u001b[0m\n",
      "│       │   ├── \u001b[00m25000_length_1_parallel.txt\u001b[0m\n",
      "│       │   ├── \u001b[00m25000_length_2_parallel.txt\u001b[0m\n",
      "│       │   ├── \u001b[00m25000_length_5_parallel.txt\u001b[0m\n",
      "│       │   ├── \u001b[00m30000_length_1_parallel.txt\u001b[0m\n",
      "│       │   ├── \u001b[00m30000_length_2_parallel.txt\u001b[0m\n",
      "│       │   ├── \u001b[00m30000_length_5_parallel.txt\u001b[0m\n",
      "│       │   ├── \u001b[00m5000_length_1_parallel.txt\u001b[0m\n",
      "│       │   ├── \u001b[00m5000_length_2_parallel.txt\u001b[0m\n",
      "│       │   └── \u001b[00m5000_length_5_parallel.txt\u001b[0m\n",
      "│       ├── \u001b[01;34mQwen3-32B-GPTQ-Int8\u001b[0m\n",
      "│       │   ├── \u001b[00m10000_length_1_parallel.txt\u001b[0m\n",
      "│       │   ├── \u001b[00m10000_length_2_parallel.txt\u001b[0m\n",
      "│       │   ├── \u001b[00m10000_length_5_parallel.txt\u001b[0m\n",
      "│       │   ├── \u001b[00m1000_length_1_parallel.txt\u001b[0m\n",
      "│       │   ├── \u001b[00m1000_length_2_parallel.txt\u001b[0m\n",
      "│       │   ├── \u001b[00m1000_length_5_parallel.txt\u001b[0m\n",
      "│       │   ├── \u001b[00m15000_length_1_parallel.txt\u001b[0m\n",
      "│       │   ├── \u001b[00m15000_length_2_parallel.txt\u001b[0m\n",
      "│       │   ├── \u001b[00m15000_length_5_parallel.txt\u001b[0m\n",
      "│       │   ├── \u001b[00m20000_length_1_parallel.txt\u001b[0m\n",
      "│       │   ├── \u001b[00m20000_length_2_parallel.txt\u001b[0m\n",
      "│       │   ├── \u001b[00m20000_length_5_parallel.txt\u001b[0m\n",
      "│       │   ├── \u001b[00m25000_length_1_parallel.txt\u001b[0m\n",
      "│       │   ├── \u001b[00m25000_length_2_parallel.txt\u001b[0m\n",
      "│       │   ├── \u001b[00m5000_length_1_parallel.txt\u001b[0m\n",
      "│       │   ├── \u001b[00m5000_length_2_parallel.txt\u001b[0m\n",
      "│       │   └── \u001b[00m5000_length_5_parallel.txt\u001b[0m\n",
      "│       ├── \u001b[01;34mQwen3-4B\u001b[0m\n",
      "│       │   ├── \u001b[00m10000_length_1_parallel.txt\u001b[0m\n",
      "│       │   ├── \u001b[00m10000_length_2_parallel.txt\u001b[0m\n",
      "│       │   ├── \u001b[00m10000_length_5_parallel.txt\u001b[0m\n",
      "│       │   ├── \u001b[00m1000_length_1_parallel.txt\u001b[0m\n",
      "│       │   ├── \u001b[00m1000_length_2_parallel.txt\u001b[0m\n",
      "│       │   ├── \u001b[00m1000_length_5_parallel.txt\u001b[0m\n",
      "│       │   ├── \u001b[00m15000_length_1_parallel.txt\u001b[0m\n",
      "│       │   ├── \u001b[00m15000_length_2_parallel.txt\u001b[0m\n",
      "│       │   ├── \u001b[00m15000_length_5_parallel.txt\u001b[0m\n",
      "│       │   ├── \u001b[00m20000_length_1_parallel.txt\u001b[0m\n",
      "│       │   ├── \u001b[00m20000_length_2_parallel.txt\u001b[0m\n",
      "│       │   ├── \u001b[00m20000_length_5_parallel.txt\u001b[0m\n",
      "│       │   ├── \u001b[00m25000_length_1_parallel.txt\u001b[0m\n",
      "│       │   ├── \u001b[00m25000_length_2_parallel.txt\u001b[0m\n",
      "│       │   ├── \u001b[00m25000_length_5_parallel.txt\u001b[0m\n",
      "│       │   ├── \u001b[00m30000_length_1_parallel.txt\u001b[0m\n",
      "│       │   ├── \u001b[00m30000_length_2_parallel.txt\u001b[0m\n",
      "│       │   ├── \u001b[00m30000_length_5_parallel.txt\u001b[0m\n",
      "│       │   ├── \u001b[00m5000_length_1_parallel.txt\u001b[0m\n",
      "│       │   ├── \u001b[00m5000_length_2_parallel.txt\u001b[0m\n",
      "│       │   └── \u001b[00m5000_length_5_parallel.txt\u001b[0m\n",
      "│       └── \u001b[01;34mQwen3-8B\u001b[0m\n",
      "│           ├── \u001b[00m10000_length_1_parallel.txt\u001b[0m\n",
      "│           ├── \u001b[00m10000_length_2_parallel.txt\u001b[0m\n",
      "│           ├── \u001b[00m10000_length_5_parallel.txt\u001b[0m\n",
      "│           ├── \u001b[00m1000_length_1_parallel.txt\u001b[0m\n",
      "│           ├── \u001b[00m1000_length_2_parallel.txt\u001b[0m\n",
      "│           ├── \u001b[00m1000_length_5_parallel.txt\u001b[0m\n",
      "│           ├── \u001b[00m15000_length_1_parallel.txt\u001b[0m\n",
      "│           ├── \u001b[00m15000_length_2_parallel.txt\u001b[0m\n",
      "│           ├── \u001b[00m15000_length_5_parallel.txt\u001b[0m\n",
      "│           ├── \u001b[00m20000_length_1_parallel.txt\u001b[0m\n",
      "│           ├── \u001b[00m20000_length_2_parallel.txt\u001b[0m\n",
      "│           ├── \u001b[00m20000_length_5_parallel.txt\u001b[0m\n",
      "│           ├── \u001b[00m25000_length_1_parallel.txt\u001b[0m\n",
      "│           ├── \u001b[00m25000_length_2_parallel.txt\u001b[0m\n",
      "│           ├── \u001b[00m25000_length_5_parallel.txt\u001b[0m\n",
      "│           ├── \u001b[00m30000_length_1_parallel.txt\u001b[0m\n",
      "│           ├── \u001b[00m30000_length_2_parallel.txt\u001b[0m\n",
      "│           ├── \u001b[00m30000_length_5_parallel.txt\u001b[0m\n",
      "│           ├── \u001b[00m5000_length_1_parallel.txt\u001b[0m\n",
      "│           ├── \u001b[00m5000_length_2_parallel.txt\u001b[0m\n",
      "│           └── \u001b[00m5000_length_5_parallel.txt\u001b[0m\n",
      "├── \u001b[01;31mspeed_tests.zip\u001b[0m\n",
      "├── \u001b[01;34msummary_results\u001b[0m\n",
      "│   ├── \u001b[01;34mA2_x2\u001b[0m\n",
      "│   │   ├── \u001b[01;34mQwen3-0.6B\u001b[0m\n",
      "│   │   │   ├── \u001b[00m01_meeting_new_result.txt\u001b[0m\n",
      "│   │   │   ├── \u001b[00m02_note_new_result.txt\u001b[0m\n",
      "│   │   │   ├── \u001b[00m1754001603.2500095_new_result.txt\u001b[0m\n",
      "│   │   │   ├── \u001b[00m1754023219.2500476_new_result.txt\u001b[0m\n",
      "│   │   │   ├── \u001b[00m1754837428.2628812_new_result.txt\u001b[0m\n",
      "│   │   │   ├── \u001b[00m1754925275.2640190_new_result.txt\u001b[0m\n",
      "│   │   │   ├── \u001b[00mbook_result.txt\u001b[0m\n",
      "│   │   │   ├── \u001b[00mdaily_result.txt\u001b[0m\n",
      "│   │   │   ├── \u001b[00melibrary_46260478_89605233_result.txt\u001b[0m\n",
      "│   │   │   ├── \u001b[00melibrary_47414625_84296090_result.txt\u001b[0m\n",
      "│   │   │   ├── \u001b[00melibrary_50003330_49878671_result.txt\u001b[0m\n",
      "│   │   │   └── \u001b[00mget_tables_prompt_result.txt\u001b[0m\n",
      "│   │   ├── \u001b[01;34mQwen3-1.7B\u001b[0m\n",
      "│   │   │   ├── \u001b[00m01_meeting_new_result.txt\u001b[0m\n",
      "│   │   │   ├── \u001b[00m02_note_new_result.txt\u001b[0m\n",
      "│   │   │   ├── \u001b[00m1754001603.2500095_new_result.txt\u001b[0m\n",
      "│   │   │   ├── \u001b[00m1754023219.2500476_new_result.txt\u001b[0m\n",
      "│   │   │   ├── \u001b[00m1754837428.2628812_new_result.txt\u001b[0m\n",
      "│   │   │   ├── \u001b[00m1754925275.2640190_new_result.txt\u001b[0m\n",
      "│   │   │   ├── \u001b[00mbook_result.txt\u001b[0m\n",
      "│   │   │   ├── \u001b[00mdaily_result.txt\u001b[0m\n",
      "│   │   │   ├── \u001b[00melibrary_46260478_89605233_result.txt\u001b[0m\n",
      "│   │   │   ├── \u001b[00melibrary_47414625_84296090_result.txt\u001b[0m\n",
      "│   │   │   ├── \u001b[00melibrary_50003330_49878671_result.txt\u001b[0m\n",
      "│   │   │   └── \u001b[00mget_tables_prompt_result.txt\u001b[0m\n",
      "│   │   ├── \u001b[01;34mQwen3-14B-INT8\u001b[0m\n",
      "│   │   │   ├── \u001b[00m01_meeting_new_result.txt\u001b[0m\n",
      "│   │   │   ├── \u001b[00m02_note_new_result.txt\u001b[0m\n",
      "│   │   │   ├── \u001b[00m1754001603_result.txt\u001b[0m\n",
      "│   │   │   ├── \u001b[00m1754023219_result.txt\u001b[0m\n",
      "│   │   │   ├── \u001b[00m1754837428_result.txt\u001b[0m\n",
      "│   │   │   ├── \u001b[00m1754925275_result.txt\u001b[0m\n",
      "│   │   │   ├── \u001b[00m_result.txt\u001b[0m\n",
      "│   │   │   ├── \u001b[00mbook_result.txt\u001b[0m\n",
      "│   │   │   ├── \u001b[00mdaily_result.txt\u001b[0m\n",
      "│   │   │   ├── \u001b[00melibrary_46260478_89605233_result.txt\u001b[0m\n",
      "│   │   │   ├── \u001b[00melibrary_47414625_84296090_result.txt\u001b[0m\n",
      "│   │   │   ├── \u001b[00melibrary_50003330_49878671_result.txt\u001b[0m\n",
      "│   │   │   └── \u001b[00mget_tables_prompt_result.txt\u001b[0m\n",
      "│   │   ├── \u001b[01;34mQwen3-4B\u001b[0m\n",
      "│   │   │   ├── \u001b[00m01_meeting_new_result.txt\u001b[0m\n",
      "│   │   │   ├── \u001b[00m02_note_new_result.txt\u001b[0m\n",
      "│   │   │   ├── \u001b[00m1754001603.2500095_new_result.txt\u001b[0m\n",
      "│   │   │   ├── \u001b[00m1754023219.2500476_new_result.txt\u001b[0m\n",
      "│   │   │   ├── \u001b[00m1754837428.2628812_new_result.txt\u001b[0m\n",
      "│   │   │   ├── \u001b[00m1754925275.2640190_new_result.txt\u001b[0m\n",
      "│   │   │   ├── \u001b[00mbook_result.txt\u001b[0m\n",
      "│   │   │   ├── \u001b[00mdaily_result.txt\u001b[0m\n",
      "│   │   │   ├── \u001b[00melibrary_46260478_89605233_result.txt\u001b[0m\n",
      "│   │   │   ├── \u001b[00melibrary_47414625_84296090_result.txt\u001b[0m\n",
      "│   │   │   ├── \u001b[00melibrary_50003330_49878671_result.txt\u001b[0m\n",
      "│   │   │   └── \u001b[00mget_tables_prompt_result.txt\u001b[0m\n",
      "│   │   └── \u001b[01;34mQwen3-8B\u001b[0m\n",
      "│   │       ├── \u001b[00m01_meeting_new_result.txt\u001b[0m\n",
      "│   │       ├── \u001b[00m02_note_new_result.txt\u001b[0m\n",
      "│   │       ├── \u001b[00m1754001603.2500095_new_result.txt\u001b[0m\n",
      "│   │       ├── \u001b[00m1754023219.2500476_new_result.txt\u001b[0m\n",
      "│   │       ├── \u001b[00m1754837428.2628812_new_result.txt\u001b[0m\n",
      "│   │       ├── \u001b[00m1754925275.2640190_new_result.txt\u001b[0m\n",
      "│   │       ├── \u001b[00mbook_result.txt\u001b[0m\n",
      "│   │       ├── \u001b[00mdaily_result.txt\u001b[0m\n",
      "│   │       ├── \u001b[00melibrary_46260478_89605233_result.md\u001b[0m\n",
      "│   │       ├── \u001b[00melibrary_46260478_89605233_result.txt\u001b[0m\n",
      "│   │       ├── \u001b[00melibrary_47414625_84296090_result.txt\u001b[0m\n",
      "│   │       ├── \u001b[00melibrary_50003330_49878671_result.txt\u001b[0m\n",
      "│   │       └── \u001b[00mget_tables_prompt_result.txt\u001b[0m\n",
      "│   ├── \u001b[01;34mT2_x2\u001b[0m\n",
      "│   │   └── \u001b[01;34mQwen3-14B-INT8\u001b[0m\n",
      "│   │       ├── \u001b[00m01_meeting_new_result.txt\u001b[0m\n",
      "│   │       ├── \u001b[00m02_note_new_result.txt\u001b[0m\n",
      "│   │       ├── \u001b[00m1754837428.2628812_new_result.txt\u001b[0m\n",
      "│   │       ├── \u001b[00melibrary_47414625_84296090_result.txt\u001b[0m\n",
      "│   │       └── \u001b[00mget_tables_prompt_result.txt\u001b[0m\n",
      "│   ├── \u001b[01;34mT4_x4\u001b[0m\n",
      "│   │   ├── \u001b[01;34mQwen3-14B\u001b[0m\n",
      "│   │   │   ├── \u001b[00m01_meeting_new_result.txt\u001b[0m\n",
      "│   │   │   ├── \u001b[00m02_note_new_result.txt\u001b[0m\n",
      "│   │   │   ├── \u001b[00m1754001603_result.txt\u001b[0m\n",
      "│   │   │   ├── \u001b[00m1754023219_result.txt\u001b[0m\n",
      "│   │   │   ├── \u001b[00m1754837428_result.txt\u001b[0m\n",
      "│   │   │   ├── \u001b[00m1754925275_result.txt\u001b[0m\n",
      "│   │   │   ├── \u001b[00mbook_result.txt\u001b[0m\n",
      "│   │   │   ├── \u001b[00mdaily_result.txt\u001b[0m\n",
      "│   │   │   ├── \u001b[00melibrary_46260478_89605233_result.txt\u001b[0m\n",
      "│   │   │   ├── \u001b[00melibrary_47414625_84296090_result.txt\u001b[0m\n",
      "│   │   │   ├── \u001b[00melibrary_50003330_49878671_result.txt\u001b[0m\n",
      "│   │   │   └── \u001b[00mget_tables_prompt_result.txt\u001b[0m\n",
      "│   │   └── \u001b[01;34mQwen3-32B-GPTQ-Int8\u001b[0m\n",
      "│   │       ├── \u001b[00m01_meeting_new_result.txt\u001b[0m\n",
      "│   │       ├── \u001b[00m02_note_new_result.txt\u001b[0m\n",
      "│   │       ├── \u001b[00m1754001603_result.txt\u001b[0m\n",
      "│   │       ├── \u001b[00m1754023219_result.txt\u001b[0m\n",
      "│   │       ├── \u001b[00m1754837428_result.txt\u001b[0m\n",
      "│   │       ├── \u001b[00m1754925275_result.txt\u001b[0m\n",
      "│   │       ├── \u001b[00mbook_result.txt\u001b[0m\n",
      "│   │       ├── \u001b[00mdaily_result.txt\u001b[0m\n",
      "│   │       ├── \u001b[00melibrary_46260478_89605233_result.txt\u001b[0m\n",
      "│   │       ├── \u001b[00melibrary_47414625_84296090_result.txt\u001b[0m\n",
      "│   │       ├── \u001b[00melibrary_50003330_49878671_result.txt\u001b[0m\n",
      "│   │       └── \u001b[00mget_tables_prompt_result.txt\u001b[0m\n",
      "│   └── \u001b[01;34mTesla-T4-x2-old\u001b[0m\n",
      "│       ├── \u001b[01;34mQwen3-0.6B\u001b[0m\n",
      "│       │   ├── \u001b[00m01_meeting_new_result.txt\u001b[0m\n",
      "│       │   ├── \u001b[00m02_note_new_result.txt\u001b[0m\n",
      "│       │   ├── \u001b[00m1754001603_result.txt\u001b[0m\n",
      "│       │   ├── \u001b[00m1754023219_result.txt\u001b[0m\n",
      "│       │   ├── \u001b[00m1754837428_result.txt\u001b[0m\n",
      "│       │   ├── \u001b[00m1754925275_result.txt\u001b[0m\n",
      "│       │   ├── \u001b[00m_result.txt\u001b[0m\n",
      "│       │   ├── \u001b[00mbook_result.txt\u001b[0m\n",
      "│       │   ├── \u001b[00mdaily_result.txt\u001b[0m\n",
      "│       │   ├── \u001b[00melibrary_46260478_89605233_result.txt\u001b[0m\n",
      "│       │   ├── \u001b[00melibrary_47414625_84296090_result.txt\u001b[0m\n",
      "│       │   ├── \u001b[00melibrary_50003330_49878671_result.txt\u001b[0m\n",
      "│       │   └── \u001b[00mget_tables_prompt_result.txt\u001b[0m\n",
      "│       ├── \u001b[01;34mQwen3-1.7B\u001b[0m\n",
      "│       │   ├── \u001b[00m01_meeting_new_result.txt\u001b[0m\n",
      "│       │   ├── \u001b[00m02_note_new_result.txt\u001b[0m\n",
      "│       │   ├── \u001b[00m1754001603_result.txt\u001b[0m\n",
      "│       │   ├── \u001b[00m1754023219_result.txt\u001b[0m\n",
      "│       │   ├── \u001b[00m1754837428_result.txt\u001b[0m\n",
      "│       │   ├── \u001b[00m1754925275_result.txt\u001b[0m\n",
      "│       │   ├── \u001b[00m_result.txt\u001b[0m\n",
      "│       │   ├── \u001b[00mbook_result.txt\u001b[0m\n",
      "│       │   ├── \u001b[00mdaily_result.txt\u001b[0m\n",
      "│       │   ├── \u001b[00melibrary_46260478_89605233_result.txt\u001b[0m\n",
      "│       │   ├── \u001b[00melibrary_47414625_84296090_result.txt\u001b[0m\n",
      "│       │   ├── \u001b[00melibrary_50003330_49878671_result.txt\u001b[0m\n",
      "│       │   └── \u001b[00mget_tables_prompt_result.txt\u001b[0m\n",
      "│       ├── \u001b[01;34mQwen3-14B-INT\u001b[0m\n",
      "│       │   ├── \u001b[00m01_meeting_new_result.txt\u001b[0m\n",
      "│       │   ├── \u001b[00m01_meeting_result.txt\u001b[0m\n",
      "│       │   ├── \u001b[00m02_note_new_result.txt\u001b[0m\n",
      "│       │   ├── \u001b[00m02_note_result.txt\u001b[0m\n",
      "│       │   ├── \u001b[00m1754001603_result.txt\u001b[0m\n",
      "│       │   ├── \u001b[00m1754023219_result.txt\u001b[0m\n",
      "│       │   ├── \u001b[00m1754837428_result.txt\u001b[0m\n",
      "│       │   ├── \u001b[00m1754925275_result.txt\u001b[0m\n",
      "│       │   ├── \u001b[00m_result.txt\u001b[0m\n",
      "│       │   ├── \u001b[00mbook_result.txt\u001b[0m\n",
      "│       │   ├── \u001b[00mdaily_result.txt\u001b[0m\n",
      "│       │   ├── \u001b[00mdecription\u001b[0m\n",
      "│       │   ├── \u001b[00melibrary_46260478_89605233_result.txt\u001b[0m\n",
      "│       │   ├── \u001b[00melibrary_47414625_84296090_result.txt\u001b[0m\n",
      "│       │   ├── \u001b[00melibrary_50003330_49878671_result.txt\u001b[0m\n",
      "│       │   └── \u001b[00mget_tables_prompt_result.txt\u001b[0m\n",
      "│       ├── \u001b[01;34mQwen3-4B\u001b[0m\n",
      "│       │   ├── \u001b[00m01_meeting_new_result.txt\u001b[0m\n",
      "│       │   ├── \u001b[00m02_note_new_result.txt\u001b[0m\n",
      "│       │   ├── \u001b[00m1754001603_result.txt\u001b[0m\n",
      "│       │   ├── \u001b[00m1754023219_result.txt\u001b[0m\n",
      "│       │   ├── \u001b[00m1754837428_result.txt\u001b[0m\n",
      "│       │   ├── \u001b[00m1754925275_result.txt\u001b[0m\n",
      "│       │   ├── \u001b[00m_result.txt\u001b[0m\n",
      "│       │   ├── \u001b[00mbook_result.txt\u001b[0m\n",
      "│       │   ├── \u001b[00mdaily_result.txt\u001b[0m\n",
      "│       │   ├── \u001b[00melibrary_46260478_89605233_result.txt\u001b[0m\n",
      "│       │   ├── \u001b[00melibrary_47414625_84296090_result.txt\u001b[0m\n",
      "│       │   ├── \u001b[00melibrary_50003330_49878671_result.txt\u001b[0m\n",
      "│       │   └── \u001b[00mget_tables_prompt_result.txt\u001b[0m\n",
      "│       └── \u001b[01;34mQwen3-8B\u001b[0m\n",
      "│           ├── \u001b[00m01_meeting_new_result.txt\u001b[0m\n",
      "│           ├── \u001b[00m01_meeting_result.txt\u001b[0m\n",
      "│           ├── \u001b[00m02_note_new_result.txt\u001b[0m\n",
      "│           ├── \u001b[00m02_note_result.txt\u001b[0m\n",
      "│           ├── \u001b[00m1754001603_result.txt\u001b[0m\n",
      "│           ├── \u001b[00m1754023219_result.txt\u001b[0m\n",
      "│           ├── \u001b[00m1754837428_result.txt\u001b[0m\n",
      "│           ├── \u001b[00m1754925275_result.txt\u001b[0m\n",
      "│           ├── \u001b[00mdaily_result.txt\u001b[0m\n",
      "│           └── \u001b[00mget_tables_prompt_result.txt\u001b[0m\n",
      "├── \u001b[00mtest.ipynb\u001b[0m\n",
      "└── \u001b[01;34mtests\u001b[0m\n",
      "    ├── \u001b[00m01_meeting_new.txt\u001b[0m\n",
      "    ├── \u001b[00m02_note_new.txt\u001b[0m\n",
      "    ├── \u001b[00m1754001603.2500095_new.txt\u001b[0m\n",
      "    ├── \u001b[00m1754023219.2500476_new.txt\u001b[0m\n",
      "    ├── \u001b[00m1754837428.2628812_new.txt\u001b[0m\n",
      "    ├── \u001b[00m1754925275.2640190_new.txt\u001b[0m\n",
      "    ├── \u001b[00mbook.txt\u001b[0m\n",
      "    ├── \u001b[00mdaily.txt\u001b[0m\n",
      "    ├── \u001b[00melibrary_46260478_89605233.txt\u001b[0m\n",
      "    ├── \u001b[00melibrary_47414625_84296090.txt\u001b[0m\n",
      "    ├── \u001b[00melibrary_50003330_49878671.txt\u001b[0m\n",
      "    └── \u001b[00mget_tables_prompt.txt\u001b[0m\n",
      "\n",
      "53 directories, 665 files\n"
     ]
    }
   ],
   "source": [
    "!tree"
   ]
  },
  {
   "cell_type": "code",
   "execution_count": 50,
   "id": "fe3f2020",
   "metadata": {},
   "outputs": [
    {
     "name": "stdout",
     "output_type": "stream",
     "text": [
      "✅ Готово!\n",
      "- Агрегаты по файлам: out/speed_test_averages.csv\n",
      "- По каждому запросу: out/speed_test_requests.csv\n",
      "- Сравнительная таблица: out/comparison_table.csv\n"
     ]
    }
   ],
   "source": [
    "#!/usr/bin/env python3\n",
    "# -*- coding: utf-8 -*-\n",
    "\n",
    "import os\n",
    "import re\n",
    "import sys\n",
    "import pandas as pd\n",
    "from pathlib import Path\n",
    "from typing import Dict, Any, List, Tuple\n",
    "\n",
    "BASE = Path(\"speed_tests\")\n",
    "\n",
    "# какие ключи явно приводим к float / int\n",
    "FLOAT_KEYS = {\n",
    "    \"ttft\",\n",
    "    \"gen_tokens_per_second\",\n",
    "    \"total_time\",\n",
    "    \"total_concurrent_time\",\n",
    "}\n",
    "INT_KEYS = {\n",
    "    \"total_tokens\",\n",
    "    \"input_tokens\",\n",
    "    \"output_tokens\",\n",
    "    \"concurrent_requests\",\n",
    "    \"valid_requests\",\n",
    "}\n",
    "\n",
    "# regex-шаблоны\n",
    "KV_RE = re.compile(r\"^\\s*([a-z_]+):\\s*([0-9.]+)\\s*$\", re.IGNORECASE)\n",
    "AVG_HEADER_RE = re.compile(\n",
    "    r\"Average metrics for\\s+(\\d+)/(\\d+)\\s+concurrent requests of\\s+(\\d+)\\s+tokens each\",\n",
    "    re.IGNORECASE,\n",
    ")\n",
    "REQUEST_HEADER_RE = re.compile(r\"^\\s*Request\\s+(\\d+):\\s*$\", re.IGNORECASE)\n",
    "FILE_PATTERN_RE = re.compile(\n",
    "    r\"(?P<input_len>\\d+)_length_(?P<parallel>\\d+)_parallel\\.txt$\",\n",
    "    re.IGNORECASE\n",
    ")\n",
    "\n",
    "def cast_numbers(d: Dict[str, str]) -> Dict[str, Any]:\n",
    "    out = {}\n",
    "    for k, v in d.items():\n",
    "        if k in INT_KEYS:\n",
    "            try:\n",
    "                out[k] = int(float(v))\n",
    "            except Exception:\n",
    "                out[k] = None\n",
    "        elif k in FLOAT_KEYS:\n",
    "            try:\n",
    "                out[k] = float(v)\n",
    "            except Exception:\n",
    "                out[k] = None\n",
    "        else:\n",
    "            # попытка аккуратно привести\n",
    "            try:\n",
    "                fv = float(v)\n",
    "                out[k] = int(fv) if fv.is_integer() else fv\n",
    "            except Exception:\n",
    "                out[k] = v\n",
    "    return out\n",
    "\n",
    "def parse_file(path: Path) -> Tuple[Dict[str, Any], List[Dict[str, Any]]]:\n",
    "    txt = path.read_text(encoding=\"utf-8\", errors=\"ignore\")\n",
    "    lines = [ln.rstrip(\"\\n\") for ln in txt.splitlines()]\n",
    "\n",
    "    # верхние k:v строки (ttft, gen_tokens_per_second, …)\n",
    "    topline: Dict[str, str] = {}\n",
    "    i = 0\n",
    "    while i < len(lines):\n",
    "        m = KV_RE.match(lines[i])\n",
    "        if m:\n",
    "            topline[m.group(1).lower()] = m.group(2)\n",
    "            i += 1\n",
    "            continue\n",
    "        break\n",
    "\n",
    "    # заголовок “Average metrics for …”\n",
    "    avg_header = None\n",
    "    for j in range(i, len(lines)):\n",
    "        m = AVG_HEADER_RE.search(lines[j])\n",
    "        if m:\n",
    "            avg_header = (int(m.group(1)), int(m.group(2)), int(m.group(3)))\n",
    "            i = j + 1\n",
    "            break\n",
    "\n",
    "    # блоки “Request N:”\n",
    "    requests: List[Dict[str, Any]] = []\n",
    "    curr = None\n",
    "    for j in range(i, len(lines)):\n",
    "        m = REQUEST_HEADER_RE.match(lines[j])\n",
    "        if m:\n",
    "            if curr:\n",
    "                requests.append(curr)\n",
    "            curr = {\"request_id\": int(m.group(1))}\n",
    "            continue\n",
    "        if curr is not None:\n",
    "            m2 = KV_RE.match(lines[j])\n",
    "            if m2:\n",
    "                curr[m2.group(1).lower()] = m2.group(2)\n",
    "    if curr:\n",
    "        requests.append(curr)\n",
    "\n",
    "    # метаданные из пути\n",
    "    # speed_tests/<gpu>/<model>/<file>.txt\n",
    "    try:\n",
    "        gpu = path.parents[1].name\n",
    "        model = path.parents[0].name\n",
    "    except Exception:\n",
    "        gpu = None\n",
    "        model = None\n",
    "\n",
    "    # метаданные из имени файла\n",
    "    input_len = None\n",
    "    parallel = None\n",
    "    fm = FILE_PATTERN_RE.search(path.name)\n",
    "    if fm:\n",
    "        input_len = int(fm.group(\"input_len\"))\n",
    "        parallel = int(fm.group(\"parallel\"))\n",
    "\n",
    "    # строка «средних» по файлу\n",
    "    avg_row: Dict[str, Any] = {\n",
    "        \"gpu\": gpu,\n",
    "        \"model\": model,\n",
    "        \"file\": str(path),\n",
    "        \"filename\": path.name,\n",
    "        \"input_len_from_name\": input_len,\n",
    "        \"parallel_from_name\": parallel,\n",
    "    }\n",
    "    avg_row.update(cast_numbers(topline))\n",
    "\n",
    "    if avg_header:\n",
    "        avg_row[\"valid_concurrent_from_header\"] = avg_header[0]\n",
    "        avg_row[\"total_concurrent_from_header\"] = avg_header[1]\n",
    "        avg_row[\"tokens_each_from_header\"] = avg_header[2]\n",
    "\n",
    "    # строки per-request\n",
    "    req_rows: List[Dict[str, Any]] = []\n",
    "    for r in requests:\n",
    "        row = {\n",
    "            \"gpu\": gpu,\n",
    "            \"model\": model,\n",
    "            \"file\": str(path),\n",
    "            \"filename\": path.name,\n",
    "        }\n",
    "        row.update(cast_numbers(r))\n",
    "        row[\"input_len_from_name\"] = input_len\n",
    "        row[\"parallel_from_name\"] = parallel\n",
    "        req_rows.append(row)\n",
    "\n",
    "    return avg_row, req_rows\n",
    "\n",
    "def prefer(a, b):\n",
    "    return a if pd.notnull(a) else b\n",
    "\n",
    "def main():\n",
    "    if not BASE.exists():\n",
    "        print(f\"❌ Не нашёл директорию: {BASE.resolve()}\")\n",
    "        sys.exit(1)\n",
    "\n",
    "    avg_rows: List[Dict[str, Any]] = []\n",
    "    req_rows: List[Dict[str, Any]] = []\n",
    "\n",
    "    for root, _, files in os.walk(BASE):\n",
    "        for f in files:\n",
    "            if not f.lower().endswith(\".txt\"):\n",
    "                continue\n",
    "            p = Path(root) / f\n",
    "            try:\n",
    "                avg_row, req = parse_file(p)\n",
    "                avg_rows.append(avg_row)\n",
    "                req_rows.extend(req)\n",
    "            except Exception as e:\n",
    "                avg_rows.append({\n",
    "                    \"gpu\": Path(root).parts[-2] if len(Path(root).parts) >= 2 else None,\n",
    "                    \"model\": Path(root).parts[-1] if len(Path(root).parts) >= 1 else None,\n",
    "                    \"file\": str(p),\n",
    "                    \"filename\": f,\n",
    "                    \"parse_error\": str(e),\n",
    "                })\n",
    "\n",
    "    df_avg = pd.DataFrame(avg_rows)\n",
    "    df_req = pd.DataFrame(req_rows)\n",
    "\n",
    "    # удобные поля сценария\n",
    "    if \"input_len_from_name\" in df_avg.columns:\n",
    "        df_avg[\"scenario_input_len\"] = df_avg[\"input_len_from_name\"]\n",
    "        if \"tokens_each_from_header\" in df_avg.columns:\n",
    "            df_avg[\"scenario_input_len\"] = df_avg.apply(\n",
    "                lambda r: prefer(r[\"input_len_from_name\"], r.get(\"tokens_each_from_header\")), axis=1\n",
    "            )\n",
    "    if \"parallel_from_name\" in df_avg.columns:\n",
    "        df_avg[\"scenario_parallel\"] = df_avg[\"parallel_from_name\"]\n",
    "\n",
    "    # порядок колонок\n",
    "    avg_cols = [\n",
    "        \"gpu\",\"model\",\"scenario_input_len\",\"scenario_parallel\",\n",
    "        \"concurrent_requests\",\"valid_requests\",\n",
    "        \"ttft\",\"gen_tokens_per_second\",\n",
    "        \"total_time\",\"total_concurrent_time\",\n",
    "        \"input_tokens\",\"output_tokens\",\"total_tokens\",\n",
    "        \"tokens_each_from_header\",\"valid_concurrent_from_header\",\"total_concurrent_from_header\",\n",
    "        \"filename\",\"file\"\n",
    "    ]\n",
    "    df_avg = df_avg.reindex(columns=[c for c in avg_cols if c in df_avg.columns] +\n",
    "                                   [c for c in df_avg.columns if c not in avg_cols])\n",
    "\n",
    "    req_cols = [\n",
    "        \"gpu\",\"model\",\"request_id\",\"input_len_from_name\",\"parallel_from_name\",\n",
    "        \"ttft\",\"gen_tokens_per_second\",\"total_time\",\n",
    "        \"input_tokens\",\"output_tokens\",\"total_tokens\",\n",
    "        \"filename\",\"file\"\n",
    "    ]\n",
    "    df_req = df_req.reindex(columns=[c for c in req_cols if c in df_req.columns] +\n",
    "                                  [c for c in df_req.columns if c not in req_cols])\n",
    "\n",
    "    # сохраняем основные таблицы\n",
    "    out_dir = Path(\"out\")\n",
    "    out_dir.mkdir(exist_ok=True)\n",
    "    avg_csv = out_dir / \"speed_test_averages.csv\"\n",
    "    req_csv = out_dir / \"speed_test_requests.csv\"\n",
    "    df_avg.to_csv(avg_csv, index=False)\n",
    "    df_req.to_csv(req_csv, index=False)\n",
    "\n",
    "    # сводная сравнительная таблица (по средним метрикам)\n",
    "    # группируем по ключам сценария\n",
    "    group_keys = [\"gpu\", \"model\", \"scenario_input_len\", \"scenario_parallel\"]\n",
    "    present_keys = [k for k in group_keys if k in df_avg.columns]\n",
    "    agg_fields = {k: \"mean\" for k in [\"ttft\",\"gen_tokens_per_second\",\"total_time\",\"total_concurrent_time\"]\n",
    "                  if k in df_avg.columns}\n",
    "    comp = df_avg.groupby(present_keys, dropna=False).agg(agg_fields).reset_index().sort_values(present_keys)\n",
    "    comp_csv = out_dir / \"comparison_table.csv\"\n",
    "    comp.to_csv(comp_csv, index=False)\n",
    "\n",
    "    print(\"✅ Готово!\")\n",
    "    print(f\"- Агрегаты по файлам: {avg_csv}\")\n",
    "    print(f\"- По каждому запросу: {req_csv}\")\n",
    "    print(f\"- Сравнительная таблица: {comp_csv}\")\n",
    "\n",
    "if __name__ == \"__main__\":\n",
    "    main()\n"
   ]
  },
  {
   "cell_type": "code",
   "execution_count": 51,
   "id": "5351b6f5",
   "metadata": {},
   "outputs": [
    {
     "data": {
      "text/html": [
       "<div>\n",
       "<style scoped>\n",
       "    .dataframe tbody tr th:only-of-type {\n",
       "        vertical-align: middle;\n",
       "    }\n",
       "\n",
       "    .dataframe tbody tr th {\n",
       "        vertical-align: top;\n",
       "    }\n",
       "\n",
       "    .dataframe thead th {\n",
       "        text-align: right;\n",
       "    }\n",
       "</style>\n",
       "<table border=\"1\" class=\"dataframe\">\n",
       "  <thead>\n",
       "    <tr style=\"text-align: right;\">\n",
       "      <th></th>\n",
       "      <th>gpu</th>\n",
       "      <th>model</th>\n",
       "      <th>input_len_from_name</th>\n",
       "      <th>parallel_from_name</th>\n",
       "      <th>ttft</th>\n",
       "      <th>gen_tokens_per_second</th>\n",
       "      <th>input_tokens</th>\n",
       "    </tr>\n",
       "  </thead>\n",
       "  <tbody>\n",
       "    <tr>\n",
       "      <th>0</th>\n",
       "      <td>T4_x4</td>\n",
       "      <td>Qwen3-32B-GPTQ-Int8</td>\n",
       "      <td>10000</td>\n",
       "      <td>1</td>\n",
       "      <td>11.36</td>\n",
       "      <td>13.58</td>\n",
       "      <td>10000</td>\n",
       "    </tr>\n",
       "    <tr>\n",
       "      <th>1</th>\n",
       "      <td>T4_x4</td>\n",
       "      <td>Qwen3-32B-GPTQ-Int8</td>\n",
       "      <td>5000</td>\n",
       "      <td>5</td>\n",
       "      <td>12.89</td>\n",
       "      <td>0.06</td>\n",
       "      <td>5000</td>\n",
       "    </tr>\n",
       "    <tr>\n",
       "      <th>2</th>\n",
       "      <td>T4_x4</td>\n",
       "      <td>Qwen3-32B-GPTQ-Int8</td>\n",
       "      <td>5000</td>\n",
       "      <td>5</td>\n",
       "      <td>28.63</td>\n",
       "      <td>14.65</td>\n",
       "      <td>5011</td>\n",
       "    </tr>\n",
       "    <tr>\n",
       "      <th>3</th>\n",
       "      <td>T4_x4</td>\n",
       "      <td>Qwen3-32B-GPTQ-Int8</td>\n",
       "      <td>5000</td>\n",
       "      <td>5</td>\n",
       "      <td>28.58</td>\n",
       "      <td>14.64</td>\n",
       "      <td>5011</td>\n",
       "    </tr>\n",
       "    <tr>\n",
       "      <th>4</th>\n",
       "      <td>T4_x4</td>\n",
       "      <td>Qwen3-32B-GPTQ-Int8</td>\n",
       "      <td>5000</td>\n",
       "      <td>5</td>\n",
       "      <td>28.63</td>\n",
       "      <td>14.63</td>\n",
       "      <td>5011</td>\n",
       "    </tr>\n",
       "    <tr>\n",
       "      <th>...</th>\n",
       "      <td>...</td>\n",
       "      <td>...</td>\n",
       "      <td>...</td>\n",
       "      <td>...</td>\n",
       "      <td>...</td>\n",
       "      <td>...</td>\n",
       "      <td>...</td>\n",
       "    </tr>\n",
       "    <tr>\n",
       "      <th>1249</th>\n",
       "      <td>A2_x1</td>\n",
       "      <td>qwen3-14b-ollama</td>\n",
       "      <td>10000</td>\n",
       "      <td>5</td>\n",
       "      <td>13.86</td>\n",
       "      <td>11.67</td>\n",
       "      <td>10000</td>\n",
       "    </tr>\n",
       "    <tr>\n",
       "      <th>1250</th>\n",
       "      <td>A2_x1</td>\n",
       "      <td>qwen3-14b-ollama</td>\n",
       "      <td>10000</td>\n",
       "      <td>5</td>\n",
       "      <td>35.01</td>\n",
       "      <td>11.68</td>\n",
       "      <td>10000</td>\n",
       "    </tr>\n",
       "    <tr>\n",
       "      <th>1251</th>\n",
       "      <td>A2_x1</td>\n",
       "      <td>qwen3-14b-ollama</td>\n",
       "      <td>10000</td>\n",
       "      <td>5</td>\n",
       "      <td>56.03</td>\n",
       "      <td>11.62</td>\n",
       "      <td>10000</td>\n",
       "    </tr>\n",
       "    <tr>\n",
       "      <th>1252</th>\n",
       "      <td>A2_x1</td>\n",
       "      <td>qwen3-14b-ollama</td>\n",
       "      <td>10000</td>\n",
       "      <td>5</td>\n",
       "      <td>77.13</td>\n",
       "      <td>11.63</td>\n",
       "      <td>10000</td>\n",
       "    </tr>\n",
       "    <tr>\n",
       "      <th>1253</th>\n",
       "      <td>A2_x1</td>\n",
       "      <td>qwen3-14b-ollama</td>\n",
       "      <td>10000</td>\n",
       "      <td>5</td>\n",
       "      <td>98.09</td>\n",
       "      <td>11.51</td>\n",
       "      <td>10000</td>\n",
       "    </tr>\n",
       "  </tbody>\n",
       "</table>\n",
       "<p>1254 rows × 7 columns</p>\n",
       "</div>"
      ],
      "text/plain": [
       "        gpu                model  input_len_from_name  parallel_from_name  \\\n",
       "0     T4_x4  Qwen3-32B-GPTQ-Int8                10000                   1   \n",
       "1     T4_x4  Qwen3-32B-GPTQ-Int8                 5000                   5   \n",
       "2     T4_x4  Qwen3-32B-GPTQ-Int8                 5000                   5   \n",
       "3     T4_x4  Qwen3-32B-GPTQ-Int8                 5000                   5   \n",
       "4     T4_x4  Qwen3-32B-GPTQ-Int8                 5000                   5   \n",
       "...     ...                  ...                  ...                 ...   \n",
       "1249  A2_x1     qwen3-14b-ollama                10000                   5   \n",
       "1250  A2_x1     qwen3-14b-ollama                10000                   5   \n",
       "1251  A2_x1     qwen3-14b-ollama                10000                   5   \n",
       "1252  A2_x1     qwen3-14b-ollama                10000                   5   \n",
       "1253  A2_x1     qwen3-14b-ollama                10000                   5   \n",
       "\n",
       "       ttft  gen_tokens_per_second  input_tokens  \n",
       "0     11.36                  13.58         10000  \n",
       "1     12.89                   0.06          5000  \n",
       "2     28.63                  14.65          5011  \n",
       "3     28.58                  14.64          5011  \n",
       "4     28.63                  14.63          5011  \n",
       "...     ...                    ...           ...  \n",
       "1249  13.86                  11.67         10000  \n",
       "1250  35.01                  11.68         10000  \n",
       "1251  56.03                  11.62         10000  \n",
       "1252  77.13                  11.63         10000  \n",
       "1253  98.09                  11.51         10000  \n",
       "\n",
       "[1254 rows x 7 columns]"
      ]
     },
     "execution_count": 51,
     "metadata": {},
     "output_type": "execute_result"
    }
   ],
   "source": [
    "sdf = pd.read_csv(\"out/speed_test_requests.csv\")\n",
    "# Rename models in the dataframe\n",
    "sdf['model'] = sdf['model'].replace({\n",
    "    'qwen3-8b': 'qwen3-8b-ollama',\n",
    "    'qwen3-14b': 'qwen3-14b-ollama'\n",
    "})\n",
    "sdf\n",
    "clean_df = sdf.drop(columns=[\"request_id\", \"total_time\", \"output_tokens\", \"total_tokens\", \"filename\", \"file\"])\n",
    "clean_df"
   ]
  },
  {
   "cell_type": "code",
   "execution_count": 52,
   "id": "41feec9f",
   "metadata": {},
   "outputs": [],
   "source": [
    "df = clean_df[clean_df['parallel_from_name'] == 1]"
   ]
  },
  {
   "cell_type": "code",
   "execution_count": 53,
   "id": "de4becbe",
   "metadata": {},
   "outputs": [
    {
     "data": {
      "text/plain": [
       "['Qwen3-1.7B',\n",
       " 'Qwen3-4B',\n",
       " 'qwen3-8b-ollama',\n",
       " 'Qwen3-8B',\n",
       " 'Qwen3-8B-AWQ',\n",
       " 'qwen3-14b-ollama',\n",
       " 'Qwen3-14B',\n",
       " 'Qwen3-14B-INT8',\n",
       " 'Qwen3-32B-GPTQ-Int8']"
      ]
     },
     "execution_count": 53,
     "metadata": {},
     "output_type": "execute_result"
    }
   ],
   "source": [
    "# Models in order of size\n",
    "models_by_size = [\n",
    "    'Qwen3-1.7B',\n",
    "    'Qwen3-4B', \n",
    "    'qwen3-8b-ollama',\n",
    "    'Qwen3-8B',\n",
    "    'Qwen3-8B-AWQ',\n",
    "    'qwen3-14b-ollama',\n",
    "    'Qwen3-14B',\n",
    "    'Qwen3-14B-INT8',\n",
    "    'Qwen3-32B-GPTQ-Int8'\n",
    "]\n",
    "models_by_size\n"
   ]
  },
  {
   "cell_type": "markdown",
   "id": "54d6c230",
   "metadata": {},
   "source": [
    "# Усредненные графики чисто для сравнения видеокарт"
   ]
  },
  {
   "cell_type": "code",
   "execution_count": 54,
   "id": "797f67ad",
   "metadata": {},
   "outputs": [
    {
     "data": {
      "application/vnd.plotly.v1+json": {
       "config": {
        "plotlyServerURL": "https://plot.ly"
       },
       "data": [
        {
         "alignmentgroup": "True",
         "hovertemplate": "model=Qwen3-1.7B<br>gpu=%{x}<br>ttft=%{y}<extra></extra>",
         "legendgroup": "Qwen3-1.7B",
         "marker": {
          "color": "#636efa"
         },
         "name": "Qwen3-1.7B",
         "notched": false,
         "offsetgroup": "Qwen3-1.7B",
         "orientation": "v",
         "showlegend": true,
         "type": "box",
         "x": [
          "A2_x1",
          "A2_x1",
          "A2_x1",
          "A2_x1",
          "A2_x1",
          "A2_x1",
          "A2_x1",
          "A2_x2",
          "A2_x2",
          "A2_x2",
          "A2_x2",
          "A2_x2",
          "A2_x2",
          "A2_x2",
          "T4_x1",
          "T4_x1",
          "T4_x1",
          "T4_x1",
          "T4_x1",
          "T4_x1",
          "T4_x1",
          "T4_x2",
          "T4_x2",
          "T4_x2",
          "T4_x2",
          "T4_x2",
          "T4_x2",
          "T4_x2"
         ],
         "x0": " ",
         "xaxis": "x",
         "y": {
          "bdata": "uB6F61G4zj+amZmZmZn1PwrXo3A9CglAj8L1KFyPFUBSuB6F61EgQK5H4XoUriZAXI/C9SjcLUB7FK5H4XrEPzMzMzMzM+s/ZmZmZmZm/j/D9Shcj8IJQArXo3A9ChNAPQrXo3A9GkCamZmZmRkhQDMzMzMzM8M/ZmZmZmZm7j8UrkfhehQCQI/C9ShcjxFA16NwPQrXG0BmZmZmZuYkQFyPwvUoXC1AMzMzMzMzwz9mZmZmZmbmPx+F61G4Hvk/AAAAAAAABkCF61G4HoUSQIXrUbgehRdAZmZmZmZmIUA=",
          "dtype": "f8"
         },
         "y0": " ",
         "yaxis": "y"
        },
        {
         "alignmentgroup": "True",
         "hovertemplate": "model=Qwen3-4B<br>gpu=%{x}<br>ttft=%{y}<extra></extra>",
         "legendgroup": "Qwen3-4B",
         "marker": {
          "color": "#EF553B"
         },
         "name": "Qwen3-4B",
         "notched": false,
         "offsetgroup": "Qwen3-4B",
         "orientation": "v",
         "showlegend": true,
         "type": "box",
         "x": [
          "A2_x1",
          "A2_x1",
          "A2_x1",
          "A2_x1",
          "A2_x1",
          "A2_x1",
          "A2_x1",
          "A2_x2",
          "A2_x2",
          "A2_x2",
          "A2_x2",
          "A2_x2",
          "A2_x2",
          "A2_x2",
          "T4_x1",
          "T4_x1",
          "T4_x1",
          "T4_x1",
          "T4_x1",
          "T4_x1",
          "T4_x2",
          "T4_x2",
          "T4_x2",
          "T4_x2",
          "T4_x2",
          "T4_x2",
          "T4_x2",
          "T4_x4",
          "T4_x4",
          "T4_x4",
          "T4_x4",
          "T4_x4",
          "T4_x4",
          "T4_x4"
         ],
         "x0": " ",
         "xaxis": "x",
         "y": {
          "bdata": "MzMzMzMz4z+kcD0K16MKQArXo3A9Ch9A4XoUrkfhKkBcj8L1KFw0QPYoXI/CdTxAcT0K16PwQkDD9Shcj8LVP4/C9Shcj/4/mpmZmZmZEUApXI/C9SgeQMP1KFyPwiZAMzMzMzMzL0B7FK5H4Xo0QArXo3A9Ctc/ZmZmZmZmAkA9CtejcD0ZQAAAAAAAAClAFK5H4XpUM0CkcD0K1yM5QI/C9Shcj9I/UrgehetR+D8UrkfhehQOQK5H4XoUriBAPQrXo3B9M0BSuB6F61E/QHsUrkfhOj9AUrgehetRyD8AAAAAAADwPzMzMzMzMwNASOF6FK5HDUBxPQrXo3AWQClcj8L1qCBAH4XrUbieK0A=",
          "dtype": "f8"
         },
         "y0": " ",
         "yaxis": "y"
        },
        {
         "alignmentgroup": "True",
         "hovertemplate": "model=qwen3-8b-ollama<br>gpu=%{x}<br>ttft=%{y}<extra></extra>",
         "legendgroup": "qwen3-8b-ollama",
         "marker": {
          "color": "#00cc96"
         },
         "name": "qwen3-8b-ollama",
         "notched": false,
         "offsetgroup": "qwen3-8b-ollama",
         "orientation": "v",
         "showlegend": true,
         "type": "box",
         "x": [
          "A2_x1",
          "A2_x1",
          "A2_x1",
          "A2_x1",
          "A2_x1",
          "A2_x1",
          "A2_x1"
         ],
         "x0": " ",
         "xaxis": "x",
         "y": {
          "bdata": "zczMzMzM/D+uR+F6FK4gQLgehetRuCBAPQrXo3C9IEDNzMzMzMwgQFK4HoXr0SBAXI/C9SjcIEA=",
          "dtype": "f8"
         },
         "y0": " ",
         "yaxis": "y"
        },
        {
         "alignmentgroup": "True",
         "hovertemplate": "model=Qwen3-8B<br>gpu=%{x}<br>ttft=%{y}<extra></extra>",
         "legendgroup": "Qwen3-8B",
         "marker": {
          "color": "#ab63fa"
         },
         "name": "Qwen3-8B",
         "notched": false,
         "offsetgroup": "Qwen3-8B",
         "orientation": "v",
         "showlegend": true,
         "type": "box",
         "x": [
          "A2_x2",
          "A2_x2",
          "A2_x2",
          "A2_x2",
          "A2_x2",
          "A2_x2",
          "A2_x2",
          "T4_x2",
          "T4_x2",
          "T4_x2",
          "T4_x2",
          "T4_x2",
          "T4_x2",
          "T4_x2",
          "T4_x4",
          "T4_x4",
          "T4_x4",
          "T4_x4",
          "T4_x4",
          "T4_x4",
          "T4_x4"
         ],
         "x0": " ",
         "xaxis": "x",
         "y": {
          "bdata": "4XoUrkfh4j/Xo3A9CtcJQEjhehSuRxxA4XoUrkfhJkD2KFyPwnUwQOxRuB6FKzZAMzMzMzNzPEAAAAAAAADgPwrXo3A9CgFApHA9CtejE0CamZmZmZkhQNejcD0KVytAexSuR+H6M0AK16NwPco8QOxRuB6F69E/uB6F61G49j9xPQrXo3AJQFyPwvUoXBRAKVyPwvUoH0B7FK5H4XorQK5H4XoUrjpA",
          "dtype": "f8"
         },
         "y0": " ",
         "yaxis": "y"
        },
        {
         "alignmentgroup": "True",
         "hovertemplate": "model=Qwen3-8B-AWQ<br>gpu=%{x}<br>ttft=%{y}<extra></extra>",
         "legendgroup": "Qwen3-8B-AWQ",
         "marker": {
          "color": "#FFA15A"
         },
         "name": "Qwen3-8B-AWQ",
         "notched": false,
         "offsetgroup": "Qwen3-8B-AWQ",
         "orientation": "v",
         "showlegend": true,
         "type": "box",
         "x": [
          "A2_x1",
          "A2_x1",
          "A2_x1",
          "A2_x1",
          "A2_x1",
          "A2_x1",
          "A2_x1",
          "T4_x1",
          "T4_x1",
          "T4_x1",
          "T4_x1",
          "T4_x1",
          "T4_x1",
          "T4_x1"
         ],
         "x0": " ",
         "xaxis": "x",
         "y": {
          "bdata": "H4XrUbge8T/Xo3A9CtcWQOF6FK5HYSlASOF6FK4HNUC4HoXrUTg+QKRwPQrXY0RArkfhehRuSkBmZmZmZmbmPxSuR+F6FA5AXI/C9SjcIkBmZmZmZmYxQKRwPQrX4ztA7FG4HoVLREBmZmZmZiZKQA==",
          "dtype": "f8"
         },
         "y0": " ",
         "yaxis": "y"
        },
        {
         "alignmentgroup": "True",
         "hovertemplate": "model=qwen3-14b-ollama<br>gpu=%{x}<br>ttft=%{y}<extra></extra>",
         "legendgroup": "qwen3-14b-ollama",
         "marker": {
          "color": "#19d3f3"
         },
         "name": "qwen3-14b-ollama",
         "notched": false,
         "offsetgroup": "qwen3-14b-ollama",
         "orientation": "v",
         "showlegend": true,
         "type": "box",
         "x": [
          "A2_x1",
          "A2_x1",
          "A2_x1",
          "A2_x1",
          "A2_x1",
          "A2_x1",
          "A2_x1"
         ],
         "x0": " ",
         "xaxis": "x",
         "y": {
          "bdata": "zczMzMzM/D89CtejcL0gQD0K16NwvSBAcT0K16PwIEBI4XoUrscgQFK4HoXr0SBA4XoUrkfhIEA=",
          "dtype": "f8"
         },
         "y0": " ",
         "yaxis": "y"
        },
        {
         "alignmentgroup": "True",
         "hovertemplate": "model=Qwen3-14B<br>gpu=%{x}<br>ttft=%{y}<extra></extra>",
         "legendgroup": "Qwen3-14B",
         "marker": {
          "color": "#FF6692"
         },
         "name": "Qwen3-14B",
         "notched": false,
         "offsetgroup": "Qwen3-14B",
         "orientation": "v",
         "showlegend": true,
         "type": "box",
         "x": [
          "T4_x4",
          "T4_x4",
          "T4_x4",
          "T4_x4",
          "T4_x4",
          "T4_x4",
          "T4_x4"
         ],
         "x0": " ",
         "xaxis": "x",
         "y": {
          "bdata": "hetRuB6F2z9SuB6F61ECQB+F61G4HhRAhetRuB6FIUAzMzMzMzM1QKRwPQrX40BA7FG4HoWLRkA=",
          "dtype": "f8"
         },
         "y0": " ",
         "yaxis": "y"
        },
        {
         "alignmentgroup": "True",
         "hovertemplate": "model=Qwen3-14B-INT8<br>gpu=%{x}<br>ttft=%{y}<extra></extra>",
         "legendgroup": "Qwen3-14B-INT8",
         "marker": {
          "color": "#B6E880"
         },
         "name": "Qwen3-14B-INT8",
         "notched": false,
         "offsetgroup": "Qwen3-14B-INT8",
         "orientation": "v",
         "showlegend": true,
         "type": "box",
         "x": [
          "A2_x2",
          "A2_x2",
          "A2_x2",
          "A2_x2",
          "A2_x2",
          "A2_x2",
          "T4_x2",
          "T4_x2",
          "T4_x2",
          "T4_x2",
          "T4_x2",
          "T4_x2",
          "T4_x2"
         ],
         "x0": " ",
         "xaxis": "x",
         "y": {
          "bdata": "cT0K16Nw5T8zMzMzMzMNQM3MzMzMTCBArkfhehSuKkApXI/C9agzQKRwPQrXYzpAhetRuB6F4z9SuB6F61EGQGZmZmZmZhlAhetRuB4FJ0DsUbgehesxQEjhehSuxzpArkfhehQORUA=",
          "dtype": "f8"
         },
         "y0": " ",
         "yaxis": "y"
        },
        {
         "alignmentgroup": "True",
         "hovertemplate": "model=Qwen3-32B-GPTQ-Int8<br>gpu=%{x}<br>ttft=%{y}<extra></extra>",
         "legendgroup": "Qwen3-32B-GPTQ-Int8",
         "marker": {
          "color": "#FF97FF"
         },
         "name": "Qwen3-32B-GPTQ-Int8",
         "notched": false,
         "offsetgroup": "Qwen3-32B-GPTQ-Int8",
         "orientation": "v",
         "showlegend": true,
         "type": "box",
         "x": [
          "T4_x4",
          "T4_x4",
          "T4_x4",
          "T4_x4",
          "T4_x4",
          "T4_x4"
         ],
         "x0": " ",
         "xaxis": "x",
         "y": {
          "bdata": "FK5H4XoU7j9xPQrXo3ATQLgehetRuCZAMzMzMzNzQUA9CtejcP1OQD0K16NwPVZA",
          "dtype": "f8"
         },
         "y0": " ",
         "yaxis": "y"
        },
        {
         "alignmentgroup": "True",
         "hovertemplate": "model=Qwen3-0.6B<br>gpu=%{x}<br>ttft=%{y}<extra></extra>",
         "legendgroup": "Qwen3-0.6B",
         "marker": {
          "color": "#FECB52"
         },
         "name": "Qwen3-0.6B",
         "notched": false,
         "offsetgroup": "Qwen3-0.6B",
         "orientation": "v",
         "showlegend": true,
         "type": "box",
         "x": [
          "A2_x1",
          "A2_x1",
          "A2_x1",
          "A2_x1",
          "A2_x1",
          "A2_x1",
          "A2_x1",
          "A2_x2",
          "A2_x2",
          "A2_x2",
          "A2_x2",
          "A2_x2",
          "A2_x2",
          "A2_x2",
          "T4_x1",
          "T4_x1",
          "T4_x1",
          "T4_x1",
          "T4_x1",
          "T4_x1",
          "T4_x1",
          "T4_x2",
          "T4_x2",
          "T4_x2",
          "T4_x2",
          "T4_x2",
          "T4_x2",
          "T4_x2"
         ],
         "x0": " ",
         "xaxis": "x",
         "y": {
          "bdata": "KVyPwvUovD/D9Shcj8LlP/YoXI/C9fw/rkfhehSuC0AfhetRuB4WQMP1KFyPQiBAZmZmZmZmJkB7FK5H4Xq0Pylcj8L1KNw/SOF6FK5H8T+F61G4HoX/P6RwPQrXowhAw/UoXI/CEUAfhetRuB4YQHsUrkfherQ/j8L1KFyP4j97FK5H4Xr4PwAAAAAAAAhApHA9CtejFEDXo3A9CtcfQPYoXI/C9SZAmpmZmZmZuT/NzMzMzMzcP8P1KFyPwvU/pHA9Ctej/D9I4XoUrkcHQGZmZmZmZhFAzczMzMzMGUA=",
          "dtype": "f8"
         },
         "y0": " ",
         "yaxis": "y"
        }
       ],
       "layout": {
        "boxmode": "group",
        "legend": {
         "title": {
          "text": "model"
         },
         "tracegroupgap": 0
        },
        "template": {
         "data": {
          "bar": [
           {
            "error_x": {
             "color": "#2a3f5f"
            },
            "error_y": {
             "color": "#2a3f5f"
            },
            "marker": {
             "line": {
              "color": "#E5ECF6",
              "width": 0.5
             },
             "pattern": {
              "fillmode": "overlay",
              "size": 10,
              "solidity": 0.2
             }
            },
            "type": "bar"
           }
          ],
          "barpolar": [
           {
            "marker": {
             "line": {
              "color": "#E5ECF6",
              "width": 0.5
             },
             "pattern": {
              "fillmode": "overlay",
              "size": 10,
              "solidity": 0.2
             }
            },
            "type": "barpolar"
           }
          ],
          "carpet": [
           {
            "aaxis": {
             "endlinecolor": "#2a3f5f",
             "gridcolor": "white",
             "linecolor": "white",
             "minorgridcolor": "white",
             "startlinecolor": "#2a3f5f"
            },
            "baxis": {
             "endlinecolor": "#2a3f5f",
             "gridcolor": "white",
             "linecolor": "white",
             "minorgridcolor": "white",
             "startlinecolor": "#2a3f5f"
            },
            "type": "carpet"
           }
          ],
          "choropleth": [
           {
            "colorbar": {
             "outlinewidth": 0,
             "ticks": ""
            },
            "type": "choropleth"
           }
          ],
          "contour": [
           {
            "colorbar": {
             "outlinewidth": 0,
             "ticks": ""
            },
            "colorscale": [
             [
              0,
              "#0d0887"
             ],
             [
              0.1111111111111111,
              "#46039f"
             ],
             [
              0.2222222222222222,
              "#7201a8"
             ],
             [
              0.3333333333333333,
              "#9c179e"
             ],
             [
              0.4444444444444444,
              "#bd3786"
             ],
             [
              0.5555555555555556,
              "#d8576b"
             ],
             [
              0.6666666666666666,
              "#ed7953"
             ],
             [
              0.7777777777777778,
              "#fb9f3a"
             ],
             [
              0.8888888888888888,
              "#fdca26"
             ],
             [
              1,
              "#f0f921"
             ]
            ],
            "type": "contour"
           }
          ],
          "contourcarpet": [
           {
            "colorbar": {
             "outlinewidth": 0,
             "ticks": ""
            },
            "type": "contourcarpet"
           }
          ],
          "heatmap": [
           {
            "colorbar": {
             "outlinewidth": 0,
             "ticks": ""
            },
            "colorscale": [
             [
              0,
              "#0d0887"
             ],
             [
              0.1111111111111111,
              "#46039f"
             ],
             [
              0.2222222222222222,
              "#7201a8"
             ],
             [
              0.3333333333333333,
              "#9c179e"
             ],
             [
              0.4444444444444444,
              "#bd3786"
             ],
             [
              0.5555555555555556,
              "#d8576b"
             ],
             [
              0.6666666666666666,
              "#ed7953"
             ],
             [
              0.7777777777777778,
              "#fb9f3a"
             ],
             [
              0.8888888888888888,
              "#fdca26"
             ],
             [
              1,
              "#f0f921"
             ]
            ],
            "type": "heatmap"
           }
          ],
          "histogram": [
           {
            "marker": {
             "pattern": {
              "fillmode": "overlay",
              "size": 10,
              "solidity": 0.2
             }
            },
            "type": "histogram"
           }
          ],
          "histogram2d": [
           {
            "colorbar": {
             "outlinewidth": 0,
             "ticks": ""
            },
            "colorscale": [
             [
              0,
              "#0d0887"
             ],
             [
              0.1111111111111111,
              "#46039f"
             ],
             [
              0.2222222222222222,
              "#7201a8"
             ],
             [
              0.3333333333333333,
              "#9c179e"
             ],
             [
              0.4444444444444444,
              "#bd3786"
             ],
             [
              0.5555555555555556,
              "#d8576b"
             ],
             [
              0.6666666666666666,
              "#ed7953"
             ],
             [
              0.7777777777777778,
              "#fb9f3a"
             ],
             [
              0.8888888888888888,
              "#fdca26"
             ],
             [
              1,
              "#f0f921"
             ]
            ],
            "type": "histogram2d"
           }
          ],
          "histogram2dcontour": [
           {
            "colorbar": {
             "outlinewidth": 0,
             "ticks": ""
            },
            "colorscale": [
             [
              0,
              "#0d0887"
             ],
             [
              0.1111111111111111,
              "#46039f"
             ],
             [
              0.2222222222222222,
              "#7201a8"
             ],
             [
              0.3333333333333333,
              "#9c179e"
             ],
             [
              0.4444444444444444,
              "#bd3786"
             ],
             [
              0.5555555555555556,
              "#d8576b"
             ],
             [
              0.6666666666666666,
              "#ed7953"
             ],
             [
              0.7777777777777778,
              "#fb9f3a"
             ],
             [
              0.8888888888888888,
              "#fdca26"
             ],
             [
              1,
              "#f0f921"
             ]
            ],
            "type": "histogram2dcontour"
           }
          ],
          "mesh3d": [
           {
            "colorbar": {
             "outlinewidth": 0,
             "ticks": ""
            },
            "type": "mesh3d"
           }
          ],
          "parcoords": [
           {
            "line": {
             "colorbar": {
              "outlinewidth": 0,
              "ticks": ""
             }
            },
            "type": "parcoords"
           }
          ],
          "pie": [
           {
            "automargin": true,
            "type": "pie"
           }
          ],
          "scatter": [
           {
            "fillpattern": {
             "fillmode": "overlay",
             "size": 10,
             "solidity": 0.2
            },
            "type": "scatter"
           }
          ],
          "scatter3d": [
           {
            "line": {
             "colorbar": {
              "outlinewidth": 0,
              "ticks": ""
             }
            },
            "marker": {
             "colorbar": {
              "outlinewidth": 0,
              "ticks": ""
             }
            },
            "type": "scatter3d"
           }
          ],
          "scattercarpet": [
           {
            "marker": {
             "colorbar": {
              "outlinewidth": 0,
              "ticks": ""
             }
            },
            "type": "scattercarpet"
           }
          ],
          "scattergeo": [
           {
            "marker": {
             "colorbar": {
              "outlinewidth": 0,
              "ticks": ""
             }
            },
            "type": "scattergeo"
           }
          ],
          "scattergl": [
           {
            "marker": {
             "colorbar": {
              "outlinewidth": 0,
              "ticks": ""
             }
            },
            "type": "scattergl"
           }
          ],
          "scattermap": [
           {
            "marker": {
             "colorbar": {
              "outlinewidth": 0,
              "ticks": ""
             }
            },
            "type": "scattermap"
           }
          ],
          "scattermapbox": [
           {
            "marker": {
             "colorbar": {
              "outlinewidth": 0,
              "ticks": ""
             }
            },
            "type": "scattermapbox"
           }
          ],
          "scatterpolar": [
           {
            "marker": {
             "colorbar": {
              "outlinewidth": 0,
              "ticks": ""
             }
            },
            "type": "scatterpolar"
           }
          ],
          "scatterpolargl": [
           {
            "marker": {
             "colorbar": {
              "outlinewidth": 0,
              "ticks": ""
             }
            },
            "type": "scatterpolargl"
           }
          ],
          "scatterternary": [
           {
            "marker": {
             "colorbar": {
              "outlinewidth": 0,
              "ticks": ""
             }
            },
            "type": "scatterternary"
           }
          ],
          "surface": [
           {
            "colorbar": {
             "outlinewidth": 0,
             "ticks": ""
            },
            "colorscale": [
             [
              0,
              "#0d0887"
             ],
             [
              0.1111111111111111,
              "#46039f"
             ],
             [
              0.2222222222222222,
              "#7201a8"
             ],
             [
              0.3333333333333333,
              "#9c179e"
             ],
             [
              0.4444444444444444,
              "#bd3786"
             ],
             [
              0.5555555555555556,
              "#d8576b"
             ],
             [
              0.6666666666666666,
              "#ed7953"
             ],
             [
              0.7777777777777778,
              "#fb9f3a"
             ],
             [
              0.8888888888888888,
              "#fdca26"
             ],
             [
              1,
              "#f0f921"
             ]
            ],
            "type": "surface"
           }
          ],
          "table": [
           {
            "cells": {
             "fill": {
              "color": "#EBF0F8"
             },
             "line": {
              "color": "white"
             }
            },
            "header": {
             "fill": {
              "color": "#C8D4E3"
             },
             "line": {
              "color": "white"
             }
            },
            "type": "table"
           }
          ]
         },
         "layout": {
          "annotationdefaults": {
           "arrowcolor": "#2a3f5f",
           "arrowhead": 0,
           "arrowwidth": 1
          },
          "autotypenumbers": "strict",
          "coloraxis": {
           "colorbar": {
            "outlinewidth": 0,
            "ticks": ""
           }
          },
          "colorscale": {
           "diverging": [
            [
             0,
             "#8e0152"
            ],
            [
             0.1,
             "#c51b7d"
            ],
            [
             0.2,
             "#de77ae"
            ],
            [
             0.3,
             "#f1b6da"
            ],
            [
             0.4,
             "#fde0ef"
            ],
            [
             0.5,
             "#f7f7f7"
            ],
            [
             0.6,
             "#e6f5d0"
            ],
            [
             0.7,
             "#b8e186"
            ],
            [
             0.8,
             "#7fbc41"
            ],
            [
             0.9,
             "#4d9221"
            ],
            [
             1,
             "#276419"
            ]
           ],
           "sequential": [
            [
             0,
             "#0d0887"
            ],
            [
             0.1111111111111111,
             "#46039f"
            ],
            [
             0.2222222222222222,
             "#7201a8"
            ],
            [
             0.3333333333333333,
             "#9c179e"
            ],
            [
             0.4444444444444444,
             "#bd3786"
            ],
            [
             0.5555555555555556,
             "#d8576b"
            ],
            [
             0.6666666666666666,
             "#ed7953"
            ],
            [
             0.7777777777777778,
             "#fb9f3a"
            ],
            [
             0.8888888888888888,
             "#fdca26"
            ],
            [
             1,
             "#f0f921"
            ]
           ],
           "sequentialminus": [
            [
             0,
             "#0d0887"
            ],
            [
             0.1111111111111111,
             "#46039f"
            ],
            [
             0.2222222222222222,
             "#7201a8"
            ],
            [
             0.3333333333333333,
             "#9c179e"
            ],
            [
             0.4444444444444444,
             "#bd3786"
            ],
            [
             0.5555555555555556,
             "#d8576b"
            ],
            [
             0.6666666666666666,
             "#ed7953"
            ],
            [
             0.7777777777777778,
             "#fb9f3a"
            ],
            [
             0.8888888888888888,
             "#fdca26"
            ],
            [
             1,
             "#f0f921"
            ]
           ]
          },
          "colorway": [
           "#636efa",
           "#EF553B",
           "#00cc96",
           "#ab63fa",
           "#FFA15A",
           "#19d3f3",
           "#FF6692",
           "#B6E880",
           "#FF97FF",
           "#FECB52"
          ],
          "font": {
           "color": "#2a3f5f"
          },
          "geo": {
           "bgcolor": "white",
           "lakecolor": "white",
           "landcolor": "#E5ECF6",
           "showlakes": true,
           "showland": true,
           "subunitcolor": "white"
          },
          "hoverlabel": {
           "align": "left"
          },
          "hovermode": "closest",
          "mapbox": {
           "style": "light"
          },
          "paper_bgcolor": "white",
          "plot_bgcolor": "#E5ECF6",
          "polar": {
           "angularaxis": {
            "gridcolor": "white",
            "linecolor": "white",
            "ticks": ""
           },
           "bgcolor": "#E5ECF6",
           "radialaxis": {
            "gridcolor": "white",
            "linecolor": "white",
            "ticks": ""
           }
          },
          "scene": {
           "xaxis": {
            "backgroundcolor": "#E5ECF6",
            "gridcolor": "white",
            "gridwidth": 2,
            "linecolor": "white",
            "showbackground": true,
            "ticks": "",
            "zerolinecolor": "white"
           },
           "yaxis": {
            "backgroundcolor": "#E5ECF6",
            "gridcolor": "white",
            "gridwidth": 2,
            "linecolor": "white",
            "showbackground": true,
            "ticks": "",
            "zerolinecolor": "white"
           },
           "zaxis": {
            "backgroundcolor": "#E5ECF6",
            "gridcolor": "white",
            "gridwidth": 2,
            "linecolor": "white",
            "showbackground": true,
            "ticks": "",
            "zerolinecolor": "white"
           }
          },
          "shapedefaults": {
           "line": {
            "color": "#2a3f5f"
           }
          },
          "ternary": {
           "aaxis": {
            "gridcolor": "white",
            "linecolor": "white",
            "ticks": ""
           },
           "baxis": {
            "gridcolor": "white",
            "linecolor": "white",
            "ticks": ""
           },
           "bgcolor": "#E5ECF6",
           "caxis": {
            "gridcolor": "white",
            "linecolor": "white",
            "ticks": ""
           }
          },
          "title": {
           "x": 0.05
          },
          "xaxis": {
           "automargin": true,
           "gridcolor": "white",
           "linecolor": "white",
           "ticks": "",
           "title": {
            "standoff": 15
           },
           "zerolinecolor": "white",
           "zerolinewidth": 2
          },
          "yaxis": {
           "automargin": true,
           "gridcolor": "white",
           "linecolor": "white",
           "ticks": "",
           "title": {
            "standoff": 15
           },
           "zerolinecolor": "white",
           "zerolinewidth": 2
          }
         }
        },
        "title": {
         "text": "Time to First Token by GPU and Model"
        },
        "xaxis": {
         "anchor": "y",
         "categoryarray": [
          "A2_x1",
          "T4_x1",
          "A2_x2",
          "T4_x2",
          "T4_x4"
         ],
         "categoryorder": "array",
         "domain": [
          0,
          1
         ],
         "title": {
          "text": "gpu"
         }
        },
        "yaxis": {
         "anchor": "x",
         "domain": [
          0,
          1
         ],
         "title": {
          "text": "ttft"
         }
        }
       }
      }
     },
     "metadata": {},
     "output_type": "display_data"
    },
    {
     "data": {
      "application/vnd.plotly.v1+json": {
       "config": {
        "plotlyServerURL": "https://plot.ly"
       },
       "data": [
        {
         "alignmentgroup": "True",
         "hovertemplate": "model=Qwen3-1.7B<br>gpu=%{x}<br>gen_tokens_per_second=%{y}<extra></extra>",
         "legendgroup": "Qwen3-1.7B",
         "marker": {
          "color": "#636efa"
         },
         "name": "Qwen3-1.7B",
         "notched": false,
         "offsetgroup": "Qwen3-1.7B",
         "orientation": "v",
         "showlegend": true,
         "type": "box",
         "x": [
          "A2_x1",
          "A2_x1",
          "A2_x1",
          "A2_x1",
          "A2_x1",
          "A2_x1",
          "A2_x1",
          "A2_x2",
          "A2_x2",
          "A2_x2",
          "A2_x2",
          "A2_x2",
          "A2_x2",
          "A2_x2",
          "T4_x1",
          "T4_x1",
          "T4_x1",
          "T4_x1",
          "T4_x1",
          "T4_x1",
          "T4_x1",
          "T4_x2",
          "T4_x2",
          "T4_x2",
          "T4_x2",
          "T4_x2",
          "T4_x2",
          "T4_x2"
         ],
         "x0": " ",
         "xaxis": "x",
         "y": {
          "bdata": "H4XrUbjeRECuR+F6FK5CQOF6FK5HgUBAKVyPwvUoPUCkcD0K16M6QAAAAAAAgDhAcT0K16NwNkBcj8L1KLxSQD0K16NwzVBAmpmZmZn5TUAUrkfhevRKQAAAAAAAIEhAcT0K16NQRkAUrkfhetREQK5H4XoUflBASOF6FK6HTkA9CtejcB1HQOF6FK5HAUdAZmZmZmaGRUC4HoXrUbhDQLgehetRWEFAcT0K16OQVEDsUbgehYtTQKRwPQrXQ0JAw/UoXI9CQkD2KFyPwjVCQDMzMzMz00FA9ihcj8I1QkA=",
          "dtype": "f8"
         },
         "y0": " ",
         "yaxis": "y"
        },
        {
         "alignmentgroup": "True",
         "hovertemplate": "model=Qwen3-4B<br>gpu=%{x}<br>gen_tokens_per_second=%{y}<extra></extra>",
         "legendgroup": "Qwen3-4B",
         "marker": {
          "color": "#EF553B"
         },
         "name": "Qwen3-4B",
         "notched": false,
         "offsetgroup": "Qwen3-4B",
         "orientation": "v",
         "showlegend": true,
         "type": "box",
         "x": [
          "A2_x1",
          "A2_x1",
          "A2_x1",
          "A2_x1",
          "A2_x1",
          "A2_x1",
          "A2_x1",
          "A2_x2",
          "A2_x2",
          "A2_x2",
          "A2_x2",
          "A2_x2",
          "A2_x2",
          "A2_x2",
          "T4_x1",
          "T4_x1",
          "T4_x1",
          "T4_x1",
          "T4_x1",
          "T4_x1",
          "T4_x2",
          "T4_x2",
          "T4_x2",
          "T4_x2",
          "T4_x2",
          "T4_x2",
          "T4_x2",
          "T4_x4",
          "T4_x4",
          "T4_x4",
          "T4_x4",
          "T4_x4",
          "T4_x4",
          "T4_x4"
         ],
         "x0": " ",
         "xaxis": "x",
         "y": {
          "bdata": "XI/C9SgcM0D2KFyPwvUxQB+F61G4njBAZmZmZmbmLkDNzMzMzMwsQD0K16NwvSpAKVyPwvUoKUAUrkfhehRCQIXrUbgexUBAmpmZmZlZP0BmZmZmZuY8QKRwPQrXIztAPQrXo3B9OUAUrkfhehQ4QD0K16NwfT1AUrgehetRO0AUrkfhetQ3QIXrUbgehTRAUrgeheuRM0ApXI/C9agzQIXrUbgehTZAKVyPwvXoREBmZmZmZuY8QEjhehSuRz1AexSuR+G6OEBxPQrXo3AwQIXrUbgexTZAAAAAAACATUAUrkfhevRLQFyPwvUoXDtACtejcD1KO0DNzMzMzEw4QOF6FK5H4TdAmpmZmZlZNkA=",
          "dtype": "f8"
         },
         "y0": " ",
         "yaxis": "y"
        },
        {
         "alignmentgroup": "True",
         "hovertemplate": "model=qwen3-8b-ollama<br>gpu=%{x}<br>gen_tokens_per_second=%{y}<extra></extra>",
         "legendgroup": "qwen3-8b-ollama",
         "marker": {
          "color": "#00cc96"
         },
         "name": "qwen3-8b-ollama",
         "notched": false,
         "offsetgroup": "qwen3-8b-ollama",
         "orientation": "v",
         "showlegend": true,
         "type": "box",
         "x": [
          "A2_x1",
          "A2_x1",
          "A2_x1",
          "A2_x1",
          "A2_x1",
          "A2_x1",
          "A2_x1"
         ],
         "x0": " ",
         "xaxis": "x",
         "y": {
          "bdata": "FK5H4XpUNUDNzMzMzEwzQAAAAAAAQDNAAAAAAABAM0BI4XoUrkczQAAAAAAAQDNAMzMzMzMzM0A=",
          "dtype": "f8"
         },
         "y0": " ",
         "yaxis": "y"
        },
        {
         "alignmentgroup": "True",
         "hovertemplate": "model=Qwen3-8B<br>gpu=%{x}<br>gen_tokens_per_second=%{y}<extra></extra>",
         "legendgroup": "Qwen3-8B",
         "marker": {
          "color": "#ab63fa"
         },
         "name": "Qwen3-8B",
         "notched": false,
         "offsetgroup": "Qwen3-8B",
         "orientation": "v",
         "showlegend": true,
         "type": "box",
         "x": [
          "A2_x2",
          "A2_x2",
          "A2_x2",
          "A2_x2",
          "A2_x2",
          "A2_x2",
          "A2_x2",
          "T4_x2",
          "T4_x2",
          "T4_x2",
          "T4_x2",
          "T4_x2",
          "T4_x2",
          "T4_x2",
          "T4_x4",
          "T4_x4",
          "T4_x4",
          "T4_x4",
          "T4_x4",
          "T4_x4",
          "T4_x4"
         ],
         "x0": " ",
         "xaxis": "x",
         "y": {
          "bdata": "j8L1KFyPNEAUrkfhetQzQKRwPQrXozJAzczMzMwMMkAK16NwPUoxQOF6FK5HoTBASOF6FK4HMECamZmZmRk+QLgehetR+DxAzczMzMwMPECamZmZmZk6QOF6FK5H4ThAzczMzMwMN0A9CtejcL00QEjhehSuZ0VAZmZmZmYmRUBxPQrXo/A7QHE9CtejsDtA4XoUrkdhO0DD9Shcj0I7QHE9CtejMDdA",
          "dtype": "f8"
         },
         "y0": " ",
         "yaxis": "y"
        },
        {
         "alignmentgroup": "True",
         "hovertemplate": "model=Qwen3-8B-AWQ<br>gpu=%{x}<br>gen_tokens_per_second=%{y}<extra></extra>",
         "legendgroup": "Qwen3-8B-AWQ",
         "marker": {
          "color": "#FFA15A"
         },
         "name": "Qwen3-8B-AWQ",
         "notched": false,
         "offsetgroup": "Qwen3-8B-AWQ",
         "orientation": "v",
         "showlegend": true,
         "type": "box",
         "x": [
          "A2_x1",
          "A2_x1",
          "A2_x1",
          "A2_x1",
          "A2_x1",
          "A2_x1",
          "A2_x1",
          "T4_x1",
          "T4_x1",
          "T4_x1",
          "T4_x1",
          "T4_x1",
          "T4_x1",
          "T4_x1"
         ],
         "x0": " ",
         "xaxis": "x",
         "y": {
          "bdata": "cT0K16NwPkBmZmZmZmY7QI/C9ShcTzhAw/UoXI8CNkC4HoXrUfgzQJqZmZmZGTJAhetRuB7FMEBI4XoUroc/QHE9CtejMDxAZmZmZmamOECkcD0K1yM1QFyPwvUonDJAMzMzMzOzMEBSuB6F61EwQA==",
          "dtype": "f8"
         },
         "y0": " ",
         "yaxis": "y"
        },
        {
         "alignmentgroup": "True",
         "hovertemplate": "model=qwen3-14b-ollama<br>gpu=%{x}<br>gen_tokens_per_second=%{y}<extra></extra>",
         "legendgroup": "qwen3-14b-ollama",
         "marker": {
          "color": "#19d3f3"
         },
         "name": "qwen3-14b-ollama",
         "notched": false,
         "offsetgroup": "qwen3-14b-ollama",
         "orientation": "v",
         "showlegend": true,
         "type": "box",
         "x": [
          "A2_x1",
          "A2_x1",
          "A2_x1",
          "A2_x1",
          "A2_x1",
          "A2_x1",
          "A2_x1"
         ],
         "x0": " ",
         "xaxis": "x",
         "y": {
          "bdata": "rkfhehQuNUCamZmZmVkzQKRwPQrXIzNAj8L1KFxPM0AK16NwPUozQArXo3A9SjNAw/UoXI9CM0A=",
          "dtype": "f8"
         },
         "y0": " ",
         "yaxis": "y"
        },
        {
         "alignmentgroup": "True",
         "hovertemplate": "model=Qwen3-14B<br>gpu=%{x}<br>gen_tokens_per_second=%{y}<extra></extra>",
         "legendgroup": "Qwen3-14B",
         "marker": {
          "color": "#FF6692"
         },
         "name": "Qwen3-14B",
         "notched": false,
         "offsetgroup": "Qwen3-14B",
         "orientation": "v",
         "showlegend": true,
         "type": "box",
         "x": [
          "T4_x4",
          "T4_x4",
          "T4_x4",
          "T4_x4",
          "T4_x4",
          "T4_x4",
          "T4_x4"
         ],
         "x0": " ",
         "xaxis": "x",
         "y": {
          "bdata": "4XoUrkfhOkAUrkfhelQ6QB+F61G4HjVAmpmZmZkZNUDXo3A9CtcxQD0K16Nw/TBAKVyPwvXoMEA=",
          "dtype": "f8"
         },
         "y0": " ",
         "yaxis": "y"
        },
        {
         "alignmentgroup": "True",
         "hovertemplate": "model=Qwen3-14B-INT8<br>gpu=%{x}<br>gen_tokens_per_second=%{y}<extra></extra>",
         "legendgroup": "Qwen3-14B-INT8",
         "marker": {
          "color": "#B6E880"
         },
         "name": "Qwen3-14B-INT8",
         "notched": false,
         "offsetgroup": "Qwen3-14B-INT8",
         "orientation": "v",
         "showlegend": true,
         "type": "box",
         "x": [
          "A2_x2",
          "A2_x2",
          "A2_x2",
          "A2_x2",
          "A2_x2",
          "A2_x2",
          "T4_x2",
          "T4_x2",
          "T4_x2",
          "T4_x2",
          "T4_x2",
          "T4_x2",
          "T4_x2"
         ],
         "x0": " ",
         "xaxis": "x",
         "y": {
          "bdata": "w/UoXI9CMkDD9Shcj4IxQNejcD0KlzBA16NwPQoXMEDD9Shcj8IuQMP1KFyPwi1AH4XrUbieNUC4HoXrUbg0QIXrUbgeRTRAKVyPwvWoMkDhehSuR+ExQHE9Ctej8DBAZmZmZmbmL0A=",
          "dtype": "f8"
         },
         "y0": " ",
         "yaxis": "y"
        },
        {
         "alignmentgroup": "True",
         "hovertemplate": "model=Qwen3-32B-GPTQ-Int8<br>gpu=%{x}<br>gen_tokens_per_second=%{y}<extra></extra>",
         "legendgroup": "Qwen3-32B-GPTQ-Int8",
         "marker": {
          "color": "#FF97FF"
         },
         "name": "Qwen3-32B-GPTQ-Int8",
         "notched": false,
         "offsetgroup": "Qwen3-32B-GPTQ-Int8",
         "orientation": "v",
         "showlegend": true,
         "type": "box",
         "x": [
          "T4_x4",
          "T4_x4",
          "T4_x4",
          "T4_x4",
          "T4_x4",
          "T4_x4"
         ],
         "x0": " ",
         "xaxis": "x",
         "y": {
          "bdata": "hetRuB7FNEBxPQrXo/AzQClcj8L1KCtAUrgehesRMEDsUbgehesnQB+F61G4HihA",
          "dtype": "f8"
         },
         "y0": " ",
         "yaxis": "y"
        },
        {
         "alignmentgroup": "True",
         "hovertemplate": "model=Qwen3-0.6B<br>gpu=%{x}<br>gen_tokens_per_second=%{y}<extra></extra>",
         "legendgroup": "Qwen3-0.6B",
         "marker": {
          "color": "#FECB52"
         },
         "name": "Qwen3-0.6B",
         "notched": false,
         "offsetgroup": "Qwen3-0.6B",
         "orientation": "v",
         "showlegend": true,
         "type": "box",
         "x": [
          "A2_x1",
          "A2_x1",
          "A2_x1",
          "A2_x1",
          "A2_x1",
          "A2_x1",
          "A2_x1",
          "A2_x2",
          "A2_x2",
          "A2_x2",
          "A2_x2",
          "A2_x2",
          "A2_x2",
          "A2_x2",
          "T4_x1",
          "T4_x1",
          "T4_x1",
          "T4_x1",
          "T4_x1",
          "T4_x1",
          "T4_x1",
          "T4_x2",
          "T4_x2",
          "T4_x2",
          "T4_x2",
          "T4_x2",
          "T4_x2",
          "T4_x2"
         ],
         "x0": " ",
         "xaxis": "x",
         "y": {
          "bdata": "zczMzMxcV0ApXI/C9WhSQJqZmZmZGU1AUrgehetRSEBmZmZmZsZEQNejcD0KF0JAMzMzMzPzP0DD9ShcjzpiQClcj8L1GF5A9ihcj8JVWEBcj8L1KHxUQHsUrkfh+lFAPQrXo3C9T0AUrkfhenRMQDMzMzMzW2BA16NwPQrHW0DhehSuR4FHQOxRuB6F60dAH4XrUbgeR0AUrkfhepRHQDMzMzMz00ZAw/UoXI/yW0DNzMzMzOxdQLgehetReEBA9ihcj8JVQkDXo3A9CldCQArXo3A9akJAFK5H4Xp0QkA=",
          "dtype": "f8"
         },
         "y0": " ",
         "yaxis": "y"
        }
       ],
       "layout": {
        "boxmode": "group",
        "legend": {
         "title": {
          "text": "model"
         },
         "tracegroupgap": 0
        },
        "template": {
         "data": {
          "bar": [
           {
            "error_x": {
             "color": "#2a3f5f"
            },
            "error_y": {
             "color": "#2a3f5f"
            },
            "marker": {
             "line": {
              "color": "#E5ECF6",
              "width": 0.5
             },
             "pattern": {
              "fillmode": "overlay",
              "size": 10,
              "solidity": 0.2
             }
            },
            "type": "bar"
           }
          ],
          "barpolar": [
           {
            "marker": {
             "line": {
              "color": "#E5ECF6",
              "width": 0.5
             },
             "pattern": {
              "fillmode": "overlay",
              "size": 10,
              "solidity": 0.2
             }
            },
            "type": "barpolar"
           }
          ],
          "carpet": [
           {
            "aaxis": {
             "endlinecolor": "#2a3f5f",
             "gridcolor": "white",
             "linecolor": "white",
             "minorgridcolor": "white",
             "startlinecolor": "#2a3f5f"
            },
            "baxis": {
             "endlinecolor": "#2a3f5f",
             "gridcolor": "white",
             "linecolor": "white",
             "minorgridcolor": "white",
             "startlinecolor": "#2a3f5f"
            },
            "type": "carpet"
           }
          ],
          "choropleth": [
           {
            "colorbar": {
             "outlinewidth": 0,
             "ticks": ""
            },
            "type": "choropleth"
           }
          ],
          "contour": [
           {
            "colorbar": {
             "outlinewidth": 0,
             "ticks": ""
            },
            "colorscale": [
             [
              0,
              "#0d0887"
             ],
             [
              0.1111111111111111,
              "#46039f"
             ],
             [
              0.2222222222222222,
              "#7201a8"
             ],
             [
              0.3333333333333333,
              "#9c179e"
             ],
             [
              0.4444444444444444,
              "#bd3786"
             ],
             [
              0.5555555555555556,
              "#d8576b"
             ],
             [
              0.6666666666666666,
              "#ed7953"
             ],
             [
              0.7777777777777778,
              "#fb9f3a"
             ],
             [
              0.8888888888888888,
              "#fdca26"
             ],
             [
              1,
              "#f0f921"
             ]
            ],
            "type": "contour"
           }
          ],
          "contourcarpet": [
           {
            "colorbar": {
             "outlinewidth": 0,
             "ticks": ""
            },
            "type": "contourcarpet"
           }
          ],
          "heatmap": [
           {
            "colorbar": {
             "outlinewidth": 0,
             "ticks": ""
            },
            "colorscale": [
             [
              0,
              "#0d0887"
             ],
             [
              0.1111111111111111,
              "#46039f"
             ],
             [
              0.2222222222222222,
              "#7201a8"
             ],
             [
              0.3333333333333333,
              "#9c179e"
             ],
             [
              0.4444444444444444,
              "#bd3786"
             ],
             [
              0.5555555555555556,
              "#d8576b"
             ],
             [
              0.6666666666666666,
              "#ed7953"
             ],
             [
              0.7777777777777778,
              "#fb9f3a"
             ],
             [
              0.8888888888888888,
              "#fdca26"
             ],
             [
              1,
              "#f0f921"
             ]
            ],
            "type": "heatmap"
           }
          ],
          "histogram": [
           {
            "marker": {
             "pattern": {
              "fillmode": "overlay",
              "size": 10,
              "solidity": 0.2
             }
            },
            "type": "histogram"
           }
          ],
          "histogram2d": [
           {
            "colorbar": {
             "outlinewidth": 0,
             "ticks": ""
            },
            "colorscale": [
             [
              0,
              "#0d0887"
             ],
             [
              0.1111111111111111,
              "#46039f"
             ],
             [
              0.2222222222222222,
              "#7201a8"
             ],
             [
              0.3333333333333333,
              "#9c179e"
             ],
             [
              0.4444444444444444,
              "#bd3786"
             ],
             [
              0.5555555555555556,
              "#d8576b"
             ],
             [
              0.6666666666666666,
              "#ed7953"
             ],
             [
              0.7777777777777778,
              "#fb9f3a"
             ],
             [
              0.8888888888888888,
              "#fdca26"
             ],
             [
              1,
              "#f0f921"
             ]
            ],
            "type": "histogram2d"
           }
          ],
          "histogram2dcontour": [
           {
            "colorbar": {
             "outlinewidth": 0,
             "ticks": ""
            },
            "colorscale": [
             [
              0,
              "#0d0887"
             ],
             [
              0.1111111111111111,
              "#46039f"
             ],
             [
              0.2222222222222222,
              "#7201a8"
             ],
             [
              0.3333333333333333,
              "#9c179e"
             ],
             [
              0.4444444444444444,
              "#bd3786"
             ],
             [
              0.5555555555555556,
              "#d8576b"
             ],
             [
              0.6666666666666666,
              "#ed7953"
             ],
             [
              0.7777777777777778,
              "#fb9f3a"
             ],
             [
              0.8888888888888888,
              "#fdca26"
             ],
             [
              1,
              "#f0f921"
             ]
            ],
            "type": "histogram2dcontour"
           }
          ],
          "mesh3d": [
           {
            "colorbar": {
             "outlinewidth": 0,
             "ticks": ""
            },
            "type": "mesh3d"
           }
          ],
          "parcoords": [
           {
            "line": {
             "colorbar": {
              "outlinewidth": 0,
              "ticks": ""
             }
            },
            "type": "parcoords"
           }
          ],
          "pie": [
           {
            "automargin": true,
            "type": "pie"
           }
          ],
          "scatter": [
           {
            "fillpattern": {
             "fillmode": "overlay",
             "size": 10,
             "solidity": 0.2
            },
            "type": "scatter"
           }
          ],
          "scatter3d": [
           {
            "line": {
             "colorbar": {
              "outlinewidth": 0,
              "ticks": ""
             }
            },
            "marker": {
             "colorbar": {
              "outlinewidth": 0,
              "ticks": ""
             }
            },
            "type": "scatter3d"
           }
          ],
          "scattercarpet": [
           {
            "marker": {
             "colorbar": {
              "outlinewidth": 0,
              "ticks": ""
             }
            },
            "type": "scattercarpet"
           }
          ],
          "scattergeo": [
           {
            "marker": {
             "colorbar": {
              "outlinewidth": 0,
              "ticks": ""
             }
            },
            "type": "scattergeo"
           }
          ],
          "scattergl": [
           {
            "marker": {
             "colorbar": {
              "outlinewidth": 0,
              "ticks": ""
             }
            },
            "type": "scattergl"
           }
          ],
          "scattermap": [
           {
            "marker": {
             "colorbar": {
              "outlinewidth": 0,
              "ticks": ""
             }
            },
            "type": "scattermap"
           }
          ],
          "scattermapbox": [
           {
            "marker": {
             "colorbar": {
              "outlinewidth": 0,
              "ticks": ""
             }
            },
            "type": "scattermapbox"
           }
          ],
          "scatterpolar": [
           {
            "marker": {
             "colorbar": {
              "outlinewidth": 0,
              "ticks": ""
             }
            },
            "type": "scatterpolar"
           }
          ],
          "scatterpolargl": [
           {
            "marker": {
             "colorbar": {
              "outlinewidth": 0,
              "ticks": ""
             }
            },
            "type": "scatterpolargl"
           }
          ],
          "scatterternary": [
           {
            "marker": {
             "colorbar": {
              "outlinewidth": 0,
              "ticks": ""
             }
            },
            "type": "scatterternary"
           }
          ],
          "surface": [
           {
            "colorbar": {
             "outlinewidth": 0,
             "ticks": ""
            },
            "colorscale": [
             [
              0,
              "#0d0887"
             ],
             [
              0.1111111111111111,
              "#46039f"
             ],
             [
              0.2222222222222222,
              "#7201a8"
             ],
             [
              0.3333333333333333,
              "#9c179e"
             ],
             [
              0.4444444444444444,
              "#bd3786"
             ],
             [
              0.5555555555555556,
              "#d8576b"
             ],
             [
              0.6666666666666666,
              "#ed7953"
             ],
             [
              0.7777777777777778,
              "#fb9f3a"
             ],
             [
              0.8888888888888888,
              "#fdca26"
             ],
             [
              1,
              "#f0f921"
             ]
            ],
            "type": "surface"
           }
          ],
          "table": [
           {
            "cells": {
             "fill": {
              "color": "#EBF0F8"
             },
             "line": {
              "color": "white"
             }
            },
            "header": {
             "fill": {
              "color": "#C8D4E3"
             },
             "line": {
              "color": "white"
             }
            },
            "type": "table"
           }
          ]
         },
         "layout": {
          "annotationdefaults": {
           "arrowcolor": "#2a3f5f",
           "arrowhead": 0,
           "arrowwidth": 1
          },
          "autotypenumbers": "strict",
          "coloraxis": {
           "colorbar": {
            "outlinewidth": 0,
            "ticks": ""
           }
          },
          "colorscale": {
           "diverging": [
            [
             0,
             "#8e0152"
            ],
            [
             0.1,
             "#c51b7d"
            ],
            [
             0.2,
             "#de77ae"
            ],
            [
             0.3,
             "#f1b6da"
            ],
            [
             0.4,
             "#fde0ef"
            ],
            [
             0.5,
             "#f7f7f7"
            ],
            [
             0.6,
             "#e6f5d0"
            ],
            [
             0.7,
             "#b8e186"
            ],
            [
             0.8,
             "#7fbc41"
            ],
            [
             0.9,
             "#4d9221"
            ],
            [
             1,
             "#276419"
            ]
           ],
           "sequential": [
            [
             0,
             "#0d0887"
            ],
            [
             0.1111111111111111,
             "#46039f"
            ],
            [
             0.2222222222222222,
             "#7201a8"
            ],
            [
             0.3333333333333333,
             "#9c179e"
            ],
            [
             0.4444444444444444,
             "#bd3786"
            ],
            [
             0.5555555555555556,
             "#d8576b"
            ],
            [
             0.6666666666666666,
             "#ed7953"
            ],
            [
             0.7777777777777778,
             "#fb9f3a"
            ],
            [
             0.8888888888888888,
             "#fdca26"
            ],
            [
             1,
             "#f0f921"
            ]
           ],
           "sequentialminus": [
            [
             0,
             "#0d0887"
            ],
            [
             0.1111111111111111,
             "#46039f"
            ],
            [
             0.2222222222222222,
             "#7201a8"
            ],
            [
             0.3333333333333333,
             "#9c179e"
            ],
            [
             0.4444444444444444,
             "#bd3786"
            ],
            [
             0.5555555555555556,
             "#d8576b"
            ],
            [
             0.6666666666666666,
             "#ed7953"
            ],
            [
             0.7777777777777778,
             "#fb9f3a"
            ],
            [
             0.8888888888888888,
             "#fdca26"
            ],
            [
             1,
             "#f0f921"
            ]
           ]
          },
          "colorway": [
           "#636efa",
           "#EF553B",
           "#00cc96",
           "#ab63fa",
           "#FFA15A",
           "#19d3f3",
           "#FF6692",
           "#B6E880",
           "#FF97FF",
           "#FECB52"
          ],
          "font": {
           "color": "#2a3f5f"
          },
          "geo": {
           "bgcolor": "white",
           "lakecolor": "white",
           "landcolor": "#E5ECF6",
           "showlakes": true,
           "showland": true,
           "subunitcolor": "white"
          },
          "hoverlabel": {
           "align": "left"
          },
          "hovermode": "closest",
          "mapbox": {
           "style": "light"
          },
          "paper_bgcolor": "white",
          "plot_bgcolor": "#E5ECF6",
          "polar": {
           "angularaxis": {
            "gridcolor": "white",
            "linecolor": "white",
            "ticks": ""
           },
           "bgcolor": "#E5ECF6",
           "radialaxis": {
            "gridcolor": "white",
            "linecolor": "white",
            "ticks": ""
           }
          },
          "scene": {
           "xaxis": {
            "backgroundcolor": "#E5ECF6",
            "gridcolor": "white",
            "gridwidth": 2,
            "linecolor": "white",
            "showbackground": true,
            "ticks": "",
            "zerolinecolor": "white"
           },
           "yaxis": {
            "backgroundcolor": "#E5ECF6",
            "gridcolor": "white",
            "gridwidth": 2,
            "linecolor": "white",
            "showbackground": true,
            "ticks": "",
            "zerolinecolor": "white"
           },
           "zaxis": {
            "backgroundcolor": "#E5ECF6",
            "gridcolor": "white",
            "gridwidth": 2,
            "linecolor": "white",
            "showbackground": true,
            "ticks": "",
            "zerolinecolor": "white"
           }
          },
          "shapedefaults": {
           "line": {
            "color": "#2a3f5f"
           }
          },
          "ternary": {
           "aaxis": {
            "gridcolor": "white",
            "linecolor": "white",
            "ticks": ""
           },
           "baxis": {
            "gridcolor": "white",
            "linecolor": "white",
            "ticks": ""
           },
           "bgcolor": "#E5ECF6",
           "caxis": {
            "gridcolor": "white",
            "linecolor": "white",
            "ticks": ""
           }
          },
          "title": {
           "x": 0.05
          },
          "xaxis": {
           "automargin": true,
           "gridcolor": "white",
           "linecolor": "white",
           "ticks": "",
           "title": {
            "standoff": 15
           },
           "zerolinecolor": "white",
           "zerolinewidth": 2
          },
          "yaxis": {
           "automargin": true,
           "gridcolor": "white",
           "linecolor": "white",
           "ticks": "",
           "title": {
            "standoff": 15
           },
           "zerolinecolor": "white",
           "zerolinewidth": 2
          }
         }
        },
        "title": {
         "text": "Generation Speed by GPU and Model"
        },
        "xaxis": {
         "anchor": "y",
         "categoryarray": [
          "A2_x1",
          "T4_x1",
          "A2_x2",
          "T4_x2",
          "T4_x4"
         ],
         "categoryorder": "array",
         "domain": [
          0,
          1
         ],
         "title": {
          "text": "gpu"
         }
        },
        "yaxis": {
         "anchor": "x",
         "domain": [
          0,
          1
         ],
         "title": {
          "text": "gen_tokens_per_second"
         }
        }
       }
      }
     },
     "metadata": {},
     "output_type": "display_data"
    },
    {
     "data": {
      "application/vnd.plotly.v1+json": {
       "config": {
        "plotlyServerURL": "https://plot.ly"
       },
       "data": [
        {
         "hovertemplate": "gpu=A2_x1<br>model=Qwen3-1.7B<br>input_tokens=%{x}<br>ttft=%{y}<extra></extra>",
         "legendgroup": "A2_x1, Qwen3-1.7B",
         "line": {
          "color": "#636efa",
          "dash": "solid"
         },
         "marker": {
          "symbol": "circle"
         },
         "mode": "lines",
         "name": "A2_x1, Qwen3-1.7B",
         "orientation": "v",
         "showlegend": true,
         "type": "scatter",
         "visible": "legendonly",
         "x": {
          "bdata": "8wOTExsnozorTrNhO3U=",
          "dtype": "i2"
         },
         "xaxis": "x",
         "y": {
          "bdata": "uB6F61G4zj+amZmZmZn1PwrXo3A9CglAj8L1KFyPFUBSuB6F61EgQK5H4XoUriZAXI/C9SjcLUA=",
          "dtype": "f8"
         },
         "yaxis": "y"
        },
        {
         "hovertemplate": "gpu=T4_x1<br>model=Qwen3-1.7B<br>input_tokens=%{x}<br>ttft=%{y}<extra></extra>",
         "legendgroup": "T4_x1, Qwen3-1.7B",
         "line": {
          "color": "#EF553B",
          "dash": "solid"
         },
         "marker": {
          "symbol": "circle"
         },
         "mode": "lines",
         "name": "T4_x1, Qwen3-1.7B",
         "orientation": "v",
         "showlegend": true,
         "type": "scatter",
         "visible": "legendonly",
         "x": {
          "bdata": "8wOTExsnozorTrNhO3U=",
          "dtype": "i2"
         },
         "xaxis": "x",
         "y": {
          "bdata": "MzMzMzMzwz9mZmZmZmbuPxSuR+F6FAJAj8L1KFyPEUDXo3A9CtcbQGZmZmZm5iRAXI/C9ShcLUA=",
          "dtype": "f8"
         },
         "yaxis": "y"
        },
        {
         "hovertemplate": "gpu=A2_x2<br>model=Qwen3-1.7B<br>input_tokens=%{x}<br>ttft=%{y}<extra></extra>",
         "legendgroup": "A2_x2, Qwen3-1.7B",
         "line": {
          "color": "#00cc96",
          "dash": "solid"
         },
         "marker": {
          "symbol": "circle"
         },
         "mode": "lines",
         "name": "A2_x2, Qwen3-1.7B",
         "orientation": "v",
         "showlegend": true,
         "type": "scatter",
         "visible": "legendonly",
         "x": {
          "bdata": "8wOTExsnozorTrNhO3U=",
          "dtype": "i2"
         },
         "xaxis": "x",
         "y": {
          "bdata": "exSuR+F6xD8zMzMzMzPrP2ZmZmZmZv4/w/UoXI/CCUAK16NwPQoTQD0K16NwPRpAmpmZmZkZIUA=",
          "dtype": "f8"
         },
         "yaxis": "y"
        },
        {
         "hovertemplate": "gpu=T4_x2<br>model=Qwen3-1.7B<br>input_tokens=%{x}<br>ttft=%{y}<extra></extra>",
         "legendgroup": "T4_x2, Qwen3-1.7B",
         "line": {
          "color": "#ab63fa",
          "dash": "solid"
         },
         "marker": {
          "symbol": "circle"
         },
         "mode": "lines",
         "name": "T4_x2, Qwen3-1.7B",
         "orientation": "v",
         "showlegend": true,
         "type": "scatter",
         "visible": "legendonly",
         "x": {
          "bdata": "8wOTExsnozorTrNhO3U=",
          "dtype": "i2"
         },
         "xaxis": "x",
         "y": {
          "bdata": "MzMzMzMzwz9mZmZmZmbmPx+F61G4Hvk/AAAAAAAABkCF61G4HoUSQIXrUbgehRdAZmZmZmZmIUA=",
          "dtype": "f8"
         },
         "yaxis": "y"
        },
        {
         "hovertemplate": "gpu=A2_x1<br>model=Qwen3-4B<br>input_tokens=%{x}<br>ttft=%{y}<extra></extra>",
         "legendgroup": "A2_x1, Qwen3-4B",
         "line": {
          "color": "#636efa",
          "dash": "dot"
         },
         "marker": {
          "symbol": "circle"
         },
         "mode": "lines",
         "name": "A2_x1, Qwen3-4B",
         "orientation": "v",
         "showlegend": true,
         "type": "scatter",
         "x": {
          "bdata": "8wOTExsnozorTqhhMHU=",
          "dtype": "i2"
         },
         "xaxis": "x",
         "y": {
          "bdata": "MzMzMzMz4z+kcD0K16MKQArXo3A9Ch9A4XoUrkfhKkBcj8L1KFw0QPYoXI/CdTxAcT0K16PwQkA=",
          "dtype": "f8"
         },
         "yaxis": "y"
        },
        {
         "hovertemplate": "gpu=T4_x1<br>model=Qwen3-4B<br>input_tokens=%{x}<br>ttft=%{y}<extra></extra>",
         "legendgroup": "T4_x1, Qwen3-4B",
         "line": {
          "color": "#EF553B",
          "dash": "dot"
         },
         "marker": {
          "symbol": "circle"
         },
         "mode": "lines",
         "name": "T4_x1, Qwen3-4B",
         "orientation": "v",
         "showlegend": true,
         "type": "scatter",
         "x": {
          "bdata": "8wOTExsnozorTrNh",
          "dtype": "i2"
         },
         "xaxis": "x",
         "y": {
          "bdata": "CtejcD0K1z9mZmZmZmYCQD0K16NwPRlAAAAAAAAAKUAUrkfhelQzQKRwPQrXIzlA",
          "dtype": "f8"
         },
         "yaxis": "y"
        },
        {
         "hovertemplate": "gpu=A2_x2<br>model=Qwen3-4B<br>input_tokens=%{x}<br>ttft=%{y}<extra></extra>",
         "legendgroup": "A2_x2, Qwen3-4B",
         "line": {
          "color": "#00cc96",
          "dash": "dot"
         },
         "marker": {
          "symbol": "circle"
         },
         "mode": "lines",
         "name": "A2_x2, Qwen3-4B",
         "orientation": "v",
         "showlegend": true,
         "type": "scatter",
         "x": {
          "bdata": "8wOTExsnozorTrNhO3U=",
          "dtype": "i2"
         },
         "xaxis": "x",
         "y": {
          "bdata": "w/UoXI/C1T+PwvUoXI/+P5qZmZmZmRFAKVyPwvUoHkDD9Shcj8ImQDMzMzMzMy9AexSuR+F6NEA=",
          "dtype": "f8"
         },
         "yaxis": "y"
        },
        {
         "hovertemplate": "gpu=T4_x2<br>model=Qwen3-4B<br>input_tokens=%{x}<br>ttft=%{y}<extra></extra>",
         "legendgroup": "T4_x2, Qwen3-4B",
         "line": {
          "color": "#ab63fa",
          "dash": "dot"
         },
         "marker": {
          "symbol": "circle"
         },
         "mode": "lines",
         "name": "T4_x2, Qwen3-4B",
         "orientation": "v",
         "showlegend": true,
         "type": "scatter",
         "x": {
          "bdata": "8wOTExsnozorTrNhO3U=",
          "dtype": "i2"
         },
         "xaxis": "x",
         "y": {
          "bdata": "j8L1KFyP0j9SuB6F61H4PxSuR+F6FA5ArkfhehSuIEA9CtejcH0zQFK4HoXrUT9AexSuR+E6P0A=",
          "dtype": "f8"
         },
         "yaxis": "y"
        },
        {
         "hovertemplate": "gpu=T4_x4<br>model=Qwen3-4B<br>input_tokens=%{x}<br>ttft=%{y}<extra></extra>",
         "legendgroup": "T4_x4, Qwen3-4B",
         "line": {
          "color": "#FFA15A",
          "dash": "dot"
         },
         "marker": {
          "symbol": "circle"
         },
         "mode": "lines",
         "name": "T4_x4, Qwen3-4B",
         "orientation": "v",
         "showlegend": true,
         "type": "scatter",
         "x": {
          "bdata": "8wOTExsnozorTrNhO3U=",
          "dtype": "i2"
         },
         "xaxis": "x",
         "y": {
          "bdata": "UrgehetRyD8AAAAAAADwPzMzMzMzMwNASOF6FK5HDUBxPQrXo3AWQClcj8L1qCBAH4XrUbieK0A=",
          "dtype": "f8"
         },
         "yaxis": "y"
        },
        {
         "hovertemplate": "gpu=A2_x1<br>model=qwen3-8b-ollama<br>input_tokens=%{x}<br>ttft=%{y}<extra></extra>",
         "legendgroup": "A2_x1, qwen3-8b-ollama",
         "line": {
          "color": "#636efa",
          "dash": "dash"
         },
         "marker": {
          "symbol": "circle"
         },
         "mode": "lines",
         "name": "A2_x1, qwen3-8b-ollama",
         "orientation": "v",
         "showlegend": true,
         "type": "scatter",
         "visible": "legendonly",
         "x": {
          "bdata": "6AOIExAnmDogTqhhMHU=",
          "dtype": "i2"
         },
         "xaxis": "x",
         "y": {
          "bdata": "zczMzMzM/D+uR+F6FK4gQLgehetRuCBAPQrXo3C9IEDNzMzMzMwgQFK4HoXr0SBAXI/C9SjcIEA=",
          "dtype": "f8"
         },
         "yaxis": "y"
        },
        {
         "hovertemplate": "gpu=A2_x2<br>model=Qwen3-8B<br>input_tokens=%{x}<br>ttft=%{y}<extra></extra>",
         "legendgroup": "A2_x2, Qwen3-8B",
         "line": {
          "color": "#00cc96",
          "dash": "longdash"
         },
         "marker": {
          "symbol": "circle"
         },
         "mode": "lines",
         "name": "A2_x2, Qwen3-8B",
         "orientation": "v",
         "showlegend": true,
         "type": "scatter",
         "visible": "legendonly",
         "x": {
          "bdata": "8wOTExsnozorTrNhO3U=",
          "dtype": "i2"
         },
         "xaxis": "x",
         "y": {
          "bdata": "4XoUrkfh4j/Xo3A9CtcJQEjhehSuRxxA4XoUrkfhJkD2KFyPwnUwQOxRuB6FKzZAMzMzMzNzPEA=",
          "dtype": "f8"
         },
         "yaxis": "y"
        },
        {
         "hovertemplate": "gpu=T4_x2<br>model=Qwen3-8B<br>input_tokens=%{x}<br>ttft=%{y}<extra></extra>",
         "legendgroup": "T4_x2, Qwen3-8B",
         "line": {
          "color": "#ab63fa",
          "dash": "longdash"
         },
         "marker": {
          "symbol": "circle"
         },
         "mode": "lines",
         "name": "T4_x2, Qwen3-8B",
         "orientation": "v",
         "showlegend": true,
         "type": "scatter",
         "visible": "legendonly",
         "x": {
          "bdata": "8wOTExsnozorTrNhO3U=",
          "dtype": "i2"
         },
         "xaxis": "x",
         "y": {
          "bdata": "AAAAAAAA4D8K16NwPQoBQKRwPQrXoxNAmpmZmZmZIUDXo3A9ClcrQHsUrkfh+jNACtejcD3KPEA=",
          "dtype": "f8"
         },
         "yaxis": "y"
        },
        {
         "hovertemplate": "gpu=T4_x4<br>model=Qwen3-8B<br>input_tokens=%{x}<br>ttft=%{y}<extra></extra>",
         "legendgroup": "T4_x4, Qwen3-8B",
         "line": {
          "color": "#FFA15A",
          "dash": "longdash"
         },
         "marker": {
          "symbol": "circle"
         },
         "mode": "lines",
         "name": "T4_x4, Qwen3-8B",
         "orientation": "v",
         "showlegend": true,
         "type": "scatter",
         "visible": "legendonly",
         "x": {
          "bdata": "8wOTExsnozorTrNhO3U=",
          "dtype": "i2"
         },
         "xaxis": "x",
         "y": {
          "bdata": "7FG4HoXr0T+4HoXrUbj2P3E9CtejcAlAXI/C9ShcFEApXI/C9SgfQHsUrkfheitArkfhehSuOkA=",
          "dtype": "f8"
         },
         "yaxis": "y"
        },
        {
         "hovertemplate": "gpu=A2_x1<br>model=Qwen3-8B-AWQ<br>input_tokens=%{x}<br>ttft=%{y}<extra></extra>",
         "legendgroup": "A2_x1, Qwen3-8B-AWQ",
         "line": {
          "color": "#636efa",
          "dash": "dashdot"
         },
         "marker": {
          "symbol": "circle"
         },
         "mode": "lines",
         "name": "A2_x1, Qwen3-8B-AWQ",
         "orientation": "v",
         "showlegend": true,
         "type": "scatter",
         "visible": "legendonly",
         "x": {
          "bdata": "8wOTExsnozorTrNhO3U=",
          "dtype": "i2"
         },
         "xaxis": "x",
         "y": {
          "bdata": "H4XrUbge8T/Xo3A9CtcWQOF6FK5HYSlASOF6FK4HNUC4HoXrUTg+QKRwPQrXY0RArkfhehRuSkA=",
          "dtype": "f8"
         },
         "yaxis": "y"
        },
        {
         "hovertemplate": "gpu=T4_x1<br>model=Qwen3-8B-AWQ<br>input_tokens=%{x}<br>ttft=%{y}<extra></extra>",
         "legendgroup": "T4_x1, Qwen3-8B-AWQ",
         "line": {
          "color": "#EF553B",
          "dash": "dashdot"
         },
         "marker": {
          "symbol": "circle"
         },
         "mode": "lines",
         "name": "T4_x1, Qwen3-8B-AWQ",
         "orientation": "v",
         "showlegend": true,
         "type": "scatter",
         "visible": "legendonly",
         "x": {
          "bdata": "8wOTExsnozorTrNhU3E=",
          "dtype": "i2"
         },
         "xaxis": "x",
         "y": {
          "bdata": "ZmZmZmZm5j8UrkfhehQOQFyPwvUo3CJAZmZmZmZmMUCkcD0K1+M7QOxRuB6FS0RAZmZmZmYmSkA=",
          "dtype": "f8"
         },
         "yaxis": "y"
        },
        {
         "hovertemplate": "gpu=A2_x1<br>model=qwen3-14b-ollama<br>input_tokens=%{x}<br>ttft=%{y}<extra></extra>",
         "legendgroup": "A2_x1, qwen3-14b-ollama",
         "line": {
          "color": "#636efa",
          "dash": "longdashdot"
         },
         "marker": {
          "symbol": "circle"
         },
         "mode": "lines",
         "name": "A2_x1, qwen3-14b-ollama",
         "orientation": "v",
         "showlegend": true,
         "type": "scatter",
         "visible": "legendonly",
         "x": {
          "bdata": "6AOIExAnmDogTqhhMHU=",
          "dtype": "i2"
         },
         "xaxis": "x",
         "y": {
          "bdata": "zczMzMzM/D89CtejcL0gQD0K16NwvSBAcT0K16PwIEBI4XoUrscgQFK4HoXr0SBA4XoUrkfhIEA=",
          "dtype": "f8"
         },
         "yaxis": "y"
        },
        {
         "hovertemplate": "gpu=T4_x4<br>model=Qwen3-14B<br>input_tokens=%{x}<br>ttft=%{y}<extra></extra>",
         "legendgroup": "T4_x4, Qwen3-14B",
         "line": {
          "color": "#FFA15A",
          "dash": "solid"
         },
         "marker": {
          "symbol": "circle"
         },
         "mode": "lines",
         "name": "T4_x4, Qwen3-14B",
         "orientation": "v",
         "showlegend": true,
         "type": "scatter",
         "visible": "legendonly",
         "x": {
          "bdata": "8wOTExsnozorTrNhO3U=",
          "dtype": "i2"
         },
         "xaxis": "x",
         "y": {
          "bdata": "hetRuB6F2z9SuB6F61ECQB+F61G4HhRAhetRuB6FIUAzMzMzMzM1QKRwPQrX40BA7FG4HoWLRkA=",
          "dtype": "f8"
         },
         "yaxis": "y"
        },
        {
         "hovertemplate": "gpu=A2_x2<br>model=Qwen3-14B-INT8<br>input_tokens=%{x}<br>ttft=%{y}<extra></extra>",
         "legendgroup": "A2_x2, Qwen3-14B-INT8",
         "line": {
          "color": "#00cc96",
          "dash": "dot"
         },
         "marker": {
          "symbol": "circle"
         },
         "mode": "lines",
         "name": "A2_x2, Qwen3-14B-INT8",
         "orientation": "v",
         "showlegend": true,
         "type": "scatter",
         "visible": "legendonly",
         "x": {
          "bdata": "8wOTExsnozorTrNh",
          "dtype": "i2"
         },
         "xaxis": "x",
         "y": {
          "bdata": "cT0K16Nw5T8zMzMzMzMNQM3MzMzMTCBArkfhehSuKkApXI/C9agzQKRwPQrXYzpA",
          "dtype": "f8"
         },
         "yaxis": "y"
        },
        {
         "hovertemplate": "gpu=T4_x2<br>model=Qwen3-14B-INT8<br>input_tokens=%{x}<br>ttft=%{y}<extra></extra>",
         "legendgroup": "T4_x2, Qwen3-14B-INT8",
         "line": {
          "color": "#ab63fa",
          "dash": "dot"
         },
         "marker": {
          "symbol": "circle"
         },
         "mode": "lines",
         "name": "T4_x2, Qwen3-14B-INT8",
         "orientation": "v",
         "showlegend": true,
         "type": "scatter",
         "visible": "legendonly",
         "x": {
          "bdata": "8wOTExsnozorTrNhO3U=",
          "dtype": "i2"
         },
         "xaxis": "x",
         "y": {
          "bdata": "hetRuB6F4z9SuB6F61EGQGZmZmZmZhlAhetRuB4FJ0DsUbgehesxQEjhehSuxzpArkfhehQORUA=",
          "dtype": "f8"
         },
         "yaxis": "y"
        },
        {
         "hovertemplate": "gpu=T4_x4<br>model=Qwen3-32B-GPTQ-Int8<br>input_tokens=%{x}<br>ttft=%{y}<extra></extra>",
         "legendgroup": "T4_x4, Qwen3-32B-GPTQ-Int8",
         "line": {
          "color": "#FFA15A",
          "dash": "dash"
         },
         "marker": {
          "symbol": "circle"
         },
         "mode": "lines",
         "name": "T4_x4, Qwen3-32B-GPTQ-Int8",
         "orientation": "v",
         "showlegend": true,
         "type": "scatter",
         "visible": "legendonly",
         "x": {
          "bdata": "8wOTExAnozogTqhh",
          "dtype": "i2"
         },
         "xaxis": "x",
         "y": {
          "bdata": "FK5H4XoU7j9xPQrXo3ATQLgehetRuCZAMzMzMzNzQUA9CtejcP1OQD0K16NwPVZA",
          "dtype": "f8"
         },
         "yaxis": "y"
        },
        {
         "hovertemplate": "gpu=A2_x1<br>model=Qwen3-0.6B<br>input_tokens=%{x}<br>ttft=%{y}<extra></extra>",
         "legendgroup": "A2_x1, Qwen3-0.6B",
         "line": {
          "color": "#636efa",
          "dash": "longdash"
         },
         "marker": {
          "symbol": "circle"
         },
         "mode": "lines",
         "name": "A2_x1, Qwen3-0.6B",
         "orientation": "v",
         "showlegend": true,
         "type": "scatter",
         "visible": "legendonly",
         "x": {
          "bdata": "8wOTExsnozorTrNhO3U=",
          "dtype": "i2"
         },
         "xaxis": "x",
         "y": {
          "bdata": "KVyPwvUovD/D9Shcj8LlP/YoXI/C9fw/rkfhehSuC0AfhetRuB4WQMP1KFyPQiBAZmZmZmZmJkA=",
          "dtype": "f8"
         },
         "yaxis": "y"
        },
        {
         "hovertemplate": "gpu=T4_x1<br>model=Qwen3-0.6B<br>input_tokens=%{x}<br>ttft=%{y}<extra></extra>",
         "legendgroup": "T4_x1, Qwen3-0.6B",
         "line": {
          "color": "#EF553B",
          "dash": "longdash"
         },
         "marker": {
          "symbol": "circle"
         },
         "mode": "lines",
         "name": "T4_x1, Qwen3-0.6B",
         "orientation": "v",
         "showlegend": true,
         "type": "scatter",
         "visible": "legendonly",
         "x": {
          "bdata": "8wOTExsnozorTrNhO3U=",
          "dtype": "i2"
         },
         "xaxis": "x",
         "y": {
          "bdata": "exSuR+F6tD+PwvUoXI/iP3sUrkfhevg/AAAAAAAACECkcD0K16MUQNejcD0K1x9A9ihcj8L1JkA=",
          "dtype": "f8"
         },
         "yaxis": "y"
        },
        {
         "hovertemplate": "gpu=A2_x2<br>model=Qwen3-0.6B<br>input_tokens=%{x}<br>ttft=%{y}<extra></extra>",
         "legendgroup": "A2_x2, Qwen3-0.6B",
         "line": {
          "color": "#00cc96",
          "dash": "longdash"
         },
         "marker": {
          "symbol": "circle"
         },
         "mode": "lines",
         "name": "A2_x2, Qwen3-0.6B",
         "orientation": "v",
         "showlegend": true,
         "type": "scatter",
         "visible": "legendonly",
         "x": {
          "bdata": "8wOTExsnozorTrNhO3U=",
          "dtype": "i2"
         },
         "xaxis": "x",
         "y": {
          "bdata": "exSuR+F6tD8pXI/C9SjcP0jhehSuR/E/hetRuB6F/z+kcD0K16MIQMP1KFyPwhFAH4XrUbgeGEA=",
          "dtype": "f8"
         },
         "yaxis": "y"
        },
        {
         "hovertemplate": "gpu=T4_x2<br>model=Qwen3-0.6B<br>input_tokens=%{x}<br>ttft=%{y}<extra></extra>",
         "legendgroup": "T4_x2, Qwen3-0.6B",
         "line": {
          "color": "#ab63fa",
          "dash": "longdash"
         },
         "marker": {
          "symbol": "circle"
         },
         "mode": "lines",
         "name": "T4_x2, Qwen3-0.6B",
         "orientation": "v",
         "showlegend": true,
         "type": "scatter",
         "visible": "legendonly",
         "x": {
          "bdata": "8wOTExsnozorTrNhO3U=",
          "dtype": "i2"
         },
         "xaxis": "x",
         "y": {
          "bdata": "mpmZmZmZuT/NzMzMzMzcP8P1KFyPwvU/pHA9Ctej/D9I4XoUrkcHQGZmZmZmZhFAzczMzMzMGUA=",
          "dtype": "f8"
         },
         "yaxis": "y"
        }
       ],
       "layout": {
        "legend": {
         "title": {
          "text": "gpu, model"
         },
         "tracegroupgap": 0
        },
        "template": {
         "data": {
          "bar": [
           {
            "error_x": {
             "color": "#2a3f5f"
            },
            "error_y": {
             "color": "#2a3f5f"
            },
            "marker": {
             "line": {
              "color": "#E5ECF6",
              "width": 0.5
             },
             "pattern": {
              "fillmode": "overlay",
              "size": 10,
              "solidity": 0.2
             }
            },
            "type": "bar"
           }
          ],
          "barpolar": [
           {
            "marker": {
             "line": {
              "color": "#E5ECF6",
              "width": 0.5
             },
             "pattern": {
              "fillmode": "overlay",
              "size": 10,
              "solidity": 0.2
             }
            },
            "type": "barpolar"
           }
          ],
          "carpet": [
           {
            "aaxis": {
             "endlinecolor": "#2a3f5f",
             "gridcolor": "white",
             "linecolor": "white",
             "minorgridcolor": "white",
             "startlinecolor": "#2a3f5f"
            },
            "baxis": {
             "endlinecolor": "#2a3f5f",
             "gridcolor": "white",
             "linecolor": "white",
             "minorgridcolor": "white",
             "startlinecolor": "#2a3f5f"
            },
            "type": "carpet"
           }
          ],
          "choropleth": [
           {
            "colorbar": {
             "outlinewidth": 0,
             "ticks": ""
            },
            "type": "choropleth"
           }
          ],
          "contour": [
           {
            "colorbar": {
             "outlinewidth": 0,
             "ticks": ""
            },
            "colorscale": [
             [
              0,
              "#0d0887"
             ],
             [
              0.1111111111111111,
              "#46039f"
             ],
             [
              0.2222222222222222,
              "#7201a8"
             ],
             [
              0.3333333333333333,
              "#9c179e"
             ],
             [
              0.4444444444444444,
              "#bd3786"
             ],
             [
              0.5555555555555556,
              "#d8576b"
             ],
             [
              0.6666666666666666,
              "#ed7953"
             ],
             [
              0.7777777777777778,
              "#fb9f3a"
             ],
             [
              0.8888888888888888,
              "#fdca26"
             ],
             [
              1,
              "#f0f921"
             ]
            ],
            "type": "contour"
           }
          ],
          "contourcarpet": [
           {
            "colorbar": {
             "outlinewidth": 0,
             "ticks": ""
            },
            "type": "contourcarpet"
           }
          ],
          "heatmap": [
           {
            "colorbar": {
             "outlinewidth": 0,
             "ticks": ""
            },
            "colorscale": [
             [
              0,
              "#0d0887"
             ],
             [
              0.1111111111111111,
              "#46039f"
             ],
             [
              0.2222222222222222,
              "#7201a8"
             ],
             [
              0.3333333333333333,
              "#9c179e"
             ],
             [
              0.4444444444444444,
              "#bd3786"
             ],
             [
              0.5555555555555556,
              "#d8576b"
             ],
             [
              0.6666666666666666,
              "#ed7953"
             ],
             [
              0.7777777777777778,
              "#fb9f3a"
             ],
             [
              0.8888888888888888,
              "#fdca26"
             ],
             [
              1,
              "#f0f921"
             ]
            ],
            "type": "heatmap"
           }
          ],
          "histogram": [
           {
            "marker": {
             "pattern": {
              "fillmode": "overlay",
              "size": 10,
              "solidity": 0.2
             }
            },
            "type": "histogram"
           }
          ],
          "histogram2d": [
           {
            "colorbar": {
             "outlinewidth": 0,
             "ticks": ""
            },
            "colorscale": [
             [
              0,
              "#0d0887"
             ],
             [
              0.1111111111111111,
              "#46039f"
             ],
             [
              0.2222222222222222,
              "#7201a8"
             ],
             [
              0.3333333333333333,
              "#9c179e"
             ],
             [
              0.4444444444444444,
              "#bd3786"
             ],
             [
              0.5555555555555556,
              "#d8576b"
             ],
             [
              0.6666666666666666,
              "#ed7953"
             ],
             [
              0.7777777777777778,
              "#fb9f3a"
             ],
             [
              0.8888888888888888,
              "#fdca26"
             ],
             [
              1,
              "#f0f921"
             ]
            ],
            "type": "histogram2d"
           }
          ],
          "histogram2dcontour": [
           {
            "colorbar": {
             "outlinewidth": 0,
             "ticks": ""
            },
            "colorscale": [
             [
              0,
              "#0d0887"
             ],
             [
              0.1111111111111111,
              "#46039f"
             ],
             [
              0.2222222222222222,
              "#7201a8"
             ],
             [
              0.3333333333333333,
              "#9c179e"
             ],
             [
              0.4444444444444444,
              "#bd3786"
             ],
             [
              0.5555555555555556,
              "#d8576b"
             ],
             [
              0.6666666666666666,
              "#ed7953"
             ],
             [
              0.7777777777777778,
              "#fb9f3a"
             ],
             [
              0.8888888888888888,
              "#fdca26"
             ],
             [
              1,
              "#f0f921"
             ]
            ],
            "type": "histogram2dcontour"
           }
          ],
          "mesh3d": [
           {
            "colorbar": {
             "outlinewidth": 0,
             "ticks": ""
            },
            "type": "mesh3d"
           }
          ],
          "parcoords": [
           {
            "line": {
             "colorbar": {
              "outlinewidth": 0,
              "ticks": ""
             }
            },
            "type": "parcoords"
           }
          ],
          "pie": [
           {
            "automargin": true,
            "type": "pie"
           }
          ],
          "scatter": [
           {
            "fillpattern": {
             "fillmode": "overlay",
             "size": 10,
             "solidity": 0.2
            },
            "type": "scatter"
           }
          ],
          "scatter3d": [
           {
            "line": {
             "colorbar": {
              "outlinewidth": 0,
              "ticks": ""
             }
            },
            "marker": {
             "colorbar": {
              "outlinewidth": 0,
              "ticks": ""
             }
            },
            "type": "scatter3d"
           }
          ],
          "scattercarpet": [
           {
            "marker": {
             "colorbar": {
              "outlinewidth": 0,
              "ticks": ""
             }
            },
            "type": "scattercarpet"
           }
          ],
          "scattergeo": [
           {
            "marker": {
             "colorbar": {
              "outlinewidth": 0,
              "ticks": ""
             }
            },
            "type": "scattergeo"
           }
          ],
          "scattergl": [
           {
            "marker": {
             "colorbar": {
              "outlinewidth": 0,
              "ticks": ""
             }
            },
            "type": "scattergl"
           }
          ],
          "scattermap": [
           {
            "marker": {
             "colorbar": {
              "outlinewidth": 0,
              "ticks": ""
             }
            },
            "type": "scattermap"
           }
          ],
          "scattermapbox": [
           {
            "marker": {
             "colorbar": {
              "outlinewidth": 0,
              "ticks": ""
             }
            },
            "type": "scattermapbox"
           }
          ],
          "scatterpolar": [
           {
            "marker": {
             "colorbar": {
              "outlinewidth": 0,
              "ticks": ""
             }
            },
            "type": "scatterpolar"
           }
          ],
          "scatterpolargl": [
           {
            "marker": {
             "colorbar": {
              "outlinewidth": 0,
              "ticks": ""
             }
            },
            "type": "scatterpolargl"
           }
          ],
          "scatterternary": [
           {
            "marker": {
             "colorbar": {
              "outlinewidth": 0,
              "ticks": ""
             }
            },
            "type": "scatterternary"
           }
          ],
          "surface": [
           {
            "colorbar": {
             "outlinewidth": 0,
             "ticks": ""
            },
            "colorscale": [
             [
              0,
              "#0d0887"
             ],
             [
              0.1111111111111111,
              "#46039f"
             ],
             [
              0.2222222222222222,
              "#7201a8"
             ],
             [
              0.3333333333333333,
              "#9c179e"
             ],
             [
              0.4444444444444444,
              "#bd3786"
             ],
             [
              0.5555555555555556,
              "#d8576b"
             ],
             [
              0.6666666666666666,
              "#ed7953"
             ],
             [
              0.7777777777777778,
              "#fb9f3a"
             ],
             [
              0.8888888888888888,
              "#fdca26"
             ],
             [
              1,
              "#f0f921"
             ]
            ],
            "type": "surface"
           }
          ],
          "table": [
           {
            "cells": {
             "fill": {
              "color": "#EBF0F8"
             },
             "line": {
              "color": "white"
             }
            },
            "header": {
             "fill": {
              "color": "#C8D4E3"
             },
             "line": {
              "color": "white"
             }
            },
            "type": "table"
           }
          ]
         },
         "layout": {
          "annotationdefaults": {
           "arrowcolor": "#2a3f5f",
           "arrowhead": 0,
           "arrowwidth": 1
          },
          "autotypenumbers": "strict",
          "coloraxis": {
           "colorbar": {
            "outlinewidth": 0,
            "ticks": ""
           }
          },
          "colorscale": {
           "diverging": [
            [
             0,
             "#8e0152"
            ],
            [
             0.1,
             "#c51b7d"
            ],
            [
             0.2,
             "#de77ae"
            ],
            [
             0.3,
             "#f1b6da"
            ],
            [
             0.4,
             "#fde0ef"
            ],
            [
             0.5,
             "#f7f7f7"
            ],
            [
             0.6,
             "#e6f5d0"
            ],
            [
             0.7,
             "#b8e186"
            ],
            [
             0.8,
             "#7fbc41"
            ],
            [
             0.9,
             "#4d9221"
            ],
            [
             1,
             "#276419"
            ]
           ],
           "sequential": [
            [
             0,
             "#0d0887"
            ],
            [
             0.1111111111111111,
             "#46039f"
            ],
            [
             0.2222222222222222,
             "#7201a8"
            ],
            [
             0.3333333333333333,
             "#9c179e"
            ],
            [
             0.4444444444444444,
             "#bd3786"
            ],
            [
             0.5555555555555556,
             "#d8576b"
            ],
            [
             0.6666666666666666,
             "#ed7953"
            ],
            [
             0.7777777777777778,
             "#fb9f3a"
            ],
            [
             0.8888888888888888,
             "#fdca26"
            ],
            [
             1,
             "#f0f921"
            ]
           ],
           "sequentialminus": [
            [
             0,
             "#0d0887"
            ],
            [
             0.1111111111111111,
             "#46039f"
            ],
            [
             0.2222222222222222,
             "#7201a8"
            ],
            [
             0.3333333333333333,
             "#9c179e"
            ],
            [
             0.4444444444444444,
             "#bd3786"
            ],
            [
             0.5555555555555556,
             "#d8576b"
            ],
            [
             0.6666666666666666,
             "#ed7953"
            ],
            [
             0.7777777777777778,
             "#fb9f3a"
            ],
            [
             0.8888888888888888,
             "#fdca26"
            ],
            [
             1,
             "#f0f921"
            ]
           ]
          },
          "colorway": [
           "#636efa",
           "#EF553B",
           "#00cc96",
           "#ab63fa",
           "#FFA15A",
           "#19d3f3",
           "#FF6692",
           "#B6E880",
           "#FF97FF",
           "#FECB52"
          ],
          "font": {
           "color": "#2a3f5f"
          },
          "geo": {
           "bgcolor": "white",
           "lakecolor": "white",
           "landcolor": "#E5ECF6",
           "showlakes": true,
           "showland": true,
           "subunitcolor": "white"
          },
          "hoverlabel": {
           "align": "left"
          },
          "hovermode": "closest",
          "mapbox": {
           "style": "light"
          },
          "paper_bgcolor": "white",
          "plot_bgcolor": "#E5ECF6",
          "polar": {
           "angularaxis": {
            "gridcolor": "white",
            "linecolor": "white",
            "ticks": ""
           },
           "bgcolor": "#E5ECF6",
           "radialaxis": {
            "gridcolor": "white",
            "linecolor": "white",
            "ticks": ""
           }
          },
          "scene": {
           "xaxis": {
            "backgroundcolor": "#E5ECF6",
            "gridcolor": "white",
            "gridwidth": 2,
            "linecolor": "white",
            "showbackground": true,
            "ticks": "",
            "zerolinecolor": "white"
           },
           "yaxis": {
            "backgroundcolor": "#E5ECF6",
            "gridcolor": "white",
            "gridwidth": 2,
            "linecolor": "white",
            "showbackground": true,
            "ticks": "",
            "zerolinecolor": "white"
           },
           "zaxis": {
            "backgroundcolor": "#E5ECF6",
            "gridcolor": "white",
            "gridwidth": 2,
            "linecolor": "white",
            "showbackground": true,
            "ticks": "",
            "zerolinecolor": "white"
           }
          },
          "shapedefaults": {
           "line": {
            "color": "#2a3f5f"
           }
          },
          "ternary": {
           "aaxis": {
            "gridcolor": "white",
            "linecolor": "white",
            "ticks": ""
           },
           "baxis": {
            "gridcolor": "white",
            "linecolor": "white",
            "ticks": ""
           },
           "bgcolor": "#E5ECF6",
           "caxis": {
            "gridcolor": "white",
            "linecolor": "white",
            "ticks": ""
           }
          },
          "title": {
           "x": 0.05
          },
          "xaxis": {
           "automargin": true,
           "gridcolor": "white",
           "linecolor": "white",
           "ticks": "",
           "title": {
            "standoff": 15
           },
           "zerolinecolor": "white",
           "zerolinewidth": 2
          },
          "yaxis": {
           "automargin": true,
           "gridcolor": "white",
           "linecolor": "white",
           "ticks": "",
           "title": {
            "standoff": 15
           },
           "zerolinecolor": "white",
           "zerolinewidth": 2
          }
         }
        },
        "title": {
         "text": "TTFT vs Input Length"
        },
        "xaxis": {
         "anchor": "y",
         "domain": [
          0,
          1
         ],
         "title": {
          "text": "input_tokens"
         }
        },
        "yaxis": {
         "anchor": "x",
         "domain": [
          0,
          1
         ],
         "title": {
          "text": "ttft"
         }
        }
       }
      }
     },
     "metadata": {},
     "output_type": "display_data"
    }
   ],
   "source": [
    "import plotly.express as px\n",
    "import plotly.graph_objects as go\n",
    "from plotly.subplots import make_subplots\n",
    "\n",
    "# Create consistent model order across all GPUs using the predefined order\n",
    "model_order = models_by_size\n",
    "df = df.sort_values(by=[\"model\", \"gpu\", \"input_tokens\"])\n",
    "\n",
    "\n",
    "# Create custom GPU order for better comparison\n",
    "# Group single GPU types together and multi-GPU types together\n",
    "gpu_order = []\n",
    "single_gpus = [gpu for gpu in df['gpu'].unique() if '_x1' in gpu]\n",
    "multi_gpus = [gpu for gpu in df['gpu'].unique() if '_x1' not in gpu]\n",
    "\n",
    "# Sort within each group and combine\n",
    "single_gpus_sorted = sorted(single_gpus)\n",
    "multi_gpus_sorted = sorted(multi_gpus)\n",
    "gpu_order = single_gpus_sorted + multi_gpus_sorted\n",
    "\n",
    "# Create visualizations\n",
    "fig = make_subplots(\n",
    "    rows=2, cols=2,\n",
    "    subplot_titles=('TTFT by GPU and Model', 'Tokens per Second by GPU and Model', \n",
    "                   'TTFT vs Input Length', 'Tokens per Second vs Parallel Requests'),\n",
    "    specs=[[{\"secondary_y\": False}, {\"secondary_y\": False}],\n",
    "           [{\"secondary_y\": False}, {\"secondary_y\": False}]]\n",
    ")\n",
    "\n",
    "# 1. TTFT by GPU and Model (box plot)\n",
    "fig1 = px.box(df, x='gpu', y='ttft', color='model', \n",
    "              title='Time to First Token by GPU and Model',\n",
    "              category_orders={'model': model_order, 'gpu': gpu_order})\n",
    "\n",
    "# 2. Tokens per second by GPU and Model\n",
    "fig2 = px.box(df, x='gpu', y='gen_tokens_per_second', color='model',\n",
    "              title='Generation Speed by GPU and Model',\n",
    "              category_orders={'model': model_order, 'gpu': gpu_order})\n",
    "              \n",
    "# 3. TTFT vs Input Length - show all models but only Qwen3-4B visible by default\n",
    "fig3 = px.line(df, x='input_tokens', y='ttft', color='gpu', \n",
    "               line_dash='model',\n",
    "               title='TTFT vs Input Length',\n",
    "               category_orders={'model': model_order, 'gpu': gpu_order})\n",
    "\n",
    "# Make only Qwen3-4B visible by default in fig3\n",
    "for trace in fig3.data:\n",
    "    if 'Qwen3-4B' not in trace.name:\n",
    "        trace.visible = 'legendonly'\n",
    "\n",
    "# Display individual plots\n",
    "fig1.show()\n",
    "fig2.show()\n",
    "fig3.show()"
   ]
  },
  {
   "cell_type": "code",
   "execution_count": 55,
   "id": "dd6ed748",
   "metadata": {},
   "outputs": [
    {
     "data": {
      "application/vnd.plotly.v1+json": {
       "config": {
        "plotlyServerURL": "https://plot.ly"
       },
       "data": [
        {
         "coloraxis": "coloraxis",
         "hovertemplate": "model: %{x}<br>gpu: %{y}<br>color: %{z}<extra></extra>",
         "name": "0",
         "type": "heatmap",
         "x": [
          "Qwen3-1.7B",
          "Qwen3-4B",
          "qwen3-8b-ollama",
          "Qwen3-8B",
          "Qwen3-8B-AWQ",
          "qwen3-14b-ollama",
          "Qwen3-14B",
          "Qwen3-14B-INT8",
          "Qwen3-32B-GPTQ-Int8"
         ],
         "xaxis": "x",
         "y": [
          "A2_x1",
          "T4_x1",
          "A2_x2",
          "T4_x2",
          "T4_x4"
         ],
         "yaxis": "y",
         "z": {
          "bdata": "Fl/xFV+xPkDuAmJTaUgvQKBdQGwqjTNAAAAAAAAA+H9u27Zt27Y2QFUacu6zizNAAAAAAAAA+H8AAAAAAAD4fwAAAAAAAPh/gzqogzoISEDFkl8s+WU3QAAAAAAAAPh/AAAAAAAA+H9gor+T1XI2QAAAAAAAAPh/AAAAAAAA+H8AAAAAAAD4fwAAAAAAAPh/V3zFV3zlS0AqDTn32YU9QAAAAAAAAPh/wUR/J6slMkAAAAAAAAD4fwAAAAAAAPh/AAAAAAAA+H/UBjptoHMwQAAAAAAAAPh/CSb6O1ltSED/TlbLG6M6QAAAAAAAAPh/FxCbSkMOOkAAAAAAAAD4fwAAAAAAAPh/AAAAAAAA+H8Bsak05NwyQAAAAAAAAPh/AAAAAAAA+H/9nayWNyZBQAAAAAAAAPh/MNHfyWo5P0AAAAAAAAD4fwAAAAAAAPh//Z2sljcGNUAAAAAAAAD4f/coXI/CdS9A",
          "dtype": "f8",
          "shape": "5, 9"
         }
        }
       ],
       "layout": {
        "coloraxis": {
         "colorscale": [
          [
           0,
           "#440154"
          ],
          [
           0.1111111111111111,
           "#482878"
          ],
          [
           0.2222222222222222,
           "#3e4989"
          ],
          [
           0.3333333333333333,
           "#31688e"
          ],
          [
           0.4444444444444444,
           "#26828e"
          ],
          [
           0.5555555555555556,
           "#1f9e89"
          ],
          [
           0.6666666666666666,
           "#35b779"
          ],
          [
           0.7777777777777778,
           "#6ece58"
          ],
          [
           0.8888888888888888,
           "#b5de2b"
          ],
          [
           1,
           "#fde725"
          ]
         ]
        },
        "template": {
         "data": {
          "bar": [
           {
            "error_x": {
             "color": "#2a3f5f"
            },
            "error_y": {
             "color": "#2a3f5f"
            },
            "marker": {
             "line": {
              "color": "#E5ECF6",
              "width": 0.5
             },
             "pattern": {
              "fillmode": "overlay",
              "size": 10,
              "solidity": 0.2
             }
            },
            "type": "bar"
           }
          ],
          "barpolar": [
           {
            "marker": {
             "line": {
              "color": "#E5ECF6",
              "width": 0.5
             },
             "pattern": {
              "fillmode": "overlay",
              "size": 10,
              "solidity": 0.2
             }
            },
            "type": "barpolar"
           }
          ],
          "carpet": [
           {
            "aaxis": {
             "endlinecolor": "#2a3f5f",
             "gridcolor": "white",
             "linecolor": "white",
             "minorgridcolor": "white",
             "startlinecolor": "#2a3f5f"
            },
            "baxis": {
             "endlinecolor": "#2a3f5f",
             "gridcolor": "white",
             "linecolor": "white",
             "minorgridcolor": "white",
             "startlinecolor": "#2a3f5f"
            },
            "type": "carpet"
           }
          ],
          "choropleth": [
           {
            "colorbar": {
             "outlinewidth": 0,
             "ticks": ""
            },
            "type": "choropleth"
           }
          ],
          "contour": [
           {
            "colorbar": {
             "outlinewidth": 0,
             "ticks": ""
            },
            "colorscale": [
             [
              0,
              "#0d0887"
             ],
             [
              0.1111111111111111,
              "#46039f"
             ],
             [
              0.2222222222222222,
              "#7201a8"
             ],
             [
              0.3333333333333333,
              "#9c179e"
             ],
             [
              0.4444444444444444,
              "#bd3786"
             ],
             [
              0.5555555555555556,
              "#d8576b"
             ],
             [
              0.6666666666666666,
              "#ed7953"
             ],
             [
              0.7777777777777778,
              "#fb9f3a"
             ],
             [
              0.8888888888888888,
              "#fdca26"
             ],
             [
              1,
              "#f0f921"
             ]
            ],
            "type": "contour"
           }
          ],
          "contourcarpet": [
           {
            "colorbar": {
             "outlinewidth": 0,
             "ticks": ""
            },
            "type": "contourcarpet"
           }
          ],
          "heatmap": [
           {
            "colorbar": {
             "outlinewidth": 0,
             "ticks": ""
            },
            "colorscale": [
             [
              0,
              "#0d0887"
             ],
             [
              0.1111111111111111,
              "#46039f"
             ],
             [
              0.2222222222222222,
              "#7201a8"
             ],
             [
              0.3333333333333333,
              "#9c179e"
             ],
             [
              0.4444444444444444,
              "#bd3786"
             ],
             [
              0.5555555555555556,
              "#d8576b"
             ],
             [
              0.6666666666666666,
              "#ed7953"
             ],
             [
              0.7777777777777778,
              "#fb9f3a"
             ],
             [
              0.8888888888888888,
              "#fdca26"
             ],
             [
              1,
              "#f0f921"
             ]
            ],
            "type": "heatmap"
           }
          ],
          "histogram": [
           {
            "marker": {
             "pattern": {
              "fillmode": "overlay",
              "size": 10,
              "solidity": 0.2
             }
            },
            "type": "histogram"
           }
          ],
          "histogram2d": [
           {
            "colorbar": {
             "outlinewidth": 0,
             "ticks": ""
            },
            "colorscale": [
             [
              0,
              "#0d0887"
             ],
             [
              0.1111111111111111,
              "#46039f"
             ],
             [
              0.2222222222222222,
              "#7201a8"
             ],
             [
              0.3333333333333333,
              "#9c179e"
             ],
             [
              0.4444444444444444,
              "#bd3786"
             ],
             [
              0.5555555555555556,
              "#d8576b"
             ],
             [
              0.6666666666666666,
              "#ed7953"
             ],
             [
              0.7777777777777778,
              "#fb9f3a"
             ],
             [
              0.8888888888888888,
              "#fdca26"
             ],
             [
              1,
              "#f0f921"
             ]
            ],
            "type": "histogram2d"
           }
          ],
          "histogram2dcontour": [
           {
            "colorbar": {
             "outlinewidth": 0,
             "ticks": ""
            },
            "colorscale": [
             [
              0,
              "#0d0887"
             ],
             [
              0.1111111111111111,
              "#46039f"
             ],
             [
              0.2222222222222222,
              "#7201a8"
             ],
             [
              0.3333333333333333,
              "#9c179e"
             ],
             [
              0.4444444444444444,
              "#bd3786"
             ],
             [
              0.5555555555555556,
              "#d8576b"
             ],
             [
              0.6666666666666666,
              "#ed7953"
             ],
             [
              0.7777777777777778,
              "#fb9f3a"
             ],
             [
              0.8888888888888888,
              "#fdca26"
             ],
             [
              1,
              "#f0f921"
             ]
            ],
            "type": "histogram2dcontour"
           }
          ],
          "mesh3d": [
           {
            "colorbar": {
             "outlinewidth": 0,
             "ticks": ""
            },
            "type": "mesh3d"
           }
          ],
          "parcoords": [
           {
            "line": {
             "colorbar": {
              "outlinewidth": 0,
              "ticks": ""
             }
            },
            "type": "parcoords"
           }
          ],
          "pie": [
           {
            "automargin": true,
            "type": "pie"
           }
          ],
          "scatter": [
           {
            "fillpattern": {
             "fillmode": "overlay",
             "size": 10,
             "solidity": 0.2
            },
            "type": "scatter"
           }
          ],
          "scatter3d": [
           {
            "line": {
             "colorbar": {
              "outlinewidth": 0,
              "ticks": ""
             }
            },
            "marker": {
             "colorbar": {
              "outlinewidth": 0,
              "ticks": ""
             }
            },
            "type": "scatter3d"
           }
          ],
          "scattercarpet": [
           {
            "marker": {
             "colorbar": {
              "outlinewidth": 0,
              "ticks": ""
             }
            },
            "type": "scattercarpet"
           }
          ],
          "scattergeo": [
           {
            "marker": {
             "colorbar": {
              "outlinewidth": 0,
              "ticks": ""
             }
            },
            "type": "scattergeo"
           }
          ],
          "scattergl": [
           {
            "marker": {
             "colorbar": {
              "outlinewidth": 0,
              "ticks": ""
             }
            },
            "type": "scattergl"
           }
          ],
          "scattermap": [
           {
            "marker": {
             "colorbar": {
              "outlinewidth": 0,
              "ticks": ""
             }
            },
            "type": "scattermap"
           }
          ],
          "scattermapbox": [
           {
            "marker": {
             "colorbar": {
              "outlinewidth": 0,
              "ticks": ""
             }
            },
            "type": "scattermapbox"
           }
          ],
          "scatterpolar": [
           {
            "marker": {
             "colorbar": {
              "outlinewidth": 0,
              "ticks": ""
             }
            },
            "type": "scatterpolar"
           }
          ],
          "scatterpolargl": [
           {
            "marker": {
             "colorbar": {
              "outlinewidth": 0,
              "ticks": ""
             }
            },
            "type": "scatterpolargl"
           }
          ],
          "scatterternary": [
           {
            "marker": {
             "colorbar": {
              "outlinewidth": 0,
              "ticks": ""
             }
            },
            "type": "scatterternary"
           }
          ],
          "surface": [
           {
            "colorbar": {
             "outlinewidth": 0,
             "ticks": ""
            },
            "colorscale": [
             [
              0,
              "#0d0887"
             ],
             [
              0.1111111111111111,
              "#46039f"
             ],
             [
              0.2222222222222222,
              "#7201a8"
             ],
             [
              0.3333333333333333,
              "#9c179e"
             ],
             [
              0.4444444444444444,
              "#bd3786"
             ],
             [
              0.5555555555555556,
              "#d8576b"
             ],
             [
              0.6666666666666666,
              "#ed7953"
             ],
             [
              0.7777777777777778,
              "#fb9f3a"
             ],
             [
              0.8888888888888888,
              "#fdca26"
             ],
             [
              1,
              "#f0f921"
             ]
            ],
            "type": "surface"
           }
          ],
          "table": [
           {
            "cells": {
             "fill": {
              "color": "#EBF0F8"
             },
             "line": {
              "color": "white"
             }
            },
            "header": {
             "fill": {
              "color": "#C8D4E3"
             },
             "line": {
              "color": "white"
             }
            },
            "type": "table"
           }
          ]
         },
         "layout": {
          "annotationdefaults": {
           "arrowcolor": "#2a3f5f",
           "arrowhead": 0,
           "arrowwidth": 1
          },
          "autotypenumbers": "strict",
          "coloraxis": {
           "colorbar": {
            "outlinewidth": 0,
            "ticks": ""
           }
          },
          "colorscale": {
           "diverging": [
            [
             0,
             "#8e0152"
            ],
            [
             0.1,
             "#c51b7d"
            ],
            [
             0.2,
             "#de77ae"
            ],
            [
             0.3,
             "#f1b6da"
            ],
            [
             0.4,
             "#fde0ef"
            ],
            [
             0.5,
             "#f7f7f7"
            ],
            [
             0.6,
             "#e6f5d0"
            ],
            [
             0.7,
             "#b8e186"
            ],
            [
             0.8,
             "#7fbc41"
            ],
            [
             0.9,
             "#4d9221"
            ],
            [
             1,
             "#276419"
            ]
           ],
           "sequential": [
            [
             0,
             "#0d0887"
            ],
            [
             0.1111111111111111,
             "#46039f"
            ],
            [
             0.2222222222222222,
             "#7201a8"
            ],
            [
             0.3333333333333333,
             "#9c179e"
            ],
            [
             0.4444444444444444,
             "#bd3786"
            ],
            [
             0.5555555555555556,
             "#d8576b"
            ],
            [
             0.6666666666666666,
             "#ed7953"
            ],
            [
             0.7777777777777778,
             "#fb9f3a"
            ],
            [
             0.8888888888888888,
             "#fdca26"
            ],
            [
             1,
             "#f0f921"
            ]
           ],
           "sequentialminus": [
            [
             0,
             "#0d0887"
            ],
            [
             0.1111111111111111,
             "#46039f"
            ],
            [
             0.2222222222222222,
             "#7201a8"
            ],
            [
             0.3333333333333333,
             "#9c179e"
            ],
            [
             0.4444444444444444,
             "#bd3786"
            ],
            [
             0.5555555555555556,
             "#d8576b"
            ],
            [
             0.6666666666666666,
             "#ed7953"
            ],
            [
             0.7777777777777778,
             "#fb9f3a"
            ],
            [
             0.8888888888888888,
             "#fdca26"
            ],
            [
             1,
             "#f0f921"
            ]
           ]
          },
          "colorway": [
           "#636efa",
           "#EF553B",
           "#00cc96",
           "#ab63fa",
           "#FFA15A",
           "#19d3f3",
           "#FF6692",
           "#B6E880",
           "#FF97FF",
           "#FECB52"
          ],
          "font": {
           "color": "#2a3f5f"
          },
          "geo": {
           "bgcolor": "white",
           "lakecolor": "white",
           "landcolor": "#E5ECF6",
           "showlakes": true,
           "showland": true,
           "subunitcolor": "white"
          },
          "hoverlabel": {
           "align": "left"
          },
          "hovermode": "closest",
          "mapbox": {
           "style": "light"
          },
          "paper_bgcolor": "white",
          "plot_bgcolor": "#E5ECF6",
          "polar": {
           "angularaxis": {
            "gridcolor": "white",
            "linecolor": "white",
            "ticks": ""
           },
           "bgcolor": "#E5ECF6",
           "radialaxis": {
            "gridcolor": "white",
            "linecolor": "white",
            "ticks": ""
           }
          },
          "scene": {
           "xaxis": {
            "backgroundcolor": "#E5ECF6",
            "gridcolor": "white",
            "gridwidth": 2,
            "linecolor": "white",
            "showbackground": true,
            "ticks": "",
            "zerolinecolor": "white"
           },
           "yaxis": {
            "backgroundcolor": "#E5ECF6",
            "gridcolor": "white",
            "gridwidth": 2,
            "linecolor": "white",
            "showbackground": true,
            "ticks": "",
            "zerolinecolor": "white"
           },
           "zaxis": {
            "backgroundcolor": "#E5ECF6",
            "gridcolor": "white",
            "gridwidth": 2,
            "linecolor": "white",
            "showbackground": true,
            "ticks": "",
            "zerolinecolor": "white"
           }
          },
          "shapedefaults": {
           "line": {
            "color": "#2a3f5f"
           }
          },
          "ternary": {
           "aaxis": {
            "gridcolor": "white",
            "linecolor": "white",
            "ticks": ""
           },
           "baxis": {
            "gridcolor": "white",
            "linecolor": "white",
            "ticks": ""
           },
           "bgcolor": "#E5ECF6",
           "caxis": {
            "gridcolor": "white",
            "linecolor": "white",
            "ticks": ""
           }
          },
          "title": {
           "x": 0.05
          },
          "xaxis": {
           "automargin": true,
           "gridcolor": "white",
           "linecolor": "white",
           "ticks": "",
           "title": {
            "standoff": 15
           },
           "zerolinecolor": "white",
           "zerolinewidth": 2
          },
          "yaxis": {
           "automargin": true,
           "gridcolor": "white",
           "linecolor": "white",
           "ticks": "",
           "title": {
            "standoff": 15
           },
           "zerolinecolor": "white",
           "zerolinewidth": 2
          }
         }
        },
        "title": {
         "text": "Average Generation Speed Heatmap (tokens/sec)"
        },
        "xaxis": {
         "anchor": "y",
         "constrain": "domain",
         "domain": [
          0,
          1
         ],
         "scaleanchor": "y",
         "title": {
          "text": "model"
         }
        },
        "yaxis": {
         "anchor": "x",
         "autorange": "reversed",
         "constrain": "domain",
         "domain": [
          0,
          1
         ],
         "title": {
          "text": "gpu"
         }
        }
       }
      }
     },
     "metadata": {},
     "output_type": "display_data"
    }
   ],
   "source": [
    "df = clean_df[(clean_df['parallel_from_name'] == 1) & (clean_df['model'] != 'Qwen3-0.6B')]\n",
    "\n",
    "# Performance heatmap with ordered GPUs\n",
    "avg_perf = df.groupby(['gpu', 'model']).agg({\n",
    "    'ttft': 'mean',\n",
    "    'gen_tokens_per_second': 'mean'\n",
    "}).reset_index()\n",
    "\n",
    "# Create pivot table with custom GPU order and model order\n",
    "pivot_data = avg_perf.pivot(index='gpu', columns='model', values='gen_tokens_per_second')\n",
    "pivot_data = pivot_data.reindex(gpu_order)\n",
    "pivot_data = pivot_data.reindex(columns=models_by_size)\n",
    "\n",
    "fig_heatmap = px.imshow(\n",
    "    pivot_data,\n",
    "    title='Average Generation Speed Heatmap (tokens/sec)',\n",
    "    color_continuous_scale='Viridis'\n",
    ")\n",
    "fig_heatmap.show()\n",
    "\n",
    "# df"
   ]
  },
  {
   "cell_type": "markdown",
   "id": "b90c806a",
   "metadata": {},
   "source": [
    "# Как мне кажется, самый привлекательный кандидат - две видеокарта А2 (А2_х2)\n",
    "## Визуализируем его"
   ]
  },
  {
   "cell_type": "code",
   "execution_count": 56,
   "id": "8959e25c",
   "metadata": {},
   "outputs": [
    {
     "name": "stdout",
     "output_type": "stream",
     "text": [
      "A2_x2 Dataset shape: (272, 7)\n",
      "Models available: ['Qwen3-0.6B', 'Qwen3-1.7B', 'Qwen3-14B-INT8', 'Qwen3-4B', 'Qwen3-8B']\n",
      "Input lengths: [np.int64(1000), np.int64(5000), np.int64(10000), np.int64(15000), np.int64(20000), np.int64(25000), np.int64(30000)]\n",
      "Parallel requests: [np.int64(1), np.int64(2), np.int64(5)]\n"
     ]
    },
    {
     "data": {
      "application/vnd.plotly.v1+json": {
       "config": {
        "plotlyServerURL": "https://plot.ly"
       },
       "data": [
        {
         "alignmentgroup": "True",
         "hovertemplate": "parallel_from_name=1<br>model=%{x}<br>gen_tokens_per_second=%{y}<extra></extra>",
         "legendgroup": "1",
         "marker": {
          "color": "#636efa"
         },
         "name": "1",
         "notched": false,
         "offsetgroup": "1",
         "orientation": "v",
         "showlegend": true,
         "type": "box",
         "x": [
          "Qwen3-1.7B",
          "Qwen3-1.7B",
          "Qwen3-1.7B",
          "Qwen3-1.7B",
          "Qwen3-1.7B",
          "Qwen3-1.7B",
          "Qwen3-1.7B",
          "Qwen3-0.6B",
          "Qwen3-0.6B",
          "Qwen3-0.6B",
          "Qwen3-0.6B",
          "Qwen3-0.6B",
          "Qwen3-0.6B",
          "Qwen3-0.6B",
          "Qwen3-4B",
          "Qwen3-4B",
          "Qwen3-4B",
          "Qwen3-4B",
          "Qwen3-4B",
          "Qwen3-4B",
          "Qwen3-4B",
          "Qwen3-8B",
          "Qwen3-8B",
          "Qwen3-8B",
          "Qwen3-8B",
          "Qwen3-8B",
          "Qwen3-8B",
          "Qwen3-8B",
          "Qwen3-14B-INT8",
          "Qwen3-14B-INT8",
          "Qwen3-14B-INT8",
          "Qwen3-14B-INT8",
          "Qwen3-14B-INT8",
          "Qwen3-14B-INT8"
         ],
         "x0": " ",
         "xaxis": "x",
         "y": {
          "bdata": "FK5H4XrURECamZmZmflNQAAAAAAAIEhAXI/C9Si8UkBxPQrXo1BGQBSuR+F69EpAPQrXo3DNUEAUrkfhenRMQPYoXI/CVVhAexSuR+H6UUDD9ShcjzpiQD0K16NwvU9AXI/C9Sh8VEApXI/C9RheQBSuR+F6FDhAmpmZmZlZP0CkcD0K1yM7QBSuR+F6FEJAPQrXo3B9OUBmZmZmZuY8QIXrUbgexUBASOF6FK4HMECkcD0K16MyQArXo3A9SjFAj8L1KFyPNEDhehSuR6EwQM3MzMzMDDJAFK5H4XrUM0DXo3A9CpcwQMP1KFyPwi5Aw/UoXI9CMkDD9Shcj8ItQNejcD0KFzBAw/UoXI+CMUA=",
          "dtype": "f8"
         },
         "y0": " ",
         "yaxis": "y"
        },
        {
         "alignmentgroup": "True",
         "hovertemplate": "parallel_from_name=5<br>model=%{x}<br>gen_tokens_per_second=%{y}<extra></extra>",
         "legendgroup": "5",
         "marker": {
          "color": "#EF553B"
         },
         "name": "5",
         "notched": false,
         "offsetgroup": "5",
         "orientation": "v",
         "showlegend": true,
         "type": "box",
         "x": [
          "Qwen3-1.7B",
          "Qwen3-1.7B",
          "Qwen3-1.7B",
          "Qwen3-1.7B",
          "Qwen3-1.7B",
          "Qwen3-1.7B",
          "Qwen3-1.7B",
          "Qwen3-1.7B",
          "Qwen3-1.7B",
          "Qwen3-1.7B",
          "Qwen3-1.7B",
          "Qwen3-1.7B",
          "Qwen3-1.7B",
          "Qwen3-1.7B",
          "Qwen3-1.7B",
          "Qwen3-1.7B",
          "Qwen3-1.7B",
          "Qwen3-1.7B",
          "Qwen3-1.7B",
          "Qwen3-1.7B",
          "Qwen3-1.7B",
          "Qwen3-1.7B",
          "Qwen3-1.7B",
          "Qwen3-1.7B",
          "Qwen3-1.7B",
          "Qwen3-1.7B",
          "Qwen3-1.7B",
          "Qwen3-1.7B",
          "Qwen3-1.7B",
          "Qwen3-1.7B",
          "Qwen3-1.7B",
          "Qwen3-1.7B",
          "Qwen3-1.7B",
          "Qwen3-1.7B",
          "Qwen3-1.7B",
          "Qwen3-0.6B",
          "Qwen3-0.6B",
          "Qwen3-0.6B",
          "Qwen3-0.6B",
          "Qwen3-0.6B",
          "Qwen3-0.6B",
          "Qwen3-0.6B",
          "Qwen3-0.6B",
          "Qwen3-0.6B",
          "Qwen3-0.6B",
          "Qwen3-0.6B",
          "Qwen3-0.6B",
          "Qwen3-0.6B",
          "Qwen3-0.6B",
          "Qwen3-0.6B",
          "Qwen3-0.6B",
          "Qwen3-0.6B",
          "Qwen3-0.6B",
          "Qwen3-0.6B",
          "Qwen3-0.6B",
          "Qwen3-0.6B",
          "Qwen3-0.6B",
          "Qwen3-0.6B",
          "Qwen3-0.6B",
          "Qwen3-0.6B",
          "Qwen3-0.6B",
          "Qwen3-0.6B",
          "Qwen3-0.6B",
          "Qwen3-0.6B",
          "Qwen3-0.6B",
          "Qwen3-0.6B",
          "Qwen3-0.6B",
          "Qwen3-0.6B",
          "Qwen3-0.6B",
          "Qwen3-0.6B",
          "Qwen3-4B",
          "Qwen3-4B",
          "Qwen3-4B",
          "Qwen3-4B",
          "Qwen3-4B",
          "Qwen3-4B",
          "Qwen3-4B",
          "Qwen3-4B",
          "Qwen3-4B",
          "Qwen3-4B",
          "Qwen3-4B",
          "Qwen3-4B",
          "Qwen3-4B",
          "Qwen3-4B",
          "Qwen3-4B",
          "Qwen3-4B",
          "Qwen3-4B",
          "Qwen3-4B",
          "Qwen3-4B",
          "Qwen3-4B",
          "Qwen3-4B",
          "Qwen3-4B",
          "Qwen3-4B",
          "Qwen3-4B",
          "Qwen3-4B",
          "Qwen3-4B",
          "Qwen3-4B",
          "Qwen3-4B",
          "Qwen3-4B",
          "Qwen3-4B",
          "Qwen3-4B",
          "Qwen3-4B",
          "Qwen3-4B",
          "Qwen3-4B",
          "Qwen3-4B",
          "Qwen3-8B",
          "Qwen3-8B",
          "Qwen3-8B",
          "Qwen3-8B",
          "Qwen3-8B",
          "Qwen3-8B",
          "Qwen3-8B",
          "Qwen3-8B",
          "Qwen3-8B",
          "Qwen3-8B",
          "Qwen3-8B",
          "Qwen3-8B",
          "Qwen3-8B",
          "Qwen3-8B",
          "Qwen3-8B",
          "Qwen3-8B",
          "Qwen3-8B",
          "Qwen3-8B",
          "Qwen3-8B",
          "Qwen3-8B",
          "Qwen3-8B",
          "Qwen3-8B",
          "Qwen3-8B",
          "Qwen3-8B",
          "Qwen3-8B",
          "Qwen3-8B",
          "Qwen3-8B",
          "Qwen3-8B",
          "Qwen3-8B",
          "Qwen3-8B",
          "Qwen3-8B",
          "Qwen3-8B",
          "Qwen3-8B",
          "Qwen3-8B",
          "Qwen3-8B",
          "Qwen3-14B-INT8",
          "Qwen3-14B-INT8",
          "Qwen3-14B-INT8",
          "Qwen3-14B-INT8",
          "Qwen3-14B-INT8",
          "Qwen3-14B-INT8",
          "Qwen3-14B-INT8",
          "Qwen3-14B-INT8",
          "Qwen3-14B-INT8",
          "Qwen3-14B-INT8",
          "Qwen3-14B-INT8",
          "Qwen3-14B-INT8",
          "Qwen3-14B-INT8",
          "Qwen3-14B-INT8",
          "Qwen3-14B-INT8",
          "Qwen3-14B-INT8",
          "Qwen3-14B-INT8",
          "Qwen3-14B-INT8",
          "Qwen3-14B-INT8",
          "Qwen3-14B-INT8",
          "Qwen3-14B-INT8",
          "Qwen3-14B-INT8",
          "Qwen3-14B-INT8",
          "Qwen3-14B-INT8",
          "Qwen3-14B-INT8",
          "Qwen3-14B-INT8",
          "Qwen3-14B-INT8",
          "Qwen3-14B-INT8",
          "Qwen3-14B-INT8",
          "Qwen3-14B-INT8"
         ],
         "x0": " ",
         "xaxis": "x",
         "y": {
          "bdata": "hetRuB7FMUDXo3A9Chc0QM3MzMzMzDhAw/UoXI/CPUCF61G4HmVDQNejcD0KN0RAj8L1KFzPRkApXI/C9chGQM3MzMzMLEpApHA9CtcjSkCPwvUoXI8AQD0K16NwPQBAKVyPwvUoAEAfhetRuJ4nQK5H4XoUzkFAH4XrUbge/T/NzMzMzMz8P/YoXI/C9fw/H4XrUbgeAUDD9ShcjyJGQNejcD0K1wFAmpmZmZmZAUCuR+F6FK4FQK5H4XoUbjFAj8L1KFzPQkAAAAAAAAAEQD0K16NwPRpAFK5H4XoULkCuR+F6FC41QFK4HoXrUUFACtejcD0K+z/hehSuR+H6P4XrUbgehfs/j8L1KFyP+j97FK5H4ZpEQPYoXI/C9T1A16NwPQqXQEBcj8L1KJxDQPYoXI/CtUZAUrgehevxS0DsUbgehatSQDMzMzMzg1RAUrgehetxVEDhehSuR8FWQHE9CtejsFZAj8L1KFyPCECF61G4HoUHQM3MzMzMzA5AexSuR+F6MkBSuB6F6zFGQK5H4XoUrgVAcT0K16NwBUCamZmZmZkFQNejcD0K1ypAUrgeheuxREA9CtejcD0MQBSuR+F6FBVAmpmZmZmZLUBmZmZmZqY1QLgehetReENAexSuR+F6LUAzMzMzMzMxQLgehetR+DRACtejcD1KO0CkcD0K14NDQEjhehSuRwNA4XoUrkfhAkAK16NwPQoDQNejcD0K1w9A4XoUrkehSUApXI/C9Sj0P3sUrkfhehRAMzMzMzMzKkAAAAAAAIAxQIXrUbgehTlAZmZmZmYmNUBxPQrXo3A4QOxRuB6FazhAuB6F61H4PEBxPQrXo/A8QMP1KFyPwu0/H4XrUbge7T97FK5H4XrsP9ejcD0K1+s/PQrXo3D9OkApXI/C9SjsP3sUrkfheuw/H4XrUbge7T/D9Shcj8LtP+xRuB6FazlAw/UoXI/C7T9xPQrXo3DtP2ZmZmZmZu4/ZmZmZmZm7j8pXI/C9ag8QOxRuB6F6/E/mpmZmZmZ8T9xPQrXo3DxP4/C9ShcjyRASOF6FK7HOkDNzMzMzMzsP9ejcD0K1+s/w/UoXI/C7T/NzMzMzMzsP7gehetRuDdA4XoUrkfhI0CuR+F6FK4VQB+F61G4HhlAZmZmZmZmIEDhehSuR+EtQLgehetRuChAzczMzMzMLEDNzMzMzMwsQD0K16NwPTFAPQrXo3A9MUAfhetRuB7lP83MzMzMzOQ/ZmZmZmZm5j+4HoXrUbgQQJqZmZmZGSxAFK5H4XoU/j/sUbgehev9Pz0K16NwPf4/SOF6FK5HC0BmZmZmZuYqQMP1KFyPwv0/pHA9CtejAkD2KFyPwvUIQFK4HoXrURRAzczMzMxMJ0C4HoXrUbgGQD0K16NwPQxAuB6F61G4EkAAAAAAAAAcQArXo3A9CipAKVyPwvUo5D8pXI/C9SjkPylcj8L1KOQ/w/UoXI/C5T9cj8L1KNwuQKRwPQrXoxNA4XoUrkfhFkA9CtejcD0eQHE9CtejcCNASOF6FK7HLEDsUbgehWsnQAAAAAAAgCtAexSuR+F6K0DsUbgehaswQClcj8L1qDBAzczMzMzMAEC4HoXrUbgAQHsUrkfhegBA9ihcj8L1DEBSuB6F69EqQHE9CtejcOU/cT0K16Nw5T9xPQrXo3DlP3E9CtejcOU/7FG4HoXr6T+PwvUoXI/yP2ZmZmZmZvI/H4XrUbge9T8fhetRuB75Px+F61G4Hi5AAAAAAAAABED2KFyPwvUIQK5H4XoUrhBAexSuR+F6GUAfhetRuB4pQA==",
          "dtype": "f8"
         },
         "y0": " ",
         "yaxis": "y"
        },
        {
         "alignmentgroup": "True",
         "hovertemplate": "parallel_from_name=2<br>model=%{x}<br>gen_tokens_per_second=%{y}<extra></extra>",
         "legendgroup": "2",
         "marker": {
          "color": "#00cc96"
         },
         "name": "2",
         "notched": false,
         "offsetgroup": "2",
         "orientation": "v",
         "showlegend": true,
         "type": "box",
         "x": [
          "Qwen3-1.7B",
          "Qwen3-1.7B",
          "Qwen3-1.7B",
          "Qwen3-1.7B",
          "Qwen3-1.7B",
          "Qwen3-1.7B",
          "Qwen3-1.7B",
          "Qwen3-1.7B",
          "Qwen3-1.7B",
          "Qwen3-1.7B",
          "Qwen3-1.7B",
          "Qwen3-1.7B",
          "Qwen3-1.7B",
          "Qwen3-1.7B",
          "Qwen3-0.6B",
          "Qwen3-0.6B",
          "Qwen3-0.6B",
          "Qwen3-0.6B",
          "Qwen3-0.6B",
          "Qwen3-0.6B",
          "Qwen3-0.6B",
          "Qwen3-0.6B",
          "Qwen3-0.6B",
          "Qwen3-0.6B",
          "Qwen3-0.6B",
          "Qwen3-0.6B",
          "Qwen3-0.6B",
          "Qwen3-0.6B",
          "Qwen3-4B",
          "Qwen3-4B",
          "Qwen3-4B",
          "Qwen3-4B",
          "Qwen3-4B",
          "Qwen3-4B",
          "Qwen3-4B",
          "Qwen3-4B",
          "Qwen3-4B",
          "Qwen3-4B",
          "Qwen3-4B",
          "Qwen3-4B",
          "Qwen3-4B",
          "Qwen3-4B",
          "Qwen3-8B",
          "Qwen3-8B",
          "Qwen3-8B",
          "Qwen3-8B",
          "Qwen3-8B",
          "Qwen3-8B",
          "Qwen3-8B",
          "Qwen3-8B",
          "Qwen3-8B",
          "Qwen3-8B",
          "Qwen3-8B",
          "Qwen3-8B",
          "Qwen3-8B",
          "Qwen3-8B",
          "Qwen3-14B-INT8",
          "Qwen3-14B-INT8",
          "Qwen3-14B-INT8",
          "Qwen3-14B-INT8",
          "Qwen3-14B-INT8",
          "Qwen3-14B-INT8",
          "Qwen3-14B-INT8",
          "Qwen3-14B-INT8",
          "Qwen3-14B-INT8",
          "Qwen3-14B-INT8",
          "Qwen3-14B-INT8",
          "Qwen3-14B-INT8"
         ],
         "x0": " ",
         "xaxis": "x",
         "y": {
          "bdata": "4XoUrkfh+j+PwvUoXM9EQLgehetReDhA4XoUrkcBRkA9CtejcD0KQArXo3A9qkRAXI/C9ShcQ0DhehSuR6FJQBSuR+F6dEtAAAAAAADATUB7FK5H4XomQHE9CtejMEJAcT0K16PwMUBI4XoUridDQNejcD0K1xJAXI/C9Sg8SUDhehSuR8FDQB+F61G4nlBAXI/C9SjcLEC4HoXrUfhDQKRwPQrX01BA7FG4HoWbVUAzMzMzM2NaQAAAAAAAYFxA16NwPQoXM0AAAAAAAEBHQI/C9ShcDztAUrgehetRS0DNzMzMzMzsPz0K16Nw/TdAKVyPwvWoI0DsUbgehes6QNejcD0K1+s/FK5H4XpUOUAAAAAAAAA0QGZmZmZmZjxAZmZmZmamPEBxPQrXo3A/QMP1KFyPwu0/SOF6FK4HO0BmZmZmZmbuP1yPwvUonDxAFK5H4XoUBkBxPQrXo3ApQLgehetRuB5ArkfhehSuL0DsUbgehesLQOF6FK5H4SpAPQrXo3A9KEA9CtejcD0xQLgehetRuDBA4XoUrkdhMkAzMzMzMzMRQD0K16NwPSxASOF6FK5HF0Bcj8L1KNwtQM3MzMzMzBtACtejcD2KLkCuR+F6FK4HQNejcD0K1yhAKVyPwvUoJkBcj8L1KBwwQHE9Ctej8C9AMzMzMzOzMUAAAAAAAAAOQFyPwvUo3CpApHA9CtejFEAzMzMzM7MsQA==",
          "dtype": "f8"
         },
         "y0": " ",
         "yaxis": "y"
        }
       ],
       "layout": {
        "boxmode": "group",
        "legend": {
         "title": {
          "text": "parallel_from_name"
         },
         "tracegroupgap": 0
        },
        "template": {
         "data": {
          "bar": [
           {
            "error_x": {
             "color": "#2a3f5f"
            },
            "error_y": {
             "color": "#2a3f5f"
            },
            "marker": {
             "line": {
              "color": "#E5ECF6",
              "width": 0.5
             },
             "pattern": {
              "fillmode": "overlay",
              "size": 10,
              "solidity": 0.2
             }
            },
            "type": "bar"
           }
          ],
          "barpolar": [
           {
            "marker": {
             "line": {
              "color": "#E5ECF6",
              "width": 0.5
             },
             "pattern": {
              "fillmode": "overlay",
              "size": 10,
              "solidity": 0.2
             }
            },
            "type": "barpolar"
           }
          ],
          "carpet": [
           {
            "aaxis": {
             "endlinecolor": "#2a3f5f",
             "gridcolor": "white",
             "linecolor": "white",
             "minorgridcolor": "white",
             "startlinecolor": "#2a3f5f"
            },
            "baxis": {
             "endlinecolor": "#2a3f5f",
             "gridcolor": "white",
             "linecolor": "white",
             "minorgridcolor": "white",
             "startlinecolor": "#2a3f5f"
            },
            "type": "carpet"
           }
          ],
          "choropleth": [
           {
            "colorbar": {
             "outlinewidth": 0,
             "ticks": ""
            },
            "type": "choropleth"
           }
          ],
          "contour": [
           {
            "colorbar": {
             "outlinewidth": 0,
             "ticks": ""
            },
            "colorscale": [
             [
              0,
              "#0d0887"
             ],
             [
              0.1111111111111111,
              "#46039f"
             ],
             [
              0.2222222222222222,
              "#7201a8"
             ],
             [
              0.3333333333333333,
              "#9c179e"
             ],
             [
              0.4444444444444444,
              "#bd3786"
             ],
             [
              0.5555555555555556,
              "#d8576b"
             ],
             [
              0.6666666666666666,
              "#ed7953"
             ],
             [
              0.7777777777777778,
              "#fb9f3a"
             ],
             [
              0.8888888888888888,
              "#fdca26"
             ],
             [
              1,
              "#f0f921"
             ]
            ],
            "type": "contour"
           }
          ],
          "contourcarpet": [
           {
            "colorbar": {
             "outlinewidth": 0,
             "ticks": ""
            },
            "type": "contourcarpet"
           }
          ],
          "heatmap": [
           {
            "colorbar": {
             "outlinewidth": 0,
             "ticks": ""
            },
            "colorscale": [
             [
              0,
              "#0d0887"
             ],
             [
              0.1111111111111111,
              "#46039f"
             ],
             [
              0.2222222222222222,
              "#7201a8"
             ],
             [
              0.3333333333333333,
              "#9c179e"
             ],
             [
              0.4444444444444444,
              "#bd3786"
             ],
             [
              0.5555555555555556,
              "#d8576b"
             ],
             [
              0.6666666666666666,
              "#ed7953"
             ],
             [
              0.7777777777777778,
              "#fb9f3a"
             ],
             [
              0.8888888888888888,
              "#fdca26"
             ],
             [
              1,
              "#f0f921"
             ]
            ],
            "type": "heatmap"
           }
          ],
          "histogram": [
           {
            "marker": {
             "pattern": {
              "fillmode": "overlay",
              "size": 10,
              "solidity": 0.2
             }
            },
            "type": "histogram"
           }
          ],
          "histogram2d": [
           {
            "colorbar": {
             "outlinewidth": 0,
             "ticks": ""
            },
            "colorscale": [
             [
              0,
              "#0d0887"
             ],
             [
              0.1111111111111111,
              "#46039f"
             ],
             [
              0.2222222222222222,
              "#7201a8"
             ],
             [
              0.3333333333333333,
              "#9c179e"
             ],
             [
              0.4444444444444444,
              "#bd3786"
             ],
             [
              0.5555555555555556,
              "#d8576b"
             ],
             [
              0.6666666666666666,
              "#ed7953"
             ],
             [
              0.7777777777777778,
              "#fb9f3a"
             ],
             [
              0.8888888888888888,
              "#fdca26"
             ],
             [
              1,
              "#f0f921"
             ]
            ],
            "type": "histogram2d"
           }
          ],
          "histogram2dcontour": [
           {
            "colorbar": {
             "outlinewidth": 0,
             "ticks": ""
            },
            "colorscale": [
             [
              0,
              "#0d0887"
             ],
             [
              0.1111111111111111,
              "#46039f"
             ],
             [
              0.2222222222222222,
              "#7201a8"
             ],
             [
              0.3333333333333333,
              "#9c179e"
             ],
             [
              0.4444444444444444,
              "#bd3786"
             ],
             [
              0.5555555555555556,
              "#d8576b"
             ],
             [
              0.6666666666666666,
              "#ed7953"
             ],
             [
              0.7777777777777778,
              "#fb9f3a"
             ],
             [
              0.8888888888888888,
              "#fdca26"
             ],
             [
              1,
              "#f0f921"
             ]
            ],
            "type": "histogram2dcontour"
           }
          ],
          "mesh3d": [
           {
            "colorbar": {
             "outlinewidth": 0,
             "ticks": ""
            },
            "type": "mesh3d"
           }
          ],
          "parcoords": [
           {
            "line": {
             "colorbar": {
              "outlinewidth": 0,
              "ticks": ""
             }
            },
            "type": "parcoords"
           }
          ],
          "pie": [
           {
            "automargin": true,
            "type": "pie"
           }
          ],
          "scatter": [
           {
            "fillpattern": {
             "fillmode": "overlay",
             "size": 10,
             "solidity": 0.2
            },
            "type": "scatter"
           }
          ],
          "scatter3d": [
           {
            "line": {
             "colorbar": {
              "outlinewidth": 0,
              "ticks": ""
             }
            },
            "marker": {
             "colorbar": {
              "outlinewidth": 0,
              "ticks": ""
             }
            },
            "type": "scatter3d"
           }
          ],
          "scattercarpet": [
           {
            "marker": {
             "colorbar": {
              "outlinewidth": 0,
              "ticks": ""
             }
            },
            "type": "scattercarpet"
           }
          ],
          "scattergeo": [
           {
            "marker": {
             "colorbar": {
              "outlinewidth": 0,
              "ticks": ""
             }
            },
            "type": "scattergeo"
           }
          ],
          "scattergl": [
           {
            "marker": {
             "colorbar": {
              "outlinewidth": 0,
              "ticks": ""
             }
            },
            "type": "scattergl"
           }
          ],
          "scattermap": [
           {
            "marker": {
             "colorbar": {
              "outlinewidth": 0,
              "ticks": ""
             }
            },
            "type": "scattermap"
           }
          ],
          "scattermapbox": [
           {
            "marker": {
             "colorbar": {
              "outlinewidth": 0,
              "ticks": ""
             }
            },
            "type": "scattermapbox"
           }
          ],
          "scatterpolar": [
           {
            "marker": {
             "colorbar": {
              "outlinewidth": 0,
              "ticks": ""
             }
            },
            "type": "scatterpolar"
           }
          ],
          "scatterpolargl": [
           {
            "marker": {
             "colorbar": {
              "outlinewidth": 0,
              "ticks": ""
             }
            },
            "type": "scatterpolargl"
           }
          ],
          "scatterternary": [
           {
            "marker": {
             "colorbar": {
              "outlinewidth": 0,
              "ticks": ""
             }
            },
            "type": "scatterternary"
           }
          ],
          "surface": [
           {
            "colorbar": {
             "outlinewidth": 0,
             "ticks": ""
            },
            "colorscale": [
             [
              0,
              "#0d0887"
             ],
             [
              0.1111111111111111,
              "#46039f"
             ],
             [
              0.2222222222222222,
              "#7201a8"
             ],
             [
              0.3333333333333333,
              "#9c179e"
             ],
             [
              0.4444444444444444,
              "#bd3786"
             ],
             [
              0.5555555555555556,
              "#d8576b"
             ],
             [
              0.6666666666666666,
              "#ed7953"
             ],
             [
              0.7777777777777778,
              "#fb9f3a"
             ],
             [
              0.8888888888888888,
              "#fdca26"
             ],
             [
              1,
              "#f0f921"
             ]
            ],
            "type": "surface"
           }
          ],
          "table": [
           {
            "cells": {
             "fill": {
              "color": "#EBF0F8"
             },
             "line": {
              "color": "white"
             }
            },
            "header": {
             "fill": {
              "color": "#C8D4E3"
             },
             "line": {
              "color": "white"
             }
            },
            "type": "table"
           }
          ]
         },
         "layout": {
          "annotationdefaults": {
           "arrowcolor": "#2a3f5f",
           "arrowhead": 0,
           "arrowwidth": 1
          },
          "autotypenumbers": "strict",
          "coloraxis": {
           "colorbar": {
            "outlinewidth": 0,
            "ticks": ""
           }
          },
          "colorscale": {
           "diverging": [
            [
             0,
             "#8e0152"
            ],
            [
             0.1,
             "#c51b7d"
            ],
            [
             0.2,
             "#de77ae"
            ],
            [
             0.3,
             "#f1b6da"
            ],
            [
             0.4,
             "#fde0ef"
            ],
            [
             0.5,
             "#f7f7f7"
            ],
            [
             0.6,
             "#e6f5d0"
            ],
            [
             0.7,
             "#b8e186"
            ],
            [
             0.8,
             "#7fbc41"
            ],
            [
             0.9,
             "#4d9221"
            ],
            [
             1,
             "#276419"
            ]
           ],
           "sequential": [
            [
             0,
             "#0d0887"
            ],
            [
             0.1111111111111111,
             "#46039f"
            ],
            [
             0.2222222222222222,
             "#7201a8"
            ],
            [
             0.3333333333333333,
             "#9c179e"
            ],
            [
             0.4444444444444444,
             "#bd3786"
            ],
            [
             0.5555555555555556,
             "#d8576b"
            ],
            [
             0.6666666666666666,
             "#ed7953"
            ],
            [
             0.7777777777777778,
             "#fb9f3a"
            ],
            [
             0.8888888888888888,
             "#fdca26"
            ],
            [
             1,
             "#f0f921"
            ]
           ],
           "sequentialminus": [
            [
             0,
             "#0d0887"
            ],
            [
             0.1111111111111111,
             "#46039f"
            ],
            [
             0.2222222222222222,
             "#7201a8"
            ],
            [
             0.3333333333333333,
             "#9c179e"
            ],
            [
             0.4444444444444444,
             "#bd3786"
            ],
            [
             0.5555555555555556,
             "#d8576b"
            ],
            [
             0.6666666666666666,
             "#ed7953"
            ],
            [
             0.7777777777777778,
             "#fb9f3a"
            ],
            [
             0.8888888888888888,
             "#fdca26"
            ],
            [
             1,
             "#f0f921"
            ]
           ]
          },
          "colorway": [
           "#636efa",
           "#EF553B",
           "#00cc96",
           "#ab63fa",
           "#FFA15A",
           "#19d3f3",
           "#FF6692",
           "#B6E880",
           "#FF97FF",
           "#FECB52"
          ],
          "font": {
           "color": "#2a3f5f"
          },
          "geo": {
           "bgcolor": "white",
           "lakecolor": "white",
           "landcolor": "#E5ECF6",
           "showlakes": true,
           "showland": true,
           "subunitcolor": "white"
          },
          "hoverlabel": {
           "align": "left"
          },
          "hovermode": "closest",
          "mapbox": {
           "style": "light"
          },
          "paper_bgcolor": "white",
          "plot_bgcolor": "#E5ECF6",
          "polar": {
           "angularaxis": {
            "gridcolor": "white",
            "linecolor": "white",
            "ticks": ""
           },
           "bgcolor": "#E5ECF6",
           "radialaxis": {
            "gridcolor": "white",
            "linecolor": "white",
            "ticks": ""
           }
          },
          "scene": {
           "xaxis": {
            "backgroundcolor": "#E5ECF6",
            "gridcolor": "white",
            "gridwidth": 2,
            "linecolor": "white",
            "showbackground": true,
            "ticks": "",
            "zerolinecolor": "white"
           },
           "yaxis": {
            "backgroundcolor": "#E5ECF6",
            "gridcolor": "white",
            "gridwidth": 2,
            "linecolor": "white",
            "showbackground": true,
            "ticks": "",
            "zerolinecolor": "white"
           },
           "zaxis": {
            "backgroundcolor": "#E5ECF6",
            "gridcolor": "white",
            "gridwidth": 2,
            "linecolor": "white",
            "showbackground": true,
            "ticks": "",
            "zerolinecolor": "white"
           }
          },
          "shapedefaults": {
           "line": {
            "color": "#2a3f5f"
           }
          },
          "ternary": {
           "aaxis": {
            "gridcolor": "white",
            "linecolor": "white",
            "ticks": ""
           },
           "baxis": {
            "gridcolor": "white",
            "linecolor": "white",
            "ticks": ""
           },
           "bgcolor": "#E5ECF6",
           "caxis": {
            "gridcolor": "white",
            "linecolor": "white",
            "ticks": ""
           }
          },
          "title": {
           "x": 0.05
          },
          "xaxis": {
           "automargin": true,
           "gridcolor": "white",
           "linecolor": "white",
           "ticks": "",
           "title": {
            "standoff": 15
           },
           "zerolinecolor": "white",
           "zerolinewidth": 2
          },
          "yaxis": {
           "automargin": true,
           "gridcolor": "white",
           "linecolor": "white",
           "ticks": "",
           "title": {
            "standoff": 15
           },
           "zerolinecolor": "white",
           "zerolinewidth": 2
          }
         }
        },
        "title": {
         "text": "A2_x2: Generation Speed by Model and Parallelism"
        },
        "xaxis": {
         "anchor": "y",
         "categoryarray": [
          "Qwen3-1.7B",
          "Qwen3-4B",
          "qwen3-8b-ollama",
          "Qwen3-8B",
          "Qwen3-8B-AWQ",
          "qwen3-14b-ollama",
          "Qwen3-14B",
          "Qwen3-14B-INT8",
          "Qwen3-32B-GPTQ-Int8"
         ],
         "categoryorder": "array",
         "domain": [
          0,
          1
         ],
         "title": {
          "text": "model"
         }
        },
        "yaxis": {
         "anchor": "x",
         "domain": [
          0,
          1
         ],
         "title": {
          "text": "gen_tokens_per_second"
         }
        }
       }
      }
     },
     "metadata": {},
     "output_type": "display_data"
    },
    {
     "data": {
      "application/vnd.plotly.v1+json": {
       "config": {
        "plotlyServerURL": "https://plot.ly"
       },
       "data": [
        {
         "hovertemplate": "model=Qwen3-1.7B<br>input_tokens=%{x}<br>ttft=%{y}<br>parallel_from_name=%{marker.size}<extra></extra>",
         "legendgroup": "Qwen3-1.7B",
         "marker": {
          "color": "#636efa",
          "size": {
           "bdata": "AQEBAQEBAQ==",
           "dtype": "i1"
          },
          "sizemode": "area",
          "sizeref": 0.0025,
          "symbol": "circle"
         },
         "mode": "markers",
         "name": "Qwen3-1.7B",
         "orientation": "v",
         "showlegend": true,
         "type": "scatter",
         "x": {
          "bdata": "O3UbJytO8wOzYaM6kxM=",
          "dtype": "i2"
         },
         "xaxis": "x",
         "y": {
          "bdata": "mpmZmZkZIUBmZmZmZmb+PwrXo3A9ChNAexSuR+F6xD89CtejcD0aQMP1KFyPwglAMzMzMzMz6z8=",
          "dtype": "f8"
         },
         "yaxis": "y"
        },
        {
         "hovertemplate": "model=Qwen3-4B<br>input_tokens=%{x}<br>ttft=%{y}<br>parallel_from_name=%{marker.size}<extra></extra>",
         "legendgroup": "Qwen3-4B",
         "marker": {
          "color": "#EF553B",
          "size": {
           "bdata": "AQEBAQEBAQ==",
           "dtype": "i1"
          },
          "sizemode": "area",
          "sizeref": 0.0025,
          "symbol": "circle"
         },
         "mode": "markers",
         "name": "Qwen3-4B",
         "orientation": "v",
         "showlegend": true,
         "type": "scatter",
         "x": {
          "bdata": "O3UbJytO8wOzYaM6kxM=",
          "dtype": "i2"
         },
         "xaxis": "x",
         "y": {
          "bdata": "exSuR+F6NECamZmZmZkRQMP1KFyPwiZAw/UoXI/C1T8zMzMzMzMvQClcj8L1KB5Aj8L1KFyP/j8=",
          "dtype": "f8"
         },
         "yaxis": "y"
        },
        {
         "hovertemplate": "model=Qwen3-8B<br>input_tokens=%{x}<br>ttft=%{y}<br>parallel_from_name=%{marker.size}<extra></extra>",
         "legendgroup": "Qwen3-8B",
         "marker": {
          "color": "#ab63fa",
          "size": {
           "bdata": "AQEBAQEBAQ==",
           "dtype": "i1"
          },
          "sizemode": "area",
          "sizeref": 0.0025,
          "symbol": "circle"
         },
         "mode": "markers",
         "name": "Qwen3-8B",
         "orientation": "v",
         "showlegend": true,
         "type": "scatter",
         "x": {
          "bdata": "O3UbJytO8wOzYaM6kxM=",
          "dtype": "i2"
         },
         "xaxis": "x",
         "y": {
          "bdata": "MzMzMzNzPEBI4XoUrkccQPYoXI/CdTBA4XoUrkfh4j/sUbgehSs2QOF6FK5H4SZA16NwPQrXCUA=",
          "dtype": "f8"
         },
         "yaxis": "y"
        },
        {
         "hovertemplate": "model=Qwen3-14B-INT8<br>input_tokens=%{x}<br>ttft=%{y}<br>parallel_from_name=%{marker.size}<extra></extra>",
         "legendgroup": "Qwen3-14B-INT8",
         "marker": {
          "color": "#B6E880",
          "size": {
           "bdata": "AQEBAQEB",
           "dtype": "i1"
          },
          "sizemode": "area",
          "sizeref": 0.0025,
          "symbol": "circle"
         },
         "mode": "markers",
         "name": "Qwen3-14B-INT8",
         "orientation": "v",
         "showlegend": true,
         "type": "scatter",
         "x": {
          "bdata": "GycrTvMDs2GjOpMT",
          "dtype": "i2"
         },
         "xaxis": "x",
         "y": {
          "bdata": "zczMzMxMIEApXI/C9agzQHE9CtejcOU/pHA9CtdjOkCuR+F6FK4qQDMzMzMzMw1A",
          "dtype": "f8"
         },
         "yaxis": "y"
        },
        {
         "hovertemplate": "model=Qwen3-0.6B<br>input_tokens=%{x}<br>ttft=%{y}<br>parallel_from_name=%{marker.size}<extra></extra>",
         "legendgroup": "Qwen3-0.6B",
         "marker": {
          "color": "#FECB52",
          "size": {
           "bdata": "AQEBAQEBAQ==",
           "dtype": "i1"
          },
          "sizemode": "area",
          "sizeref": 0.0025,
          "symbol": "circle"
         },
         "mode": "markers",
         "name": "Qwen3-0.6B",
         "orientation": "v",
         "showlegend": true,
         "type": "scatter",
         "x": {
          "bdata": "O3UbJytO8wOzYaM6kxM=",
          "dtype": "i2"
         },
         "xaxis": "x",
         "y": {
          "bdata": "H4XrUbgeGEBI4XoUrkfxP6RwPQrXowhAexSuR+F6tD/D9Shcj8IRQIXrUbgehf8/KVyPwvUo3D8=",
          "dtype": "f8"
         },
         "yaxis": "y"
        }
       ],
       "layout": {
        "legend": {
         "itemsizing": "constant",
         "title": {
          "text": "model"
         },
         "tracegroupgap": 0
        },
        "template": {
         "data": {
          "bar": [
           {
            "error_x": {
             "color": "#2a3f5f"
            },
            "error_y": {
             "color": "#2a3f5f"
            },
            "marker": {
             "line": {
              "color": "#E5ECF6",
              "width": 0.5
             },
             "pattern": {
              "fillmode": "overlay",
              "size": 10,
              "solidity": 0.2
             }
            },
            "type": "bar"
           }
          ],
          "barpolar": [
           {
            "marker": {
             "line": {
              "color": "#E5ECF6",
              "width": 0.5
             },
             "pattern": {
              "fillmode": "overlay",
              "size": 10,
              "solidity": 0.2
             }
            },
            "type": "barpolar"
           }
          ],
          "carpet": [
           {
            "aaxis": {
             "endlinecolor": "#2a3f5f",
             "gridcolor": "white",
             "linecolor": "white",
             "minorgridcolor": "white",
             "startlinecolor": "#2a3f5f"
            },
            "baxis": {
             "endlinecolor": "#2a3f5f",
             "gridcolor": "white",
             "linecolor": "white",
             "minorgridcolor": "white",
             "startlinecolor": "#2a3f5f"
            },
            "type": "carpet"
           }
          ],
          "choropleth": [
           {
            "colorbar": {
             "outlinewidth": 0,
             "ticks": ""
            },
            "type": "choropleth"
           }
          ],
          "contour": [
           {
            "colorbar": {
             "outlinewidth": 0,
             "ticks": ""
            },
            "colorscale": [
             [
              0,
              "#0d0887"
             ],
             [
              0.1111111111111111,
              "#46039f"
             ],
             [
              0.2222222222222222,
              "#7201a8"
             ],
             [
              0.3333333333333333,
              "#9c179e"
             ],
             [
              0.4444444444444444,
              "#bd3786"
             ],
             [
              0.5555555555555556,
              "#d8576b"
             ],
             [
              0.6666666666666666,
              "#ed7953"
             ],
             [
              0.7777777777777778,
              "#fb9f3a"
             ],
             [
              0.8888888888888888,
              "#fdca26"
             ],
             [
              1,
              "#f0f921"
             ]
            ],
            "type": "contour"
           }
          ],
          "contourcarpet": [
           {
            "colorbar": {
             "outlinewidth": 0,
             "ticks": ""
            },
            "type": "contourcarpet"
           }
          ],
          "heatmap": [
           {
            "colorbar": {
             "outlinewidth": 0,
             "ticks": ""
            },
            "colorscale": [
             [
              0,
              "#0d0887"
             ],
             [
              0.1111111111111111,
              "#46039f"
             ],
             [
              0.2222222222222222,
              "#7201a8"
             ],
             [
              0.3333333333333333,
              "#9c179e"
             ],
             [
              0.4444444444444444,
              "#bd3786"
             ],
             [
              0.5555555555555556,
              "#d8576b"
             ],
             [
              0.6666666666666666,
              "#ed7953"
             ],
             [
              0.7777777777777778,
              "#fb9f3a"
             ],
             [
              0.8888888888888888,
              "#fdca26"
             ],
             [
              1,
              "#f0f921"
             ]
            ],
            "type": "heatmap"
           }
          ],
          "histogram": [
           {
            "marker": {
             "pattern": {
              "fillmode": "overlay",
              "size": 10,
              "solidity": 0.2
             }
            },
            "type": "histogram"
           }
          ],
          "histogram2d": [
           {
            "colorbar": {
             "outlinewidth": 0,
             "ticks": ""
            },
            "colorscale": [
             [
              0,
              "#0d0887"
             ],
             [
              0.1111111111111111,
              "#46039f"
             ],
             [
              0.2222222222222222,
              "#7201a8"
             ],
             [
              0.3333333333333333,
              "#9c179e"
             ],
             [
              0.4444444444444444,
              "#bd3786"
             ],
             [
              0.5555555555555556,
              "#d8576b"
             ],
             [
              0.6666666666666666,
              "#ed7953"
             ],
             [
              0.7777777777777778,
              "#fb9f3a"
             ],
             [
              0.8888888888888888,
              "#fdca26"
             ],
             [
              1,
              "#f0f921"
             ]
            ],
            "type": "histogram2d"
           }
          ],
          "histogram2dcontour": [
           {
            "colorbar": {
             "outlinewidth": 0,
             "ticks": ""
            },
            "colorscale": [
             [
              0,
              "#0d0887"
             ],
             [
              0.1111111111111111,
              "#46039f"
             ],
             [
              0.2222222222222222,
              "#7201a8"
             ],
             [
              0.3333333333333333,
              "#9c179e"
             ],
             [
              0.4444444444444444,
              "#bd3786"
             ],
             [
              0.5555555555555556,
              "#d8576b"
             ],
             [
              0.6666666666666666,
              "#ed7953"
             ],
             [
              0.7777777777777778,
              "#fb9f3a"
             ],
             [
              0.8888888888888888,
              "#fdca26"
             ],
             [
              1,
              "#f0f921"
             ]
            ],
            "type": "histogram2dcontour"
           }
          ],
          "mesh3d": [
           {
            "colorbar": {
             "outlinewidth": 0,
             "ticks": ""
            },
            "type": "mesh3d"
           }
          ],
          "parcoords": [
           {
            "line": {
             "colorbar": {
              "outlinewidth": 0,
              "ticks": ""
             }
            },
            "type": "parcoords"
           }
          ],
          "pie": [
           {
            "automargin": true,
            "type": "pie"
           }
          ],
          "scatter": [
           {
            "fillpattern": {
             "fillmode": "overlay",
             "size": 10,
             "solidity": 0.2
            },
            "type": "scatter"
           }
          ],
          "scatter3d": [
           {
            "line": {
             "colorbar": {
              "outlinewidth": 0,
              "ticks": ""
             }
            },
            "marker": {
             "colorbar": {
              "outlinewidth": 0,
              "ticks": ""
             }
            },
            "type": "scatter3d"
           }
          ],
          "scattercarpet": [
           {
            "marker": {
             "colorbar": {
              "outlinewidth": 0,
              "ticks": ""
             }
            },
            "type": "scattercarpet"
           }
          ],
          "scattergeo": [
           {
            "marker": {
             "colorbar": {
              "outlinewidth": 0,
              "ticks": ""
             }
            },
            "type": "scattergeo"
           }
          ],
          "scattergl": [
           {
            "marker": {
             "colorbar": {
              "outlinewidth": 0,
              "ticks": ""
             }
            },
            "type": "scattergl"
           }
          ],
          "scattermap": [
           {
            "marker": {
             "colorbar": {
              "outlinewidth": 0,
              "ticks": ""
             }
            },
            "type": "scattermap"
           }
          ],
          "scattermapbox": [
           {
            "marker": {
             "colorbar": {
              "outlinewidth": 0,
              "ticks": ""
             }
            },
            "type": "scattermapbox"
           }
          ],
          "scatterpolar": [
           {
            "marker": {
             "colorbar": {
              "outlinewidth": 0,
              "ticks": ""
             }
            },
            "type": "scatterpolar"
           }
          ],
          "scatterpolargl": [
           {
            "marker": {
             "colorbar": {
              "outlinewidth": 0,
              "ticks": ""
             }
            },
            "type": "scatterpolargl"
           }
          ],
          "scatterternary": [
           {
            "marker": {
             "colorbar": {
              "outlinewidth": 0,
              "ticks": ""
             }
            },
            "type": "scatterternary"
           }
          ],
          "surface": [
           {
            "colorbar": {
             "outlinewidth": 0,
             "ticks": ""
            },
            "colorscale": [
             [
              0,
              "#0d0887"
             ],
             [
              0.1111111111111111,
              "#46039f"
             ],
             [
              0.2222222222222222,
              "#7201a8"
             ],
             [
              0.3333333333333333,
              "#9c179e"
             ],
             [
              0.4444444444444444,
              "#bd3786"
             ],
             [
              0.5555555555555556,
              "#d8576b"
             ],
             [
              0.6666666666666666,
              "#ed7953"
             ],
             [
              0.7777777777777778,
              "#fb9f3a"
             ],
             [
              0.8888888888888888,
              "#fdca26"
             ],
             [
              1,
              "#f0f921"
             ]
            ],
            "type": "surface"
           }
          ],
          "table": [
           {
            "cells": {
             "fill": {
              "color": "#EBF0F8"
             },
             "line": {
              "color": "white"
             }
            },
            "header": {
             "fill": {
              "color": "#C8D4E3"
             },
             "line": {
              "color": "white"
             }
            },
            "type": "table"
           }
          ]
         },
         "layout": {
          "annotationdefaults": {
           "arrowcolor": "#2a3f5f",
           "arrowhead": 0,
           "arrowwidth": 1
          },
          "autotypenumbers": "strict",
          "coloraxis": {
           "colorbar": {
            "outlinewidth": 0,
            "ticks": ""
           }
          },
          "colorscale": {
           "diverging": [
            [
             0,
             "#8e0152"
            ],
            [
             0.1,
             "#c51b7d"
            ],
            [
             0.2,
             "#de77ae"
            ],
            [
             0.3,
             "#f1b6da"
            ],
            [
             0.4,
             "#fde0ef"
            ],
            [
             0.5,
             "#f7f7f7"
            ],
            [
             0.6,
             "#e6f5d0"
            ],
            [
             0.7,
             "#b8e186"
            ],
            [
             0.8,
             "#7fbc41"
            ],
            [
             0.9,
             "#4d9221"
            ],
            [
             1,
             "#276419"
            ]
           ],
           "sequential": [
            [
             0,
             "#0d0887"
            ],
            [
             0.1111111111111111,
             "#46039f"
            ],
            [
             0.2222222222222222,
             "#7201a8"
            ],
            [
             0.3333333333333333,
             "#9c179e"
            ],
            [
             0.4444444444444444,
             "#bd3786"
            ],
            [
             0.5555555555555556,
             "#d8576b"
            ],
            [
             0.6666666666666666,
             "#ed7953"
            ],
            [
             0.7777777777777778,
             "#fb9f3a"
            ],
            [
             0.8888888888888888,
             "#fdca26"
            ],
            [
             1,
             "#f0f921"
            ]
           ],
           "sequentialminus": [
            [
             0,
             "#0d0887"
            ],
            [
             0.1111111111111111,
             "#46039f"
            ],
            [
             0.2222222222222222,
             "#7201a8"
            ],
            [
             0.3333333333333333,
             "#9c179e"
            ],
            [
             0.4444444444444444,
             "#bd3786"
            ],
            [
             0.5555555555555556,
             "#d8576b"
            ],
            [
             0.6666666666666666,
             "#ed7953"
            ],
            [
             0.7777777777777778,
             "#fb9f3a"
            ],
            [
             0.8888888888888888,
             "#fdca26"
            ],
            [
             1,
             "#f0f921"
            ]
           ]
          },
          "colorway": [
           "#636efa",
           "#EF553B",
           "#00cc96",
           "#ab63fa",
           "#FFA15A",
           "#19d3f3",
           "#FF6692",
           "#B6E880",
           "#FF97FF",
           "#FECB52"
          ],
          "font": {
           "color": "#2a3f5f"
          },
          "geo": {
           "bgcolor": "white",
           "lakecolor": "white",
           "landcolor": "#E5ECF6",
           "showlakes": true,
           "showland": true,
           "subunitcolor": "white"
          },
          "hoverlabel": {
           "align": "left"
          },
          "hovermode": "closest",
          "mapbox": {
           "style": "light"
          },
          "paper_bgcolor": "white",
          "plot_bgcolor": "#E5ECF6",
          "polar": {
           "angularaxis": {
            "gridcolor": "white",
            "linecolor": "white",
            "ticks": ""
           },
           "bgcolor": "#E5ECF6",
           "radialaxis": {
            "gridcolor": "white",
            "linecolor": "white",
            "ticks": ""
           }
          },
          "scene": {
           "xaxis": {
            "backgroundcolor": "#E5ECF6",
            "gridcolor": "white",
            "gridwidth": 2,
            "linecolor": "white",
            "showbackground": true,
            "ticks": "",
            "zerolinecolor": "white"
           },
           "yaxis": {
            "backgroundcolor": "#E5ECF6",
            "gridcolor": "white",
            "gridwidth": 2,
            "linecolor": "white",
            "showbackground": true,
            "ticks": "",
            "zerolinecolor": "white"
           },
           "zaxis": {
            "backgroundcolor": "#E5ECF6",
            "gridcolor": "white",
            "gridwidth": 2,
            "linecolor": "white",
            "showbackground": true,
            "ticks": "",
            "zerolinecolor": "white"
           }
          },
          "shapedefaults": {
           "line": {
            "color": "#2a3f5f"
           }
          },
          "ternary": {
           "aaxis": {
            "gridcolor": "white",
            "linecolor": "white",
            "ticks": ""
           },
           "baxis": {
            "gridcolor": "white",
            "linecolor": "white",
            "ticks": ""
           },
           "bgcolor": "#E5ECF6",
           "caxis": {
            "gridcolor": "white",
            "linecolor": "white",
            "ticks": ""
           }
          },
          "title": {
           "x": 0.05
          },
          "xaxis": {
           "automargin": true,
           "gridcolor": "white",
           "linecolor": "white",
           "ticks": "",
           "title": {
            "standoff": 15
           },
           "zerolinecolor": "white",
           "zerolinewidth": 2
          },
          "yaxis": {
           "automargin": true,
           "gridcolor": "white",
           "linecolor": "white",
           "ticks": "",
           "title": {
            "standoff": 15
           },
           "zerolinecolor": "white",
           "zerolinewidth": 2
          }
         }
        },
        "title": {
         "text": "A2_x2: TTFT vs Input Length"
        },
        "xaxis": {
         "anchor": "y",
         "domain": [
          0,
          1
         ],
         "title": {
          "text": "input_tokens"
         }
        },
        "yaxis": {
         "anchor": "x",
         "domain": [
          0,
          1
         ],
         "title": {
          "text": "ttft"
         }
        }
       }
      }
     },
     "metadata": {},
     "output_type": "display_data"
    }
   ],
   "source": [
    "\n",
    "# EDA for A2_x2 GPU\n",
    "a2_x2_df = clean_df[clean_df['gpu'] == 'A2_x2']\n",
    "\n",
    "print(f\"A2_x2 Dataset shape: {a2_x2_df.shape}\")\n",
    "print(f\"Models available: {sorted(a2_x2_df['model'].unique())}\")\n",
    "print(f\"Input lengths: {sorted(a2_x2_df['input_len_from_name'].unique())}\")\n",
    "print(f\"Parallel requests: {sorted(a2_x2_df['parallel_from_name'].unique())}\")\n",
    "\n",
    "# Performance by model and parallelism\n",
    "fig_a2_perf = px.box(a2_x2_df, x='model', y='gen_tokens_per_second', color='parallel_from_name',\n",
    "                     title='A2_x2: Generation Speed by Model and Parallelism',\n",
    "                     category_orders={'model': models_by_size})\n",
    "fig_a2_perf.show()\n",
    "\n",
    "a2_x2_df = a2_x2_df[a2_x2_df['parallel_from_name'] == 1]\n",
    "\n",
    "# TTFT analysis for A2_x2\n",
    "fig_a2_ttft = px.scatter(a2_x2_df, x='input_tokens', y='ttft', \n",
    "                        color='model', size='parallel_from_name',\n",
    "                        title='A2_x2: TTFT vs Input Length',\n",
    "                        category_orders={'model': models_by_size})\n",
    "fig_a2_ttft.show()\n"
   ]
  },
  {
   "cell_type": "code",
   "execution_count": null,
   "id": "5e684ecb",
   "metadata": {},
   "outputs": [],
   "source": []
  }
 ],
 "metadata": {
  "kernelspec": {
   "display_name": ".venv",
   "language": "python",
   "name": "python3"
  },
  "language_info": {
   "codemirror_mode": {
    "name": "ipython",
    "version": 3
   },
   "file_extension": ".py",
   "mimetype": "text/x-python",
   "name": "python",
   "nbconvert_exporter": "python",
   "pygments_lexer": "ipython3",
   "version": "3.12.3"
  }
 },
 "nbformat": 4,
 "nbformat_minor": 5
}
